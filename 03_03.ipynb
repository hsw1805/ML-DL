{
  "nbformat": 4,
  "nbformat_minor": 0,
  "metadata": {
    "colab": {
      "provenance": [],
      "authorship_tag": "ABX9TyMJm2MbzZ4yHIUK49yAJB3K",
      "include_colab_link": true
    },
    "kernelspec": {
      "name": "python3",
      "display_name": "Python 3"
    },
    "language_info": {
      "name": "python"
    }
  },
  "cells": [
    {
      "cell_type": "markdown",
      "metadata": {
        "id": "view-in-github",
        "colab_type": "text"
      },
      "source": [
        "<a href=\"https://colab.research.google.com/github/hsw1805/ML-DL/blob/main/03_03.ipynb\" target=\"_parent\"><img src=\"https://colab.research.google.com/assets/colab-badge.svg\" alt=\"Open In Colab\"/></a>"
      ]
    },
    {
      "cell_type": "markdown",
      "source": [
        "# 다중회귀\n",
        "\n",
        "여러 특성을 사용하여 선형 회귀 모델 훈련\n",
        "\n",
        "여러 특성을 사용하면 차원이 늘어남\n",
        "\n",
        "- 특성공학이란?\n",
        "  \n",
        "  - 기존 특성을 사용하여 새로운 특성을 뽑아내는 작업\n",
        "  \n",
        "  - ex_) 길이 특성, 높이 특성으로 길이 * 높이 = 너비 특성 뽑아내기\n",
        "   "
      ],
      "metadata": {
        "id": "3BM1ogwn5eLb"
      }
    },
    {
      "cell_type": "markdown",
      "source": [
        "### 데이터 분석 라이브러리로 numpy도 있지만, pandas도 있다.\n",
        "\n",
        "**pandas 특징**\n",
        "\n",
        "- 데이터 프래임이라는 판다스의 핵심 데이터 구조로 많은 기능 제공\n",
        "\n",
        "- np배열로 쉽게 바꿀 수 있음\n",
        "\n",
        "- csv파일 저장 및 읽어오기 가능\n",
        "\n"
      ],
      "metadata": {
        "id": "9EPQ5Tzk5_2b"
      }
    },
    {
      "cell_type": "code",
      "source": [
        "import pandas as pd\n",
        "\n",
        "df = pd.read_csv(\"https://bit.ly/perch_csv_data\")\n",
        "\n",
        "perch_full = df.to_numpy()\n",
        "print(perch_full)"
      ],
      "metadata": {
        "colab": {
          "base_uri": "https://localhost:8080/"
        },
        "id": "ka33Fawe6tnv",
        "outputId": "94b2db75-cb0e-4ea3-ea2b-659e7f1f1c7f"
      },
      "execution_count": 19,
      "outputs": [
        {
          "output_type": "stream",
          "name": "stdout",
          "text": [
            "[[ 8.4   2.11  1.41]\n",
            " [13.7   3.53  2.  ]\n",
            " [15.    3.82  2.43]\n",
            " [16.2   4.59  2.63]\n",
            " [17.4   4.59  2.94]\n",
            " [18.    5.22  3.32]\n",
            " [18.7   5.2   3.12]\n",
            " [19.    5.64  3.05]\n",
            " [19.6   5.14  3.04]\n",
            " [20.    5.08  2.77]\n",
            " [21.    5.69  3.56]\n",
            " [21.    5.92  3.31]\n",
            " [21.    5.69  3.67]\n",
            " [21.3   6.38  3.53]\n",
            " [22.    6.11  3.41]\n",
            " [22.    5.64  3.52]\n",
            " [22.    6.11  3.52]\n",
            " [22.    5.88  3.52]\n",
            " [22.    5.52  4.  ]\n",
            " [22.5   5.86  3.62]\n",
            " [22.5   6.79  3.62]\n",
            " [22.7   5.95  3.63]\n",
            " [23.    5.22  3.63]\n",
            " [23.5   6.28  3.72]\n",
            " [24.    7.29  3.72]\n",
            " [24.    6.38  3.82]\n",
            " [24.6   6.73  4.17]\n",
            " [25.    6.44  3.68]\n",
            " [25.6   6.56  4.24]\n",
            " [26.5   7.17  4.14]\n",
            " [27.3   8.32  5.14]\n",
            " [27.5   7.17  4.34]\n",
            " [27.5   7.05  4.34]\n",
            " [27.5   7.28  4.57]\n",
            " [28.    7.82  4.2 ]\n",
            " [28.7   7.59  4.64]\n",
            " [30.    7.62  4.77]\n",
            " [32.8  10.03  6.02]\n",
            " [34.5  10.26  6.39]\n",
            " [35.   11.49  7.8 ]\n",
            " [36.5  10.88  6.86]\n",
            " [36.   10.61  6.74]\n",
            " [37.   10.84  6.26]\n",
            " [37.   10.57  6.37]\n",
            " [39.   11.14  7.49]\n",
            " [39.   11.14  6.  ]\n",
            " [39.   12.43  7.35]\n",
            " [40.   11.93  7.11]\n",
            " [40.   11.73  7.22]\n",
            " [40.   12.38  7.46]\n",
            " [40.   11.14  6.63]\n",
            " [42.   12.8   6.87]\n",
            " [43.   11.93  7.28]\n",
            " [43.   12.51  7.42]\n",
            " [43.5  12.6   8.14]\n",
            " [44.   12.49  7.6 ]]\n"
          ]
        }
      ]
    },
    {
      "cell_type": "markdown",
      "source": [
        "### 데이터는 이전 데이터와 동일"
      ],
      "metadata": {
        "id": "15bSLsTo7Zk7"
      }
    },
    {
      "cell_type": "code",
      "source": [
        "import numpy as np\n",
        "\n",
        "perch_length = np.array([8.4, 13.7, 15.0, 16.2, 17.4, 18.0, 18.7, 19.0, 19.6, 20.0, 21.0,\n",
        "       21.0, 21.0, 21.3, 22.0, 22.0, 22.0, 22.0, 22.0, 22.5, 22.5, 22.7,\n",
        "       23.0, 23.5, 24.0, 24.0, 24.6, 25.0, 25.6, 26.5, 27.3, 27.5, 27.5,\n",
        "       27.5, 28.0, 28.7, 30.0, 32.8, 34.5, 35.0, 36.5, 36.0, 37.0, 37.0,\n",
        "       39.0, 39.0, 39.0, 40.0, 40.0, 40.0, 40.0, 42.0, 43.0, 43.0, 43.5,\n",
        "       44.0])\n",
        "perch_weight = np.array([5.9, 32.0, 40.0, 51.5, 70.0, 100.0, 78.0, 80.0, 85.0, 85.0, 110.0,\n",
        "       115.0, 125.0, 130.0, 120.0, 120.0, 130.0, 135.0, 110.0, 130.0,\n",
        "       150.0, 145.0, 150.0, 170.0, 225.0, 145.0, 188.0, 180.0, 197.0,\n",
        "       218.0, 300.0, 260.0, 265.0, 250.0, 250.0, 300.0, 320.0, 514.0,\n",
        "       556.0, 840.0, 685.0, 700.0, 700.0, 690.0, 900.0, 650.0, 820.0,\n",
        "       850.0, 900.0, 1015.0, 820.0, 1100.0, 1000.0, 1100.0, 1000.0,\n",
        "       1000.0])\n"
      ],
      "metadata": {
        "id": "Kgh3nS7U7Qo7"
      },
      "execution_count": 20,
      "outputs": []
    },
    {
      "cell_type": "code",
      "source": [
        "from sklearn.model_selection import train_test_split\n",
        "\n",
        "train_input, test_input, train_target, test_target = train_test_split(perch_full, perch_weight, random_state = 42)\n",
        "\n",
        "train_input.shape"
      ],
      "metadata": {
        "colab": {
          "base_uri": "https://localhost:8080/"
        },
        "id": "5VXY50uT7xVh",
        "outputId": "68a0bb34-5c7a-4ae2-f919-3051e2bc3d11"
      },
      "execution_count": 21,
      "outputs": [
        {
          "output_type": "execute_result",
          "data": {
            "text/plain": [
              "(42, 3)"
            ]
          },
          "metadata": {},
          "execution_count": 21
        }
      ]
    },
    {
      "cell_type": "markdown",
      "source": [
        "###사이킷런의 변환기\n",
        "\n",
        "데이터의 feature나 전처리 등을 바꿔주는 역할,,?\n",
        "\n",
        "이거 예제보면 금방 이해 가능!\n",
        "\n",
        "여기선 PolynomialFeatures 변환기 사용\n",
        "\n",
        "2,3 데이터를 1,2,3,4,6,9의 6차원 데이터로 변환해주었다"
      ],
      "metadata": {
        "id": "VRkGwpme9DBK"
      }
    },
    {
      "cell_type": "code",
      "source": [
        "from sklearn.preprocessing import PolynomialFeatures\n",
        "\n",
        "poly = PolynomialFeatures()\n",
        "\n",
        "poly.fit([[1,2]])     #여기서는 그냥 차원만 입력해주는 듯?\n",
        "print(poly.transform([[4,5]]))    #1포함해서 자기자신 제곱과 data의 곱 추가"
      ],
      "metadata": {
        "colab": {
          "base_uri": "https://localhost:8080/"
        },
        "id": "nHLNz1nm9OJH",
        "outputId": "4e813c0b-954b-425c-f3ae-7fca37e4ac9c"
      },
      "execution_count": 22,
      "outputs": [
        {
          "output_type": "stream",
          "name": "stdout",
          "text": [
            "[[ 1.  4.  5. 16. 20. 25.]]\n"
          ]
        }
      ]
    },
    {
      "cell_type": "markdown",
      "source": [
        "**왜 1이 추가될까?**\n",
        "\n",
        "선형 방정식은 a * x1 + b * x2 + c * x3 + ... + d * 1이렇게 되는 구조\n",
        "\n",
        "절편의 값인 1을 항상 곱해주는 것!\n",
        "\n",
        "예제\n",
        "\n",
        "무게 = a * 길이 + b * 높이 + c * 두께 + d * 1\n",
        "\n",
        "이면 특성은 (길이, 높이, 두께, 1)\n",
        "\n",
        "하지만 PolynomialFeatures(include_bias=False)로 하게 되면 1은 없어짐"
      ],
      "metadata": {
        "id": "dBW_B1w4-PHF"
      }
    },
    {
      "cell_type": "code",
      "source": [
        "poly = PolynomialFeatures(include_bias=False)\n",
        "\n",
        "poly.fit(train_input)\n",
        "train_poly = poly.transform(train_input)"
      ],
      "metadata": {
        "id": "-pU7YsLn9cRm"
      },
      "execution_count": 23,
      "outputs": []
    },
    {
      "cell_type": "code",
      "source": [
        "poly.get_feature_names_out()"
      ],
      "metadata": {
        "colab": {
          "base_uri": "https://localhost:8080/"
        },
        "id": "0AGAksk_-_6a",
        "outputId": "40ebb00b-7361-4492-f513-528788fe0128"
      },
      "execution_count": 24,
      "outputs": [
        {
          "output_type": "execute_result",
          "data": {
            "text/plain": [
              "array(['x0', 'x1', 'x2', 'x0^2', 'x0 x1', 'x0 x2', 'x1^2', 'x1 x2',\n",
              "       'x2^2'], dtype=object)"
            ]
          },
          "metadata": {},
          "execution_count": 24
        }
      ]
    },
    {
      "cell_type": "code",
      "source": [
        "test_poly = poly.transform(test_input)"
      ],
      "metadata": {
        "id": "HosQt7eUBR1A"
      },
      "execution_count": 26,
      "outputs": []
    },
    {
      "cell_type": "markdown",
      "source": [
        "### transform한 data로 선형회귀 하기"
      ],
      "metadata": {
        "id": "K17rJJedBa6R"
      }
    },
    {
      "cell_type": "code",
      "source": [
        "from sklearn.linear_model import LinearRegression\n",
        "\n",
        "lr = LinearRegression()\n",
        "lr.fit(train_poly, train_target)\n",
        "lr.score(train_poly, train_target)"
      ],
      "metadata": {
        "colab": {
          "base_uri": "https://localhost:8080/"
        },
        "id": "7sQ1t8I2BaM4",
        "outputId": "01b8d033-35b4-4081-8f29-dce0583fc240"
      },
      "execution_count": 27,
      "outputs": [
        {
          "output_type": "execute_result",
          "data": {
            "text/plain": [
              "0.9903183436982125"
            ]
          },
          "metadata": {},
          "execution_count": 27
        }
      ]
    },
    {
      "cell_type": "code",
      "source": [
        "lr.score(test_poly, test_target)"
      ],
      "metadata": {
        "colab": {
          "base_uri": "https://localhost:8080/"
        },
        "id": "KQFEz6ZABtor",
        "outputId": "a7c88120-4de0-4430-b5c6-48e3e53abe5b"
      },
      "execution_count": 28,
      "outputs": [
        {
          "output_type": "execute_result",
          "data": {
            "text/plain": [
              "0.9714559911594111"
            ]
          },
          "metadata": {},
          "execution_count": 28
        }
      ]
    },
    {
      "cell_type": "markdown",
      "source": [
        "### polynomial에서 degree를 5로 올려 다시 학습시켜보기"
      ],
      "metadata": {
        "id": "yiikq6L7B1QU"
      }
    },
    {
      "cell_type": "code",
      "source": [
        "poly = PolynomialFeatures(degree=5, include_bias = False)\n",
        "poly.fit(train_input)\n",
        "train_poly = poly.transform(train_input)\n",
        "\n",
        "test_poly = poly.transform(test_input)\n"
      ],
      "metadata": {
        "id": "HfAJbDZsB6gU"
      },
      "execution_count": 29,
      "outputs": []
    },
    {
      "cell_type": "markdown",
      "source": [
        "### 이 경우 train에서는 높은 점수를 기대할 수 있지만, test에서는 낮은 점수가 나온다\n",
        "\n",
        "###왜???\n",
        "- overfitting(과대적합)이 되었기 때문에!"
      ],
      "metadata": {
        "id": "KpylmCO2C0O9"
      }
    },
    {
      "cell_type": "code",
      "source": [
        "lr1 = LinearRegression()\n",
        "lr1.fit(train_poly, train_target)\n",
        "lr1.score(train_poly, train_target)\n",
        "lr1.score(test_poly, test_target)"
      ],
      "metadata": {
        "colab": {
          "base_uri": "https://localhost:8080/"
        },
        "id": "o7xR1qTvCNxR",
        "outputId": "7bde0e55-3a85-4f44-c587-636c79f88304"
      },
      "execution_count": 30,
      "outputs": [
        {
          "output_type": "execute_result",
          "data": {
            "text/plain": [
              "-144.40579436844948"
            ]
          },
          "metadata": {},
          "execution_count": 30
        }
      ]
    },
    {
      "cell_type": "markdown",
      "source": [
        "### 여러 feature을 쓰고 싶은데,,, 과적합을 피할 방법이 없을까??\n",
        "\n",
        "### regularizatoin 사용하기!"
      ],
      "metadata": {
        "id": "ydpxTh6gCzcQ"
      }
    },
    {
      "cell_type": "code",
      "source": [
        "\n",
        "#standardScaler을 통해 데이터 값을 정규화 시키기\n",
        "from sklearn.preprocessing import StandardScaler\n",
        "\n",
        "\n",
        "ss = StandardScaler()\n",
        "ss.fit(train_poly)\n",
        "train_scaled = ss.transform(train_poly)\n",
        "test_scaled = ss.transform(test_poly)"
      ],
      "metadata": {
        "id": "ERgrENJSV2fq"
      },
      "execution_count": 31,
      "outputs": []
    },
    {
      "cell_type": "markdown",
      "source": [
        "### 릿지,라쏘는 선형회귀 + 규제까지 추가한 것\n",
        "\n",
        "- 릿지\n",
        "  - 계수를 제곱한 값을 기준으로 규제\n",
        "- 라쏘\n",
        "  - 계수의 절댓값을 기준으로 규제\n",
        "\n",
        "보통 릿지를 선호함\n",
        "\n",
        "왜?? -> 라쏘는 규제를 통해 계수를 0으로 만들 수 있기 때문에!"
      ],
      "metadata": {
        "id": "TPbFSKWlWP60"
      }
    },
    {
      "cell_type": "markdown",
      "source": [
        "## 릿지"
      ],
      "metadata": {
        "id": "_JibzMFgX5ZL"
      }
    },
    {
      "cell_type": "code",
      "source": [
        "#릿지로 정규화하기\n",
        "from sklearn.linear_model import Ridge\n",
        "ridge = Ridge()\n",
        "ridge.fit(train_scaled, train_target)\n",
        "print(ridge.score(train_scaled, train_target))\n"
      ],
      "metadata": {
        "colab": {
          "base_uri": "https://localhost:8080/"
        },
        "id": "XpG9CTggWpsu",
        "outputId": "62cf5017-5368-478b-befd-e1878fc66c2c"
      },
      "execution_count": 32,
      "outputs": [
        {
          "output_type": "stream",
          "name": "stdout",
          "text": [
            "0.9896101671037343\n"
          ]
        }
      ]
    },
    {
      "cell_type": "code",
      "source": [
        "print(ridge.score(test_scaled, test_target))"
      ],
      "metadata": {
        "colab": {
          "base_uri": "https://localhost:8080/"
        },
        "id": "-agljLyAW4Ku",
        "outputId": "af332d28-3bda-4c27-e1b9-bbb06bf25234"
      },
      "execution_count": 33,
      "outputs": [
        {
          "output_type": "stream",
          "name": "stdout",
          "text": [
            "0.9790693977615387\n"
          ]
        }
      ]
    },
    {
      "cell_type": "markdown",
      "source": [
        "### 규제 정도인 alpha값을 적당한 값으로 구해서 해보자"
      ],
      "metadata": {
        "id": "QqfBt1JdW_b5"
      }
    },
    {
      "cell_type": "code",
      "source": [
        "import matplotlib.pyplot as plt\n",
        "\n",
        "train_score=[]\n",
        "test_score=[]\n",
        "\n",
        "alpha_list = [0.001, 0.01, 0.1, 1, 10,100]\n",
        "for alpha in alpha_list:\n",
        "  ridge = Ridge(alpha=alpha)\n",
        "  ridge.fit(train_scaled, train_target)\n",
        "  train_score.append(ridge.score(train_scaled, train_target))\n",
        "  test_score.append(ridge.score(test_scaled, test_target))\n",
        "\n",
        "\n",
        "plt.plot(np.log10(alpha_list), train_score)\n",
        "plt.plot(np.log10(alpha_list), test_score)\n",
        "\n",
        "plt.xlabel('alpha')\n",
        "plt.ylabel('R^2')\n",
        "plt.show()"
      ],
      "metadata": {
        "colab": {
          "base_uri": "https://localhost:8080/",
          "height": 449
        },
        "id": "qffwKnYCW4GY",
        "outputId": "5b06244a-5370-4d71-f3aa-a90b9fc91898"
      },
      "execution_count": 34,
      "outputs": [
        {
          "output_type": "display_data",
          "data": {
            "text/plain": [
              "<Figure size 640x480 with 1 Axes>"
            ],
            "image/png": "[encoded data removed]"
          },
          "metadata": {}
        }
      ]
    },
    {
      "cell_type": "markdown",
      "source": [
        "## 라쏘"
      ],
      "metadata": {
        "id": "fZDdX3XpX7P-"
      }
    },
    {
      "cell_type": "code",
      "source": [
        "from sklearn.linear_model import Lasso\n",
        "lasso = Lasso(alpha= 10)\n",
        "lasso.fit(train_scaled, train_target)\n",
        "print(lasso.score(train_scaled, train_target))\n",
        "print(lasso.score(test_scaled, test_target))"
      ],
      "metadata": {
        "colab": {
          "base_uri": "https://localhost:8080/"
        },
        "id": "manJ1mawX8df",
        "outputId": "bfd4b6a4-572c-44fe-8f6b-9bcef1927cae"
      },
      "execution_count": 35,
      "outputs": [
        {
          "output_type": "stream",
          "name": "stdout",
          "text": [
            "0.9888067471131867\n",
            "0.9824470598706695\n"
          ]
        }
      ]
    },
    {
      "cell_type": "code",
      "source": [
        "print(np.sum(lasso.coef_== 0))"
      ],
      "metadata": {
        "colab": {
          "base_uri": "https://localhost:8080/"
        },
        "id": "blmGAhE9Ch3R",
        "outputId": "8bcb9219-355c-4b14-883d-6dd270be29f5"
      },
      "execution_count": 37,
      "outputs": [
        {
          "output_type": "stream",
          "name": "stdout",
          "text": [
            "40\n"
          ]
        }
      ]
    }
  ]
}