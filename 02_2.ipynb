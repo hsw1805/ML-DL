{
  "nbformat": 4,
  "nbformat_minor": 0,
  "metadata": {
    "colab": {
      "provenance": [],
      "authorship_tag": "ABX9TyPMTkAgZ+XYqm2zWEGL/nN5",
      "include_colab_link": true
    },
    "kernelspec": {
      "name": "python3",
      "display_name": "Python 3"
    },
    "language_info": {
      "name": "python"
    }
  },
  "cells": [
    {
      "cell_type": "markdown",
      "metadata": {
        "id": "view-in-github",
        "colab_type": "text"
      },
      "source": [
        "<a href=\"https://colab.research.google.com/github/hsw1805/ML-DL/blob/main/02_2.ipynb\" target=\"_parent\"><img src=\"https://colab.research.google.com/assets/colab-badge.svg\" alt=\"Open In Colab\"/></a>"
      ]
    },
    {
      "cell_type": "markdown",
      "source": [
        "#데이터 전처리\n"
      ],
      "metadata": {
        "id": "9TIsYRVXebUk"
      }
    },
    {
      "cell_type": "code",
      "execution_count": 1,
      "metadata": {
        "id": "fD9AltOEeHdL"
      },
      "outputs": [],
      "source": [
        "fish_length = [25.4, 26.3, 26.5, 29.0, 29.0, 29.7, 29.7, 30.0, 30.0, 30.7, 31.0, 31.0,\n",
        "                31.5, 32.0, 32.0, 32.0, 33.0, 33.0, 33.5, 33.5, 34.0, 34.0, 34.5, 35.0,\n",
        "                35.0, 35.0, 35.0, 36.0, 36.0, 37.0, 38.5, 38.5, 39.5, 41.0, 41.0, 9.8,\n",
        "                10.5, 10.6, 11.0, 11.2, 11.3, 11.8, 11.8, 12.0, 12.2, 12.4, 13.0, 14.3, 15.0]\n",
        "fish_weight = [242.0, 290.0, 340.0, 363.0, 430.0, 450.0, 500.0, 390.0, 450.0, 500.0, 475.0, 500.0,\n",
        "                500.0, 340.0, 600.0, 600.0, 700.0, 700.0, 610.0, 650.0, 575.0, 685.0, 620.0, 680.0,\n",
        "                700.0, 725.0, 720.0, 714.0, 850.0, 1000.0, 920.0, 955.0, 925.0, 975.0, 950.0, 6.7,\n",
        "                7.5, 7.0, 9.7, 9.8, 8.7, 10.0, 9.9, 9.8, 12.2, 13.4, 12.2, 19.7, 19.9]"
      ]
    },
    {
      "cell_type": "markdown",
      "source": [
        "np.column_stack(([1,2,3],[4,5,6]))\n",
        "\n",
        "결과값 => array([[1,4],[2,5],[3,6]])"
      ],
      "metadata": {
        "id": "jAo7RzEifUJ9"
      }
    },
    {
      "cell_type": "code",
      "source": [
        "import numpy as np\n",
        "fish_data = np.column_stack((fish_length,fish_weight))"
      ],
      "metadata": {
        "id": "6073dDzWe6O0"
      },
      "execution_count": 4,
      "outputs": []
    },
    {
      "cell_type": "code",
      "source": [
        "fish_data"
      ],
      "metadata": {
        "colab": {
          "base_uri": "https://localhost:8080/"
        },
        "id": "nVCYpempgxaP",
        "outputId": "f88273d0-71b0-4f29-f8c1-3d56e7aaebf0"
      },
      "execution_count": 5,
      "outputs": [
        {
          "output_type": "execute_result",
          "data": {
            "text/plain": [
              "array([[  25.4,  242. ],\n",
              "       [  26.3,  290. ],\n",
              "       [  26.5,  340. ],\n",
              "       [  29. ,  363. ],\n",
              "       [  29. ,  430. ],\n",
              "       [  29.7,  450. ],\n",
              "       [  29.7,  500. ],\n",
              "       [  30. ,  390. ],\n",
              "       [  30. ,  450. ],\n",
              "       [  30.7,  500. ],\n",
              "       [  31. ,  475. ],\n",
              "       [  31. ,  500. ],\n",
              "       [  31.5,  500. ],\n",
              "       [  32. ,  340. ],\n",
              "       [  32. ,  600. ],\n",
              "       [  32. ,  600. ],\n",
              "       [  33. ,  700. ],\n",
              "       [  33. ,  700. ],\n",
              "       [  33.5,  610. ],\n",
              "       [  33.5,  650. ],\n",
              "       [  34. ,  575. ],\n",
              "       [  34. ,  685. ],\n",
              "       [  34.5,  620. ],\n",
              "       [  35. ,  680. ],\n",
              "       [  35. ,  700. ],\n",
              "       [  35. ,  725. ],\n",
              "       [  35. ,  720. ],\n",
              "       [  36. ,  714. ],\n",
              "       [  36. ,  850. ],\n",
              "       [  37. , 1000. ],\n",
              "       [  38.5,  920. ],\n",
              "       [  38.5,  955. ],\n",
              "       [  39.5,  925. ],\n",
              "       [  41. ,  975. ],\n",
              "       [  41. ,  950. ],\n",
              "       [   9.8,    6.7],\n",
              "       [  10.5,    7.5],\n",
              "       [  10.6,    7. ],\n",
              "       [  11. ,    9.7],\n",
              "       [  11.2,    9.8],\n",
              "       [  11.3,    8.7],\n",
              "       [  11.8,   10. ],\n",
              "       [  11.8,    9.9],\n",
              "       [  12. ,    9.8],\n",
              "       [  12.2,   12.2],\n",
              "       [  12.4,   13.4],\n",
              "       [  13. ,   12.2],\n",
              "       [  14.3,   19.7],\n",
              "       [  15. ,   19.9]])"
            ]
          },
          "metadata": {},
          "execution_count": 5
        }
      ]
    },
    {
      "cell_type": "code",
      "source": [
        "print(fish_data[:5])"
      ],
      "metadata": {
        "colab": {
          "base_uri": "https://localhost:8080/"
        },
        "id": "bmZcjEcDg65D",
        "outputId": "92c731c7-1d67-445c-e69b-637024532f7f"
      },
      "execution_count": 6,
      "outputs": [
        {
          "output_type": "stream",
          "name": "stdout",
          "text": [
            "[[ 25.4 242. ]\n",
            " [ 26.3 290. ]\n",
            " [ 26.5 340. ]\n",
            " [ 29.  363. ]\n",
            " [ 29.  430. ]]\n"
          ]
        }
      ]
    },
    {
      "cell_type": "markdown",
      "source": [
        "np.concatenate()하게 되면 가로로 붙여줌"
      ],
      "metadata": {
        "id": "JOuG5K-ukS8F"
      }
    },
    {
      "cell_type": "code",
      "source": [
        "fish_target = np.concatenate((np.ones(35), np.zeros(14)))\n",
        "print(fish_target)"
      ],
      "metadata": {
        "colab": {
          "base_uri": "https://localhost:8080/"
        },
        "id": "GsfBn2W5hM0U",
        "outputId": "c4db5d8c-62ab-4311-9d61-96472856be3f"
      },
      "execution_count": 7,
      "outputs": [
        {
          "output_type": "stream",
          "name": "stdout",
          "text": [
            "[1. 1. 1. 1. 1. 1. 1. 1. 1. 1. 1. 1. 1. 1. 1. 1. 1. 1. 1. 1. 1. 1. 1. 1.\n",
            " 1. 1. 1. 1. 1. 1. 1. 1. 1. 1. 1. 0. 0. 0. 0. 0. 0. 0. 0. 0. 0. 0. 0. 0.\n",
            " 0.]\n"
          ]
        }
      ]
    },
    {
      "cell_type": "markdown",
      "source": [],
      "metadata": {
        "id": "8SCW7psxeasW"
      }
    },
    {
      "cell_type": "markdown",
      "source": [
        "##훈련 세트/ 테스트 세트 나누기\n",
        "\n",
        "굳이 우리가 나눌 필요 없이 sklearn에서 train_test_split모듈 제공"
      ],
      "metadata": {
        "id": "Gjk21aeMkbj2"
      }
    },
    {
      "cell_type": "code",
      "source": [
        "from sklearn.model_selection import train_test_split\n",
        "train_input, test_input, train_target, test_target = train_test_split(fish_data, fish_target, random_state = 42)"
      ],
      "metadata": {
        "id": "1GC1MrmCkixY"
      },
      "execution_count": 12,
      "outputs": []
    },
    {
      "cell_type": "code",
      "source": [
        "print(train_input.shape, test_input.shape)\n",
        "print(train_target.shape, test_target.shape)"
      ],
      "metadata": {
        "colab": {
          "base_uri": "https://localhost:8080/"
        },
        "id": "HIBxLb00lGcL",
        "outputId": "f9679f92-fab5-4027-d79b-19e57d67362e"
      },
      "execution_count": 14,
      "outputs": [
        {
          "output_type": "stream",
          "name": "stdout",
          "text": [
            "(36, 2) (13, 2)\n",
            "(36,) (13,)\n"
          ]
        }
      ]
    },
    {
      "cell_type": "markdown",
      "source": [
        "도미와 빙어 데이터 비율 35:14로 대략 2.5:1\n",
        "\n",
        "아래 랜덤한 데이터 비율은 10:3으로 대략 3.3:1\n",
        "\n",
        "샘플링 편향 발생"
      ],
      "metadata": {
        "id": "mWtR0RU_mNjP"
      }
    },
    {
      "cell_type": "code",
      "source": [
        "print(test_target)   #랜덤 추출 확인\n",
        "#비율이 어긋남\n"
      ],
      "metadata": {
        "colab": {
          "base_uri": "https://localhost:8080/"
        },
        "id": "LbY4E3cglQv8",
        "outputId": "c610e495-1c7c-49c9-9981-f3302b284f5a"
      },
      "execution_count": 15,
      "outputs": [
        {
          "output_type": "stream",
          "name": "stdout",
          "text": [
            "[1. 0. 0. 0. 1. 1. 1. 1. 1. 1. 1. 1. 1.]\n"
          ]
        }
      ]
    },
    {
      "cell_type": "markdown",
      "source": [
        "train_test_split에서 stratify 매개변수 추가"
      ],
      "metadata": {
        "id": "CIjJ9V3wmw4D"
      }
    },
    {
      "cell_type": "code",
      "source": [
        "train_input, test_input, train_target, test_target = train_test_split(fish_data, fish_target,stratify = fish_target, random_state = 42)"
      ],
      "metadata": {
        "id": "ra-C8C8nm4Kd"
      },
      "execution_count": 16,
      "outputs": []
    },
    {
      "cell_type": "markdown",
      "source": [
        "###아래 결과값을 보면 어느 정도 맞는 모습"
      ],
      "metadata": {
        "id": "DMVo2iLLnbqv"
      }
    },
    {
      "cell_type": "code",
      "source": [
        "test_target"
      ],
      "metadata": {
        "colab": {
          "base_uri": "https://localhost:8080/"
        },
        "id": "sKrqBpyFnXxx",
        "outputId": "bb015fe4-a176-49b3-d9ad-2a1b9292a3d6"
      },
      "execution_count": 17,
      "outputs": [
        {
          "output_type": "execute_result",
          "data": {
            "text/plain": [
              "array([0., 0., 1., 0., 1., 0., 1., 1., 1., 1., 1., 1., 1.])"
            ]
          },
          "metadata": {},
          "execution_count": 17
        }
      ]
    },
    {
      "cell_type": "markdown",
      "source": [
        "##머신러닝 시작"
      ],
      "metadata": {
        "id": "_5g4flzZnnSU"
      }
    },
    {
      "cell_type": "code",
      "source": [
        "from sklearn.neighbors import KNeighborsClassifier\n",
        "kn = KNeighborsClassifier()\n",
        "kn.fit(train_input, train_target)\n",
        "kn.score(test_input, test_target)\n"
      ],
      "metadata": {
        "colab": {
          "base_uri": "https://localhost:8080/"
        },
        "id": "jiPFQCAKnmCm",
        "outputId": "ef05fb9a-43b2-479f-b9b2-93ae470aa71d"
      },
      "execution_count": 18,
      "outputs": [
        {
          "output_type": "execute_result",
          "data": {
            "text/plain": [
              "1.0"
            ]
          },
          "metadata": {},
          "execution_count": 18
        }
      ]
    },
    {
      "cell_type": "markdown",
      "source": [
        "###특이값 넣어보기"
      ],
      "metadata": {
        "id": "tKANItYLn5Bu"
      }
    },
    {
      "cell_type": "code",
      "source": [
        "print(kn.predict([[25,150]]))"
      ],
      "metadata": {
        "colab": {
          "base_uri": "https://localhost:8080/"
        },
        "id": "14UY8Fl5n3ew",
        "outputId": "557e9a5c-4628-4af1-81b1-5c3daf74efbc"
      },
      "execution_count": 19,
      "outputs": [
        {
          "output_type": "stream",
          "name": "stdout",
          "text": [
            "[0.]\n"
          ]
        }
      ]
    },
    {
      "cell_type": "markdown",
      "source": [
        "###예상한 결과와 다르기 때문에 산점도 찍어보기"
      ],
      "metadata": {
        "id": "zQ2OhOPLoQUy"
      }
    },
    {
      "cell_type": "code",
      "source": [
        "import matplotlib.pyplot as plt\n",
        "\n",
        "plt.scatter(fish_data[:,0],fish_data[:,1])\n",
        "plt.scatter(25,150,marker=\"^\")\n",
        "plt.xlabel(\"length\")\n",
        "plt.ylabel(\"weight\")\n",
        "plt.show()"
      ],
      "metadata": {
        "colab": {
          "base_uri": "https://localhost:8080/",
          "height": 449
        },
        "id": "5yhDIxDioUSo",
        "outputId": "26c5d963-95cd-4f43-cc6d-7bb525680ffe"
      },
      "execution_count": 24,
      "outputs": [
        {
          "output_type": "display_data",
          "data": {
            "text/plain": [
              "<Figure size 640x480 with 1 Axes>"
            ],
            "image/png": "[encoded data removed]"
          },
          "metadata": {}
        }
      ]
    },
    {
      "cell_type": "markdown",
      "source": [
        "특이점과 어떤 점이 가까이 있는지 판단하기"
      ],
      "metadata": {
        "id": "c-4gfcu2qPF5"
      }
    },
    {
      "cell_type": "code",
      "source": [
        "distances, indexes = kn.kneighbors([[25,150]])"
      ],
      "metadata": {
        "id": "AK_oxjUPoo1N"
      },
      "execution_count": 25,
      "outputs": []
    },
    {
      "cell_type": "markdown",
      "source": [
        "###아래 scatterplot을 보게 되면 빙어 쪽에 압도적으로 많음\n",
        "\n",
        "###knn은 가장 가까운 이웃 (default값=5)을 보고 판단하기 때문에 빙어라고 판단"
      ],
      "metadata": {
        "id": "CKYD8retqm6B"
      }
    },
    {
      "cell_type": "code",
      "source": [
        "plt.scatter(train_input[:,0],train_input[:,1])\n",
        "plt.scatter(25,150,marker=\"^\")\n",
        "plt.scatter(train_input[indexes,0],train_input[indexes,1], marker = \"D\")\n",
        "plt.xlabel('length')\n",
        "plt.ylabel(\"weight\")\n",
        "plt.show()"
      ],
      "metadata": {
        "colab": {
          "base_uri": "https://localhost:8080/",
          "height": 449
        },
        "id": "Lok3oDrVp-s9",
        "outputId": "753c481b-4d00-4470-fce7-6ddfa86b6e67"
      },
      "execution_count": 27,
      "outputs": [
        {
          "output_type": "display_data",
          "data": {
            "text/plain": [
              "<Figure size 640x480 with 1 Axes>"
            ],
            "image/png": "[encoded data removed]"
          },
          "metadata": {}
        }
      ]
    },
    {
      "cell_type": "markdown",
      "source": [
        "### 왜 이런 오류가 발생했을까??\n",
        "---\n",
        ". length와 weight의 비율이 달라 거리의 비율이 깨짐\n",
        "  그래프 상 봤을 때 주황색 데이터와 가장 가까운 도미 데이터의 길이가 주황색 데이터와 가장 가까운 빙어 데이터보다 훨씬 가까워 보임.\n",
        "  \n",
        "  하지만 유클리안 거리를 썼을 때 weight와 length의 비율이 달라 크게 차이나지 않는 것을 확인 가능"
      ],
      "metadata": {
        "id": "t3ECiHa-rLxA"
      }
    },
    {
      "cell_type": "markdown",
      "source": [
        "xlim을 통해 x축의 범위를 y와 동일하게 0~1000으로 맞춰 그래프를 그리기\n",
        "\n",
        "그래프를 보면 거의 일직선으로 나타남\n",
        "\n",
        "-->length와 weight의 scale이 달라 length는 큰 고려사항이 되지 않음\n"
      ],
      "metadata": {
        "id": "CgLHUmPKsf87"
      }
    },
    {
      "cell_type": "code",
      "source": [
        "plt.scatter(train_input[:,0],train_input[:,1])\n",
        "plt.scatter(25,150,marker=\"^\")\n",
        "plt.scatter(train_input[indexes,0],train_input[indexes,1], marker = \"D\")\n",
        "plt.xlim((0,1000))\n",
        "plt.xlabel('length')\n",
        "plt.ylabel(\"weight\")\n",
        "33plt.show()"
      ],
      "metadata": {
        "colab": {
          "base_uri": "https://localhost:8080/",
          "height": 449
        },
        "id": "5H5La0ONrNV7",
        "outputId": "14daa827-e853-43e9-e829-dc0e9136aa7c"
      },
      "execution_count": 28,
      "outputs": [
        {
          "output_type": "display_data",
          "data": {
            "text/plain": [
              "<Figure size 640x480 with 1 Axes>"
            ],
            "image/png": "[encoded data removed]"
          },
          "metadata": {}
        }
      ]
    },
    {
      "cell_type": "markdown",
      "source": [
        "##데이터 전처리를 통해 일정한 기준으로 맞추기\n",
        "\n",
        "여기에서는 표준점수 (Z점수)사용\n",
        "    표준점수 = (값 - 평균)/표준편차"
      ],
      "metadata": {
        "id": "I1W_rmRgtE7o"
      }
    }
  ]
}