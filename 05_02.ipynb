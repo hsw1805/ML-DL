{
  "nbformat": 4,
  "nbformat_minor": 0,
  "metadata": {
    "colab": {
      "provenance": [],
      "authorship_tag": "ABX9TyNgn0UiBHJTwIzvk/tcmXDB",
      "include_colab_link": true
    },
    "kernelspec": {
      "name": "python3",
      "display_name": "Python 3"
    },
    "language_info": {
      "name": "python"
    }
  },
  "cells": [
    {
      "cell_type": "markdown",
      "metadata": {
        "id": "view-in-github",
        "colab_type": "text"
      },
      "source": [
        "<a href=\"https://colab.research.google.com/github/hsw1805/ML-DL/blob/main/05_02.ipynb\" target=\"_parent\"><img src=\"https://colab.research.google.com/assets/colab-badge.svg\" alt=\"Open In Colab\"/></a>"
      ]
    },
    {
      "cell_type": "markdown",
      "source": [
        "#교차 검증"
      ],
      "metadata": {
        "id": "VCphzCBelO_k"
      }
    },
    {
      "cell_type": "markdown",
      "source": [
        "## 검증 세트\n",
        "\n",
        "데이터가 100개가 있다고 가정하자\n",
        "\n",
        "80:20 비율로 80은 train set, 20은 test set으로 구분하자\n",
        "\n",
        "또 train set으로 구분한 80개 중 60:20 비율로 train set과 validation set으로 구분한다\n",
        "\n",
        "train set = 기출문제\n",
        "\n",
        "validation set = 모의고사\n",
        "\n",
        "test set = 수능"
      ],
      "metadata": {
        "id": "72T3U7qrlZj2"
      }
    },
    {
      "cell_type": "code",
      "execution_count": 1,
      "metadata": {
        "id": "nqmd9wDUlETI"
      },
      "outputs": [],
      "source": [
        "import pandas as pd\n",
        "wine = pd.read_csv('https://bit.ly/wine_csv_data')"
      ]
    },
    {
      "cell_type": "code",
      "source": [
        "data = wine[['alcohol','sugar','pH']].to_numpy()\n",
        "target = wine['class'].to_numpy()"
      ],
      "metadata": {
        "id": "r44zFUMVlUP6"
      },
      "execution_count": 2,
      "outputs": []
    },
    {
      "cell_type": "markdown",
      "source": [],
      "metadata": {
        "id": "s7exXjDalONn"
      }
    },
    {
      "cell_type": "code",
      "source": [
        "from sklearn.model_selection import train_test_split\n",
        "\n",
        "train_input, test_input, train_target, test_target=train_test_split(data, target,test_size=0.2, random_state =42)"
      ],
      "metadata": {
        "id": "9_EAfkgkmAax"
      },
      "execution_count": 3,
      "outputs": []
    },
    {
      "cell_type": "code",
      "source": [
        "sub_input, val_input, sub_target, val_target = train_test_split(train_input, train_target, test_size = 0.2, random_state= 42)"
      ],
      "metadata": {
        "id": "tHmp6y7dm-0q"
      },
      "execution_count": 4,
      "outputs": []
    },
    {
      "cell_type": "markdown",
      "source": [
        "## DecisionTreeClassifier로 분류"
      ],
      "metadata": {
        "id": "0ehdiX07nNEN"
      }
    },
    {
      "cell_type": "code",
      "source": [
        "from sklearn.tree import DecisionTreeClassifier\n",
        "\n",
        "dt = DecisionTreeClassifier(random_state = 42)\n",
        "dt.fit(sub_input, sub_target)\n",
        "print(dt.score(sub_input, sub_target))\n",
        "print(dt.score(val_input, val_target))"
      ],
      "metadata": {
        "colab": {
          "base_uri": "https://localhost:8080/"
        },
        "id": "dzx2VCcDnMll",
        "outputId": "38b9921a-1953-4e88-af07-5362c20ac821"
      },
      "execution_count": 5,
      "outputs": [
        {
          "output_type": "stream",
          "name": "stdout",
          "text": [
            "0.9971133028626413\n",
            "0.864423076923077\n"
          ]
        }
      ]
    },
    {
      "cell_type": "code",
      "source": [
        "from sklearn.model_selection import cross_validate\n",
        "\n",
        "scores =  cross_validate(dt, train_input, train_target)\n",
        "print(scores)"
      ],
      "metadata": {
        "colab": {
          "base_uri": "https://localhost:8080/"
        },
        "id": "zCgiHDOmbhpE",
        "outputId": "5fe64236-ab04-471c-ef35-83d96e7246b3"
      },
      "execution_count": 6,
      "outputs": [
        {
          "output_type": "stream",
          "name": "stdout",
          "text": [
            "{'fit_time': array([0.01079416, 0.01030469, 0.01074505, 0.01062369, 0.01018286]), 'score_time': array([0.0015254 , 0.00143147, 0.0013833 , 0.0016427 , 0.00157905]), 'test_score': array([0.86923077, 0.84615385, 0.87680462, 0.84889317, 0.83541867])}\n"
          ]
        }
      ]
    },
    {
      "cell_type": "code",
      "source": [
        "import numpy as np\n",
        "\n",
        "print(np.mean(scores['test_score']))"
      ],
      "metadata": {
        "colab": {
          "base_uri": "https://localhost:8080/"
        },
        "id": "WO38UQTgcU0Z",
        "outputId": "33bdef52-5a57-4f6d-c198-1a4ee76a090c"
      },
      "execution_count": 7,
      "outputs": [
        {
          "output_type": "stream",
          "name": "stdout",
          "text": [
            "0.855300214703487\n"
          ]
        }
      ]
    },
    {
      "cell_type": "code",
      "source": [
        "# 섞어서 데이터 교차 검증\n",
        "from sklearn.model_selection import StratifiedKFold\n",
        "scores = cross_validate(dt, train_input, train_target, cv = StratifiedKFold())\n",
        "print(np.mean(scores['test_score']))"
      ],
      "metadata": {
        "colab": {
          "base_uri": "https://localhost:8080/"
        },
        "id": "L6BdVWTrcnME",
        "outputId": "0ae4ab59-2834-4922-d983-1f5a1314652a"
      },
      "execution_count": 8,
      "outputs": [
        {
          "output_type": "stream",
          "name": "stdout",
          "text": [
            "0.855300214703487\n"
          ]
        }
      ]
    },
    {
      "cell_type": "code",
      "source": [
        "#10개의 Fold로 분류\n",
        "splitter = StratifiedKFold(n_splits = 10, shuffle = True, random_state =42)\n",
        "scores = cross_validate(dt, train_input, train_target, cv = splitter)\n",
        "print(np.mean(scores['test_score']))"
      ],
      "metadata": {
        "colab": {
          "base_uri": "https://localhost:8080/"
        },
        "id": "tctMICKhdQ8e",
        "outputId": "38966041-910f-43b8-d507-d0ab84b45059"
      },
      "execution_count": 9,
      "outputs": [
        {
          "output_type": "stream",
          "name": "stdout",
          "text": [
            "0.8574181117533719\n"
          ]
        }
      ]
    },
    {
      "cell_type": "markdown",
      "source": [
        "## 하이퍼 파라미터 튜닝\n",
        "\n",
        "개별 하이퍼 파라미터는 다른 하이퍼 파라미터의 값에 영향을 받기 때문에 다 같이 찾아야함\n",
        "\n",
        "GridSearchCV를 통해 하이퍼파라미터 값을 찾게 도와줌"
      ],
      "metadata": {
        "id": "Gw8MHqvN5Ux-"
      }
    },
    {
      "cell_type": "code",
      "source": [
        "from sklearn.model_selection import GridSearchCV\n",
        "params = {'min_impurity_decrease' : [0.0001, 0.0002, 0.0003, 0.0004, 0.0005]}\n",
        "#CrossValidation (CV)의 매개변수는 기본으로 5가 들어가있음\n",
        "#n_jobs 은 몇개의 cpu를 사용할 것인가\n",
        "gs = GridSearchCV(DecisionTreeClassifier(random_state=42), params, n_jobs = -1)\n",
        "\n",
        "gs.fit(train_input, train_target)\n",
        "dt = gs.best_estimator_\n",
        "print(dt.score(train_input, train_target))\n",
        "\n",
        "print(gs.best_params_)"
      ],
      "metadata": {
        "colab": {
          "base_uri": "https://localhost:8080/"
        },
        "id": "Kj2bR4965OxU",
        "outputId": "bf5be592-8609-4c32-8a02-ab958532b088"
      },
      "execution_count": 10,
      "outputs": [
        {
          "output_type": "stream",
          "name": "stdout",
          "text": [
            "0.9615162593804117\n",
            "{'min_impurity_decrease': 0.0001}\n"
          ]
        }
      ]
    },
    {
      "cell_type": "code",
      "source": [
        "print(gs.cv_results_['mean_test_score'])"
      ],
      "metadata": {
        "colab": {
          "base_uri": "https://localhost:8080/"
        },
        "id": "E4EvPCFO8AZm",
        "outputId": "521a7cb0-3eff-445a-f3da-d362409096f7"
      },
      "execution_count": 11,
      "outputs": [
        {
          "output_type": "stream",
          "name": "stdout",
          "text": [
            "[0.86819297 0.86453617 0.86492226 0.86780891 0.86761605]\n"
          ]
        }
      ]
    },
    {
      "cell_type": "code",
      "source": [
        "best_index = np.argmax(gs.cv_results_['mean_test_score'])\n",
        "print(gs.cv_results_['params'][0])"
      ],
      "metadata": {
        "colab": {
          "base_uri": "https://localhost:8080/"
        },
        "id": "u19JDO9O8Oqf",
        "outputId": "2810415c-10e1-4658-90fd-100668a79bf6"
      },
      "execution_count": 12,
      "outputs": [
        {
          "output_type": "stream",
          "name": "stdout",
          "text": [
            "{'min_impurity_decrease': 0.0001}\n"
          ]
        }
      ]
    },
    {
      "cell_type": "code",
      "source": [
        "params = {'min_impurity_decrease': np.arange(0.0001, 0.001, 0.0001),\n",
        "          'max_depth' : range(5,20,1),\n",
        "          'min_samples_split': range(2,100,10)\n",
        "          }\n",
        "\n",
        "gs = GridSearchCV(DecisionTreeClassifier(random_state = 42), params,n_jobs = -1)\n",
        "\n",
        "gs.fit(train_input, train_target)\n",
        "\n",
        "print(gs.best_params_)\n",
        "\n"
      ],
      "metadata": {
        "colab": {
          "base_uri": "https://localhost:8080/"
        },
        "id": "OAF4307K9SII",
        "outputId": "84756c6e-c036-4ba7-c5da-22b5fe909ad0"
      },
      "execution_count": 14,
      "outputs": [
        {
          "output_type": "stream",
          "name": "stdout",
          "text": [
            "{'max_depth': 14, 'min_impurity_decrease': 0.0004, 'min_samples_split': 12}\n"
          ]
        }
      ]
    },
    {
      "cell_type": "code",
      "source": [
        "print(gs.best_params_)"
      ],
      "metadata": {
        "colab": {
          "base_uri": "https://localhost:8080/"
        },
        "id": "_zg5Gl6Myy-O",
        "outputId": "bcaacb21-8967-4621-fd92-07996d89a8e6"
      },
      "execution_count": 15,
      "outputs": [
        {
          "output_type": "stream",
          "name": "stdout",
          "text": [
            "{'max_depth': 14, 'min_impurity_decrease': 0.0004, 'min_samples_split': 12}\n"
          ]
        }
      ]
    },
    {
      "cell_type": "code",
      "source": [
        "print(gs.cv_results_)"
      ],
      "metadata": {
        "colab": {
          "base_uri": "https://localhost:8080/"
        },
        "id": "vVnf1t8U4Lfe",
        "outputId": "e92dd2fa-d90a-45a3-c61a-9f0d082344dd"
      },
      "execution_count": 16,
      "outputs": [
        {
          "output_type": "stream",
          "name": "stdout",
          "text": [
            "{'mean_fit_time': array([0.00864568, 0.00964775, 0.01197138, ..., 0.00930204, 0.00958543,\n",
            "       0.00722461]), 'std_fit_time': array([0.00408018, 0.00251246, 0.00280671, ..., 0.00342057, 0.00238793,\n",
            "       0.00101787]), 'mean_score_time': array([0.00239849, 0.00414224, 0.00147376, ..., 0.00179677, 0.00304914,\n",
            "       0.0024756 ]), 'std_score_time': array([1.03364161e-03, 2.26690466e-03, 5.96131509e-05, ...,\n",
            "       3.90350309e-04, 3.31178834e-03, 1.83899025e-03]), 'param_max_depth': masked_array(data=[5, 5, 5, ..., 19, 19, 19],\n",
            "             mask=[False, False, False, ..., False, False, False],\n",
            "       fill_value='?',\n",
            "            dtype=object), 'param_min_impurity_decrease': masked_array(data=[0.0001, 0.0001, 0.0001, ..., 0.0009000000000000001,\n",
            "                   0.0009000000000000001, 0.0009000000000000001],\n",
            "             mask=[False, False, False, ..., False, False, False],\n",
            "       fill_value='?',\n",
            "            dtype=object), 'param_min_samples_split': masked_array(data=[2, 12, 22, ..., 72, 82, 92],\n",
            "             mask=[False, False, False, ..., False, False, False],\n",
            "       fill_value='?',\n",
            "            dtype=object), 'params': [{'max_depth': 5, 'min_impurity_decrease': 0.0001, 'min_samples_split': 2}, {'max_depth': 5, 'min_impurity_decrease': 0.0001, 'min_samples_split': 12}, {'max_depth': 5, 'min_impurity_decrease': 0.0001, 'min_samples_split': 22}, {'max_depth': 5, 'min_impurity_decrease': 0.0001, 'min_samples_split': 32}, {'max_depth': 5, 'min_impurity_decrease': 0.0001, 'min_samples_split': 42}, {'max_depth': 5, 'min_impurity_decrease': 0.0001, 'min_samples_split': 52}, {'max_depth': 5, 'min_impurity_decrease': 0.0001, 'min_samples_split': 62}, {'max_depth': 5, 'min_impurity_decrease': 0.0001, 'min_samples_split': 72}, {'max_depth': 5, 'min_impurity_decrease': 0.0001, 'min_samples_split': 82}, {'max_depth': 5, 'min_impurity_decrease': 0.0001, 'min_samples_split': 92}, {'max_depth': 5, 'min_impurity_decrease': 0.0002, 'min_samples_split': 2}, {'max_depth': 5, 'min_impurity_decrease': 0.0002, 'min_samples_split': 12}, {'max_depth': 5, 'min_impurity_decrease': 0.0002, 'min_samples_split': 22}, {'max_depth': 5, 'min_impurity_decrease': 0.0002, 'min_samples_split': 32}, {'max_depth': 5, 'min_impurity_decrease': 0.0002, 'min_samples_split': 42}, {'max_depth': 5, 'min_impurity_decrease': 0.0002, 'min_samples_split': 52}, {'max_depth': 5, 'min_impurity_decrease': 0.0002, 'min_samples_split': 62}, {'max_depth': 5, 'min_impurity_decrease': 0.0002, 'min_samples_split': 72}, {'max_depth': 5, 'min_impurity_decrease': 0.0002, 'min_samples_split': 82}, {'max_depth': 5, 'min_impurity_decrease': 0.0002, 'min_samples_split': 92}, {'max_depth': 5, 'min_impurity_decrease': 0.00030000000000000003, 'min_samples_split': 2}, {'max_depth': 5, 'min_impurity_decrease': 0.00030000000000000003, 'min_samples_split': 12}, {'max_depth': 5, 'min_impurity_decrease': 0.00030000000000000003, 'min_samples_split': 22}, {'max_depth': 5, 'min_impurity_decrease': 0.00030000000000000003, 'min_samples_split': 32}, {'max_depth': 5, 'min_impurity_decrease': 0.00030000000000000003, 'min_samples_split': 42}, {'max_depth': 5, 'min_impurity_decrease': 0.00030000000000000003, 'min_samples_split': 52}, {'max_depth': 5, 'min_impurity_decrease': 0.00030000000000000003, 'min_samples_split': 62}, {'max_depth': 5, 'min_impurity_decrease': 0.00030000000000000003, 'min_samples_split': 72}, {'max_depth': 5, 'min_impurity_decrease': 0.00030000000000000003, 'min_samples_split': 82}, {'max_depth': 5, 'min_impurity_decrease': 0.00030000000000000003, 'min_samples_split': 92}, {'max_depth': 5, 'min_impurity_decrease': 0.0004, 'min_samples_split': 2}, {'max_depth': 5, 'min_impurity_decrease': 0.0004, 'min_samples_split': 12}, {'max_depth': 5, 'min_impurity_decrease': 0.0004, 'min_samples_split': 22}, {'max_depth': 5, 'min_impurity_decrease': 0.0004, 'min_samples_split': 32}, {'max_depth': 5, 'min_impurity_decrease': 0.0004, 'min_samples_split': 42}, {'max_depth': 5, 'min_impurity_decrease': 0.0004, 'min_samples_split': 52}, {'max_depth': 5, 'min_impurity_decrease': 0.0004, 'min_samples_split': 62}, {'max_depth': 5, 'min_impurity_decrease': 0.0004, 'min_samples_split': 72}, {'max_depth': 5, 'min_impurity_decrease': 0.0004, 'min_samples_split': 82}, {'max_depth': 5, 'min_impurity_decrease': 0.0004, 'min_samples_split': 92}, {'max_depth': 5, 'min_impurity_decrease': 0.0005, 'min_samples_split': 2}, {'max_depth': 5, 'min_impurity_decrease': 0.0005, 'min_samples_split': 12}, {'max_depth': 5, 'min_impurity_decrease': 0.0005, 'min_samples_split': 22}, {'max_depth': 5, 'min_impurity_decrease': 0.0005, 'min_samples_split': 32}, {'max_depth': 5, 'min_impurity_decrease': 0.0005, 'min_samples_split': 42}, {'max_depth': 5, 'min_impurity_decrease': 0.0005, 'min_samples_split': 52}, {'max_depth': 5, 'min_impurity_decrease': 0.0005, 'min_samples_split': 62}, {'max_depth': 5, 'min_impurity_decrease': 0.0005, 'min_samples_split': 72}, {'max_depth': 5, 'min_impurity_decrease': 0.0005, 'min_samples_split': 82}, {'max_depth': 5, 'min_impurity_decrease': 0.0005, 'min_samples_split': 92}, {'max_depth': 5, 'min_impurity_decrease': 0.0006000000000000001, 'min_samples_split': 2}, {'max_depth': 5, 'min_impurity_decrease': 0.0006000000000000001, 'min_samples_split': 12}, {'max_depth': 5, 'min_impurity_decrease': 0.0006000000000000001, 'min_samples_split': 22}, {'max_depth': 5, 'min_impurity_decrease': 0.0006000000000000001, 'min_samples_split': 32}, {'max_depth': 5, 'min_impurity_decrease': 0.0006000000000000001, 'min_samples_split': 42}, {'max_depth': 5, 'min_impurity_decrease': 0.0006000000000000001, 'min_samples_split': 52}, {'max_depth': 5, 'min_impurity_decrease': 0.0006000000000000001, 'min_samples_split': 62}, {'max_depth': 5, 'min_impurity_decrease': 0.0006000000000000001, 'min_samples_split': 72}, {'max_depth': 5, 'min_impurity_decrease': 0.0006000000000000001, 'min_samples_split': 82}, {'max_depth': 5, 'min_impurity_decrease': 0.0006000000000000001, 'min_samples_split': 92}, {'max_depth': 5, 'min_impurity_decrease': 0.0007000000000000001, 'min_samples_split': 2}, {'max_depth': 5, 'min_impurity_decrease': 0.0007000000000000001, 'min_samples_split': 12}, {'max_depth': 5, 'min_impurity_decrease': 0.0007000000000000001, 'min_samples_split': 22}, {'max_depth': 5, 'min_impurity_decrease': 0.0007000000000000001, 'min_samples_split': 32}, {'max_depth': 5, 'min_impurity_decrease': 0.0007000000000000001, 'min_samples_split': 42}, {'max_depth': 5, 'min_impurity_decrease': 0.0007000000000000001, 'min_samples_split': 52}, {'max_depth': 5, 'min_impurity_decrease': 0.0007000000000000001, 'min_samples_split': 62}, {'max_depth': 5, 'min_impurity_decrease': 0.0007000000000000001, 'min_samples_split': 72}, {'max_depth': 5, 'min_impurity_decrease': 0.0007000000000000001, 'min_samples_split': 82}, {'max_depth': 5, 'min_impurity_decrease': 0.0007000000000000001, 'min_samples_split': 92}, {'max_depth': 5, 'min_impurity_decrease': 0.0008, 'min_samples_split': 2}, {'max_depth': 5, 'min_impurity_decrease': 0.0008, 'min_samples_split': 12}, {'max_depth': 5, 'min_impurity_decrease': 0.0008, 'min_samples_split': 22}, {'max_depth': 5, 'min_impurity_decrease': 0.0008, 'min_samples_split': 32}, {'max_depth': 5, 'min_impurity_decrease': 0.0008, 'min_samples_split': 42}, {'max_depth': 5, 'min_impurity_decrease': 0.0008, 'min_samples_split': 52}, {'max_depth': 5, 'min_impurity_decrease': 0.0008, 'min_samples_split': 62}, {'max_depth': 5, 'min_impurity_decrease': 0.0008, 'min_samples_split': 72}, {'max_depth': 5, 'min_impurity_decrease': 0.0008, 'min_samples_split': 82}, {'max_depth': 5, 'min_impurity_decrease': 0.0008, 'min_samples_split': 92}, {'max_depth': 5, 'min_impurity_decrease': 0.0009000000000000001, 'min_samples_split': 2}, {'max_depth': 5, 'min_impurity_decrease': 0.0009000000000000001, 'min_samples_split': 12}, {'max_depth': 5, 'min_impurity_decrease': 0.0009000000000000001, 'min_samples_split': 22}, {'max_depth': 5, 'min_impurity_decrease': 0.0009000000000000001, 'min_samples_split': 32}, {'max_depth': 5, 'min_impurity_decrease': 0.0009000000000000001, 'min_samples_split': 42}, {'max_depth': 5, 'min_impurity_decrease': 0.0009000000000000001, 'min_samples_split': 52}, {'max_depth': 5, 'min_impurity_decrease': 0.0009000000000000001, 'min_samples_split': 62}, {'max_depth': 5, 'min_impurity_decrease': 0.0009000000000000001, 'min_samples_split': 72}, {'max_depth': 5, 'min_impurity_decrease': 0.0009000000000000001, 'min_samples_split': 82}, {'max_depth': 5, 'min_impurity_decrease': 0.0009000000000000001, 'min_samples_split': 92}, {'max_depth': 6, 'min_impurity_decrease': 0.0001, 'min_samples_split': 2}, {'max_depth': 6, 'min_impurity_decrease': 0.0001, 'min_samples_split': 12}, {'max_depth': 6, 'min_impurity_decrease': 0.0001, 'min_samples_split': 22}, {'max_depth': 6, 'min_impurity_decrease': 0.0001, 'min_samples_split': 32}, {'max_depth': 6, 'min_impurity_decrease': 0.0001, 'min_samples_split': 42}, {'max_depth': 6, 'min_impurity_decrease': 0.0001, 'min_samples_split': 52}, {'max_depth': 6, 'min_impurity_decrease': 0.0001, 'min_samples_split': 62}, {'max_depth': 6, 'min_impurity_decrease': 0.0001, 'min_samples_split': 72}, {'max_depth': 6, 'min_impurity_decrease': 0.0001, 'min_samples_split': 82}, {'max_depth': 6, 'min_impurity_decrease': 0.0001, 'min_samples_split': 92}, {'max_depth': 6, 'min_impurity_decrease': 0.0002, 'min_samples_split': 2}, {'max_depth': 6, 'min_impurity_decrease': 0.0002, 'min_samples_split': 12}, {'max_depth': 6, 'min_impurity_decrease': 0.0002, 'min_samples_split': 22}, {'max_depth': 6, 'min_impurity_decrease': 0.0002, 'min_samples_split': 32}, {'max_depth': 6, 'min_impurity_decrease': 0.0002, 'min_samples_split': 42}, {'max_depth': 6, 'min_impurity_decrease': 0.0002, 'min_samples_split': 52}, {'max_depth': 6, 'min_impurity_decrease': 0.0002, 'min_samples_split': 62}, {'max_depth': 6, 'min_impurity_decrease': 0.0002, 'min_samples_split': 72}, {'max_depth': 6, 'min_impurity_decrease': 0.0002, 'min_samples_split': 82}, {'max_depth': 6, 'min_impurity_decrease': 0.0002, 'min_samples_split': 92}, {'max_depth': 6, 'min_impurity_decrease': 0.00030000000000000003, 'min_samples_split': 2}, {'max_depth': 6, 'min_impurity_decrease': 0.00030000000000000003, 'min_samples_split': 12}, {'max_depth': 6, 'min_impurity_decrease': 0.00030000000000000003, 'min_samples_split': 22}, {'max_depth': 6, 'min_impurity_decrease': 0.00030000000000000003, 'min_samples_split': 32}, {'max_depth': 6, 'min_impurity_decrease': 0.00030000000000000003, 'min_samples_split': 42}, {'max_depth': 6, 'min_impurity_decrease': 0.00030000000000000003, 'min_samples_split': 52}, {'max_depth': 6, 'min_impurity_decrease': 0.00030000000000000003, 'min_samples_split': 62}, {'max_depth': 6, 'min_impurity_decrease': 0.00030000000000000003, 'min_samples_split': 72}, {'max_depth': 6, 'min_impurity_decrease': 0.00030000000000000003, 'min_samples_split': 82}, {'max_depth': 6, 'min_impurity_decrease': 0.00030000000000000003, 'min_samples_split': 92}, {'max_depth': 6, 'min_impurity_decrease': 0.0004, 'min_samples_split': 2}, {'max_depth': 6, 'min_impurity_decrease': 0.0004, 'min_samples_split': 12}, {'max_depth': 6, 'min_impurity_decrease': 0.0004, 'min_samples_split': 22}, {'max_depth': 6, 'min_impurity_decrease': 0.0004, 'min_samples_split': 32}, {'max_depth': 6, 'min_impurity_decrease': 0.0004, 'min_samples_split': 42}, {'max_depth': 6, 'min_impurity_decrease': 0.0004, 'min_samples_split': 52}, {'max_depth': 6, 'min_impurity_decrease': 0.0004, 'min_samples_split': 62}, {'max_depth': 6, 'min_impurity_decrease': 0.0004, 'min_samples_split': 72}, {'max_depth': 6, 'min_impurity_decrease': 0.0004, 'min_samples_split': 82}, {'max_depth': 6, 'min_impurity_decrease': 0.0004, 'min_samples_split': 92}, {'max_depth': 6, 'min_impurity_decrease': 0.0005, 'min_samples_split': 2}, {'max_depth': 6, 'min_impurity_decrease': 0.0005, 'min_samples_split': 12}, {'max_depth': 6, 'min_impurity_decrease': 0.0005, 'min_samples_split': 22}, {'max_depth': 6, 'min_impurity_decrease': 0.0005, 'min_samples_split': 32}, {'max_depth': 6, 'min_impurity_decrease': 0.0005, 'min_samples_split': 42}, {'max_depth': 6, 'min_impurity_decrease': 0.0005, 'min_samples_split': 52}, {'max_depth': 6, 'min_impurity_decrease': 0.0005, 'min_samples_split': 62}, {'max_depth': 6, 'min_impurity_decrease': 0.0005, 'min_samples_split': 72}, {'max_depth': 6, 'min_impurity_decrease': 0.0005, 'min_samples_split': 82}, {'max_depth': 6, 'min_impurity_decrease': 0.0005, 'min_samples_split': 92}, {'max_depth': 6, 'min_impurity_decrease': 0.0006000000000000001, 'min_samples_split': 2}, {'max_depth': 6, 'min_impurity_decrease': 0.0006000000000000001, 'min_samples_split': 12}, {'max_depth': 6, 'min_impurity_decrease': 0.0006000000000000001, 'min_samples_split': 22}, {'max_depth': 6, 'min_impurity_decrease': 0.0006000000000000001, 'min_samples_split': 32}, {'max_depth': 6, 'min_impurity_decrease': 0.0006000000000000001, 'min_samples_split': 42}, {'max_depth': 6, 'min_impurity_decrease': 0.0006000000000000001, 'min_samples_split': 52}, {'max_depth': 6, 'min_impurity_decrease': 0.0006000000000000001, 'min_samples_split': 62}, {'max_depth': 6, 'min_impurity_decrease': 0.0006000000000000001, 'min_samples_split': 72}, {'max_depth': 6, 'min_impurity_decrease': 0.0006000000000000001, 'min_samples_split': 82}, {'max_depth': 6, 'min_impurity_decrease': 0.0006000000000000001, 'min_samples_split': 92}, {'max_depth': 6, 'min_impurity_decrease': 0.0007000000000000001, 'min_samples_split': 2}, {'max_depth': 6, 'min_impurity_decrease': 0.0007000000000000001, 'min_samples_split': 12}, {'max_depth': 6, 'min_impurity_decrease': 0.0007000000000000001, 'min_samples_split': 22}, {'max_depth': 6, 'min_impurity_decrease': 0.0007000000000000001, 'min_samples_split': 32}, {'max_depth': 6, 'min_impurity_decrease': 0.0007000000000000001, 'min_samples_split': 42}, {'max_depth': 6, 'min_impurity_decrease': 0.0007000000000000001, 'min_samples_split': 52}, {'max_depth': 6, 'min_impurity_decrease': 0.0007000000000000001, 'min_samples_split': 62}, {'max_depth': 6, 'min_impurity_decrease': 0.0007000000000000001, 'min_samples_split': 72}, {'max_depth': 6, 'min_impurity_decrease': 0.0007000000000000001, 'min_samples_split': 82}, {'max_depth': 6, 'min_impurity_decrease': 0.0007000000000000001, 'min_samples_split': 92}, {'max_depth': 6, 'min_impurity_decrease': 0.0008, 'min_samples_split': 2}, {'max_depth': 6, 'min_impurity_decrease': 0.0008, 'min_samples_split': 12}, {'max_depth': 6, 'min_impurity_decrease': 0.0008, 'min_samples_split': 22}, {'max_depth': 6, 'min_impurity_decrease': 0.0008, 'min_samples_split': 32}, {'max_depth': 6, 'min_impurity_decrease': 0.0008, 'min_samples_split': 42}, {'max_depth': 6, 'min_impurity_decrease': 0.0008, 'min_samples_split': 52}, {'max_depth': 6, 'min_impurity_decrease': 0.0008, 'min_samples_split': 62}, {'max_depth': 6, 'min_impurity_decrease': 0.0008, 'min_samples_split': 72}, {'max_depth': 6, 'min_impurity_decrease': 0.0008, 'min_samples_split': 82}, {'max_depth': 6, 'min_impurity_decrease': 0.0008, 'min_samples_split': 92}, {'max_depth': 6, 'min_impurity_decrease': 0.0009000000000000001, 'min_samples_split': 2}, {'max_depth': 6, 'min_impurity_decrease': 0.0009000000000000001, 'min_samples_split': 12}, {'max_depth': 6, 'min_impurity_decrease': 0.0009000000000000001, 'min_samples_split': 22}, {'max_depth': 6, 'min_impurity_decrease': 0.0009000000000000001, 'min_samples_split': 32}, {'max_depth': 6, 'min_impurity_decrease': 0.0009000000000000001, 'min_samples_split': 42}, {'max_depth': 6, 'min_impurity_decrease': 0.0009000000000000001, 'min_samples_split': 52}, {'max_depth': 6, 'min_impurity_decrease': 0.0009000000000000001, 'min_samples_split': 62}, {'max_depth': 6, 'min_impurity_decrease': 0.0009000000000000001, 'min_samples_split': 72}, {'max_depth': 6, 'min_impurity_decrease': 0.0009000000000000001, 'min_samples_split': 82}, {'max_depth': 6, 'min_impurity_decrease': 0.0009000000000000001, 'min_samples_split': 92}, {'max_depth': 7, 'min_impurity_decrease': 0.0001, 'min_samples_split': 2}, {'max_depth': 7, 'min_impurity_decrease': 0.0001, 'min_samples_split': 12}, {'max_depth': 7, 'min_impurity_decrease': 0.0001, 'min_samples_split': 22}, {'max_depth': 7, 'min_impurity_decrease': 0.0001, 'min_samples_split': 32}, {'max_depth': 7, 'min_impurity_decrease': 0.0001, 'min_samples_split': 42}, {'max_depth': 7, 'min_impurity_decrease': 0.0001, 'min_samples_split': 52}, {'max_depth': 7, 'min_impurity_decrease': 0.0001, 'min_samples_split': 62}, {'max_depth': 7, 'min_impurity_decrease': 0.0001, 'min_samples_split': 72}, {'max_depth': 7, 'min_impurity_decrease': 0.0001, 'min_samples_split': 82}, {'max_depth': 7, 'min_impurity_decrease': 0.0001, 'min_samples_split': 92}, {'max_depth': 7, 'min_impurity_decrease': 0.0002, 'min_samples_split': 2}, {'max_depth': 7, 'min_impurity_decrease': 0.0002, 'min_samples_split': 12}, {'max_depth': 7, 'min_impurity_decrease': 0.0002, 'min_samples_split': 22}, {'max_depth': 7, 'min_impurity_decrease': 0.0002, 'min_samples_split': 32}, {'max_depth': 7, 'min_impurity_decrease': 0.0002, 'min_samples_split': 42}, {'max_depth': 7, 'min_impurity_decrease': 0.0002, 'min_samples_split': 52}, {'max_depth': 7, 'min_impurity_decrease': 0.0002, 'min_samples_split': 62}, {'max_depth': 7, 'min_impurity_decrease': 0.0002, 'min_samples_split': 72}, {'max_depth': 7, 'min_impurity_decrease': 0.0002, 'min_samples_split': 82}, {'max_depth': 7, 'min_impurity_decrease': 0.0002, 'min_samples_split': 92}, {'max_depth': 7, 'min_impurity_decrease': 0.00030000000000000003, 'min_samples_split': 2}, {'max_depth': 7, 'min_impurity_decrease': 0.00030000000000000003, 'min_samples_split': 12}, {'max_depth': 7, 'min_impurity_decrease': 0.00030000000000000003, 'min_samples_split': 22}, {'max_depth': 7, 'min_impurity_decrease': 0.00030000000000000003, 'min_samples_split': 32}, {'max_depth': 7, 'min_impurity_decrease': 0.00030000000000000003, 'min_samples_split': 42}, {'max_depth': 7, 'min_impurity_decrease': 0.00030000000000000003, 'min_samples_split': 52}, {'max_depth': 7, 'min_impurity_decrease': 0.00030000000000000003, 'min_samples_split': 62}, {'max_depth': 7, 'min_impurity_decrease': 0.00030000000000000003, 'min_samples_split': 72}, {'max_depth': 7, 'min_impurity_decrease': 0.00030000000000000003, 'min_samples_split': 82}, {'max_depth': 7, 'min_impurity_decrease': 0.00030000000000000003, 'min_samples_split': 92}, {'max_depth': 7, 'min_impurity_decrease': 0.0004, 'min_samples_split': 2}, {'max_depth': 7, 'min_impurity_decrease': 0.0004, 'min_samples_split': 12}, {'max_depth': 7, 'min_impurity_decrease': 0.0004, 'min_samples_split': 22}, {'max_depth': 7, 'min_impurity_decrease': 0.0004, 'min_samples_split': 32}, {'max_depth': 7, 'min_impurity_decrease': 0.0004, 'min_samples_split': 42}, {'max_depth': 7, 'min_impurity_decrease': 0.0004, 'min_samples_split': 52}, {'max_depth': 7, 'min_impurity_decrease': 0.0004, 'min_samples_split': 62}, {'max_depth': 7, 'min_impurity_decrease': 0.0004, 'min_samples_split': 72}, {'max_depth': 7, 'min_impurity_decrease': 0.0004, 'min_samples_split': 82}, {'max_depth': 7, 'min_impurity_decrease': 0.0004, 'min_samples_split': 92}, {'max_depth': 7, 'min_impurity_decrease': 0.0005, 'min_samples_split': 2}, {'max_depth': 7, 'min_impurity_decrease': 0.0005, 'min_samples_split': 12}, {'max_depth': 7, 'min_impurity_decrease': 0.0005, 'min_samples_split': 22}, {'max_depth': 7, 'min_impurity_decrease': 0.0005, 'min_samples_split': 32}, {'max_depth': 7, 'min_impurity_decrease': 0.0005, 'min_samples_split': 42}, {'max_depth': 7, 'min_impurity_decrease': 0.0005, 'min_samples_split': 52}, {'max_depth': 7, 'min_impurity_decrease': 0.0005, 'min_samples_split': 62}, {'max_depth': 7, 'min_impurity_decrease': 0.0005, 'min_samples_split': 72}, {'max_depth': 7, 'min_impurity_decrease': 0.0005, 'min_samples_split': 82}, {'max_depth': 7, 'min_impurity_decrease': 0.0005, 'min_samples_split': 92}, {'max_depth': 7, 'min_impurity_decrease': 0.0006000000000000001, 'min_samples_split': 2}, {'max_depth': 7, 'min_impurity_decrease': 0.0006000000000000001, 'min_samples_split': 12}, {'max_depth': 7, 'min_impurity_decrease': 0.0006000000000000001, 'min_samples_split': 22}, {'max_depth': 7, 'min_impurity_decrease': 0.0006000000000000001, 'min_samples_split': 32}, {'max_depth': 7, 'min_impurity_decrease': 0.0006000000000000001, 'min_samples_split': 42}, {'max_depth': 7, 'min_impurity_decrease': 0.0006000000000000001, 'min_samples_split': 52}, {'max_depth': 7, 'min_impurity_decrease': 0.0006000000000000001, 'min_samples_split': 62}, {'max_depth': 7, 'min_impurity_decrease': 0.0006000000000000001, 'min_samples_split': 72}, {'max_depth': 7, 'min_impurity_decrease': 0.0006000000000000001, 'min_samples_split': 82}, {'max_depth': 7, 'min_impurity_decrease': 0.0006000000000000001, 'min_samples_split': 92}, {'max_depth': 7, 'min_impurity_decrease': 0.0007000000000000001, 'min_samples_split': 2}, {'max_depth': 7, 'min_impurity_decrease': 0.0007000000000000001, 'min_samples_split': 12}, {'max_depth': 7, 'min_impurity_decrease': 0.0007000000000000001, 'min_samples_split': 22}, {'max_depth': 7, 'min_impurity_decrease': 0.0007000000000000001, 'min_samples_split': 32}, {'max_depth': 7, 'min_impurity_decrease': 0.0007000000000000001, 'min_samples_split': 42}, {'max_depth': 7, 'min_impurity_decrease': 0.0007000000000000001, 'min_samples_split': 52}, {'max_depth': 7, 'min_impurity_decrease': 0.0007000000000000001, 'min_samples_split': 62}, {'max_depth': 7, 'min_impurity_decrease': 0.0007000000000000001, 'min_samples_split': 72}, {'max_depth': 7, 'min_impurity_decrease': 0.0007000000000000001, 'min_samples_split': 82}, {'max_depth': 7, 'min_impurity_decrease': 0.0007000000000000001, 'min_samples_split': 92}, {'max_depth': 7, 'min_impurity_decrease': 0.0008, 'min_samples_split': 2}, {'max_depth': 7, 'min_impurity_decrease': 0.0008, 'min_samples_split': 12}, {'max_depth': 7, 'min_impurity_decrease': 0.0008, 'min_samples_split': 22}, {'max_depth': 7, 'min_impurity_decrease': 0.0008, 'min_samples_split': 32}, {'max_depth': 7, 'min_impurity_decrease': 0.0008, 'min_samples_split': 42}, {'max_depth': 7, 'min_impurity_decrease': 0.0008, 'min_samples_split': 52}, {'max_depth': 7, 'min_impurity_decrease': 0.0008, 'min_samples_split': 62}, {'max_depth': 7, 'min_impurity_decrease': 0.0008, 'min_samples_split': 72}, {'max_depth': 7, 'min_impurity_decrease': 0.0008, 'min_samples_split': 82}, {'max_depth': 7, 'min_impurity_decrease': 0.0008, 'min_samples_split': 92}, {'max_depth': 7, 'min_impurity_decrease': 0.0009000000000000001, 'min_samples_split': 2}, {'max_depth': 7, 'min_impurity_decrease': 0.0009000000000000001, 'min_samples_split': 12}, {'max_depth': 7, 'min_impurity_decrease': 0.0009000000000000001, 'min_samples_split': 22}, {'max_depth': 7, 'min_impurity_decrease': 0.0009000000000000001, 'min_samples_split': 32}, {'max_depth': 7, 'min_impurity_decrease': 0.0009000000000000001, 'min_samples_split': 42}, {'max_depth': 7, 'min_impurity_decrease': 0.0009000000000000001, 'min_samples_split': 52}, {'max_depth': 7, 'min_impurity_decrease': 0.0009000000000000001, 'min_samples_split': 62}, {'max_depth': 7, 'min_impurity_decrease': 0.0009000000000000001, 'min_samples_split': 72}, {'max_depth': 7, 'min_impurity_decrease': 0.0009000000000000001, 'min_samples_split': 82}, {'max_depth': 7, 'min_impurity_decrease': 0.0009000000000000001, 'min_samples_split': 92}, {'max_depth': 8, 'min_impurity_decrease': 0.0001, 'min_samples_split': 2}, {'max_depth': 8, 'min_impurity_decrease': 0.0001, 'min_samples_split': 12}, {'max_depth': 8, 'min_impurity_decrease': 0.0001, 'min_samples_split': 22}, {'max_depth': 8, 'min_impurity_decrease': 0.0001, 'min_samples_split': 32}, {'max_depth': 8, 'min_impurity_decrease': 0.0001, 'min_samples_split': 42}, {'max_depth': 8, 'min_impurity_decrease': 0.0001, 'min_samples_split': 52}, {'max_depth': 8, 'min_impurity_decrease': 0.0001, 'min_samples_split': 62}, {'max_depth': 8, 'min_impurity_decrease': 0.0001, 'min_samples_split': 72}, {'max_depth': 8, 'min_impurity_decrease': 0.0001, 'min_samples_split': 82}, {'max_depth': 8, 'min_impurity_decrease': 0.0001, 'min_samples_split': 92}, {'max_depth': 8, 'min_impurity_decrease': 0.0002, 'min_samples_split': 2}, {'max_depth': 8, 'min_impurity_decrease': 0.0002, 'min_samples_split': 12}, {'max_depth': 8, 'min_impurity_decrease': 0.0002, 'min_samples_split': 22}, {'max_depth': 8, 'min_impurity_decrease': 0.0002, 'min_samples_split': 32}, {'max_depth': 8, 'min_impurity_decrease': 0.0002, 'min_samples_split': 42}, {'max_depth': 8, 'min_impurity_decrease': 0.0002, 'min_samples_split': 52}, {'max_depth': 8, 'min_impurity_decrease': 0.0002, 'min_samples_split': 62}, {'max_depth': 8, 'min_impurity_decrease': 0.0002, 'min_samples_split': 72}, {'max_depth': 8, 'min_impurity_decrease': 0.0002, 'min_samples_split': 82}, {'max_depth': 8, 'min_impurity_decrease': 0.0002, 'min_samples_split': 92}, {'max_depth': 8, 'min_impurity_decrease': 0.00030000000000000003, 'min_samples_split': 2}, {'max_depth': 8, 'min_impurity_decrease': 0.00030000000000000003, 'min_samples_split': 12}, {'max_depth': 8, 'min_impurity_decrease': 0.00030000000000000003, 'min_samples_split': 22}, {'max_depth': 8, 'min_impurity_decrease': 0.00030000000000000003, 'min_samples_split': 32}, {'max_depth': 8, 'min_impurity_decrease': 0.00030000000000000003, 'min_samples_split': 42}, {'max_depth': 8, 'min_impurity_decrease': 0.00030000000000000003, 'min_samples_split': 52}, {'max_depth': 8, 'min_impurity_decrease': 0.00030000000000000003, 'min_samples_split': 62}, {'max_depth': 8, 'min_impurity_decrease': 0.00030000000000000003, 'min_samples_split': 72}, {'max_depth': 8, 'min_impurity_decrease': 0.00030000000000000003, 'min_samples_split': 82}, {'max_depth': 8, 'min_impurity_decrease': 0.00030000000000000003, 'min_samples_split': 92}, {'max_depth': 8, 'min_impurity_decrease': 0.0004, 'min_samples_split': 2}, {'max_depth': 8, 'min_impurity_decrease': 0.0004, 'min_samples_split': 12}, {'max_depth': 8, 'min_impurity_decrease': 0.0004, 'min_samples_split': 22}, {'max_depth': 8, 'min_impurity_decrease': 0.0004, 'min_samples_split': 32}, {'max_depth': 8, 'min_impurity_decrease': 0.0004, 'min_samples_split': 42}, {'max_depth': 8, 'min_impurity_decrease': 0.0004, 'min_samples_split': 52}, {'max_depth': 8, 'min_impurity_decrease': 0.0004, 'min_samples_split': 62}, {'max_depth': 8, 'min_impurity_decrease': 0.0004, 'min_samples_split': 72}, {'max_depth': 8, 'min_impurity_decrease': 0.0004, 'min_samples_split': 82}, {'max_depth': 8, 'min_impurity_decrease': 0.0004, 'min_samples_split': 92}, {'max_depth': 8, 'min_impurity_decrease': 0.0005, 'min_samples_split': 2}, {'max_depth': 8, 'min_impurity_decrease': 0.0005, 'min_samples_split': 12}, {'max_depth': 8, 'min_impurity_decrease': 0.0005, 'min_samples_split': 22}, {'max_depth': 8, 'min_impurity_decrease': 0.0005, 'min_samples_split': 32}, {'max_depth': 8, 'min_impurity_decrease': 0.0005, 'min_samples_split': 42}, {'max_depth': 8, 'min_impurity_decrease': 0.0005, 'min_samples_split': 52}, {'max_depth': 8, 'min_impurity_decrease': 0.0005, 'min_samples_split': 62}, {'max_depth': 8, 'min_impurity_decrease': 0.0005, 'min_samples_split': 72}, {'max_depth': 8, 'min_impurity_decrease': 0.0005, 'min_samples_split': 82}, {'max_depth': 8, 'min_impurity_decrease': 0.0005, 'min_samples_split': 92}, {'max_depth': 8, 'min_impurity_decrease': 0.0006000000000000001, 'min_samples_split': 2}, {'max_depth': 8, 'min_impurity_decrease': 0.0006000000000000001, 'min_samples_split': 12}, {'max_depth': 8, 'min_impurity_decrease': 0.0006000000000000001, 'min_samples_split': 22}, {'max_depth': 8, 'min_impurity_decrease': 0.0006000000000000001, 'min_samples_split': 32}, {'max_depth': 8, 'min_impurity_decrease': 0.0006000000000000001, 'min_samples_split': 42}, {'max_depth': 8, 'min_impurity_decrease': 0.0006000000000000001, 'min_samples_split': 52}, {'max_depth': 8, 'min_impurity_decrease': 0.0006000000000000001, 'min_samples_split': 62}, {'max_depth': 8, 'min_impurity_decrease': 0.0006000000000000001, 'min_samples_split': 72}, {'max_depth': 8, 'min_impurity_decrease': 0.0006000000000000001, 'min_samples_split': 82}, {'max_depth': 8, 'min_impurity_decrease': 0.0006000000000000001, 'min_samples_split': 92}, {'max_depth': 8, 'min_impurity_decrease': 0.0007000000000000001, 'min_samples_split': 2}, {'max_depth': 8, 'min_impurity_decrease': 0.0007000000000000001, 'min_samples_split': 12}, {'max_depth': 8, 'min_impurity_decrease': 0.0007000000000000001, 'min_samples_split': 22}, {'max_depth': 8, 'min_impurity_decrease': 0.0007000000000000001, 'min_samples_split': 32}, {'max_depth': 8, 'min_impurity_decrease': 0.0007000000000000001, 'min_samples_split': 42}, {'max_depth': 8, 'min_impurity_decrease': 0.0007000000000000001, 'min_samples_split': 52}, {'max_depth': 8, 'min_impurity_decrease': 0.0007000000000000001, 'min_samples_split': 62}, {'max_depth': 8, 'min_impurity_decrease': 0.0007000000000000001, 'min_samples_split': 72}, {'max_depth': 8, 'min_impurity_decrease': 0.0007000000000000001, 'min_samples_split': 82}, {'max_depth': 8, 'min_impurity_decrease': 0.0007000000000000001, 'min_samples_split': 92}, {'max_depth': 8, 'min_impurity_decrease': 0.0008, 'min_samples_split': 2}, {'max_depth': 8, 'min_impurity_decrease': 0.0008, 'min_samples_split': 12}, {'max_depth': 8, 'min_impurity_decrease': 0.0008, 'min_samples_split': 22}, {'max_depth': 8, 'min_impurity_decrease': 0.0008, 'min_samples_split': 32}, {'max_depth': 8, 'min_impurity_decrease': 0.0008, 'min_samples_split': 42}, {'max_depth': 8, 'min_impurity_decrease': 0.0008, 'min_samples_split': 52}, {'max_depth': 8, 'min_impurity_decrease': 0.0008, 'min_samples_split': 62}, {'max_depth': 8, 'min_impurity_decrease': 0.0008, 'min_samples_split': 72}, {'max_depth': 8, 'min_impurity_decrease': 0.0008, 'min_samples_split': 82}, {'max_depth': 8, 'min_impurity_decrease': 0.0008, 'min_samples_split': 92}, {'max_depth': 8, 'min_impurity_decrease': 0.0009000000000000001, 'min_samples_split': 2}, {'max_depth': 8, 'min_impurity_decrease': 0.0009000000000000001, 'min_samples_split': 12}, {'max_depth': 8, 'min_impurity_decrease': 0.0009000000000000001, 'min_samples_split': 22}, {'max_depth': 8, 'min_impurity_decrease': 0.0009000000000000001, 'min_samples_split': 32}, {'max_depth': 8, 'min_impurity_decrease': 0.0009000000000000001, 'min_samples_split': 42}, {'max_depth': 8, 'min_impurity_decrease': 0.0009000000000000001, 'min_samples_split': 52}, {'max_depth': 8, 'min_impurity_decrease': 0.0009000000000000001, 'min_samples_split': 62}, {'max_depth': 8, 'min_impurity_decrease': 0.0009000000000000001, 'min_samples_split': 72}, {'max_depth': 8, 'min_impurity_decrease': 0.0009000000000000001, 'min_samples_split': 82}, {'max_depth': 8, 'min_impurity_decrease': 0.0009000000000000001, 'min_samples_split': 92}, {'max_depth': 9, 'min_impurity_decrease': 0.0001, 'min_samples_split': 2}, {'max_depth': 9, 'min_impurity_decrease': 0.0001, 'min_samples_split': 12}, {'max_depth': 9, 'min_impurity_decrease': 0.0001, 'min_samples_split': 22}, {'max_depth': 9, 'min_impurity_decrease': 0.0001, 'min_samples_split': 32}, {'max_depth': 9, 'min_impurity_decrease': 0.0001, 'min_samples_split': 42}, {'max_depth': 9, 'min_impurity_decrease': 0.0001, 'min_samples_split': 52}, {'max_depth': 9, 'min_impurity_decrease': 0.0001, 'min_samples_split': 62}, {'max_depth': 9, 'min_impurity_decrease': 0.0001, 'min_samples_split': 72}, {'max_depth': 9, 'min_impurity_decrease': 0.0001, 'min_samples_split': 82}, {'max_depth': 9, 'min_impurity_decrease': 0.0001, 'min_samples_split': 92}, {'max_depth': 9, 'min_impurity_decrease': 0.0002, 'min_samples_split': 2}, {'max_depth': 9, 'min_impurity_decrease': 0.0002, 'min_samples_split': 12}, {'max_depth': 9, 'min_impurity_decrease': 0.0002, 'min_samples_split': 22}, {'max_depth': 9, 'min_impurity_decrease': 0.0002, 'min_samples_split': 32}, {'max_depth': 9, 'min_impurity_decrease': 0.0002, 'min_samples_split': 42}, {'max_depth': 9, 'min_impurity_decrease': 0.0002, 'min_samples_split': 52}, {'max_depth': 9, 'min_impurity_decrease': 0.0002, 'min_samples_split': 62}, {'max_depth': 9, 'min_impurity_decrease': 0.0002, 'min_samples_split': 72}, {'max_depth': 9, 'min_impurity_decrease': 0.0002, 'min_samples_split': 82}, {'max_depth': 9, 'min_impurity_decrease': 0.0002, 'min_samples_split': 92}, {'max_depth': 9, 'min_impurity_decrease': 0.00030000000000000003, 'min_samples_split': 2}, {'max_depth': 9, 'min_impurity_decrease': 0.00030000000000000003, 'min_samples_split': 12}, {'max_depth': 9, 'min_impurity_decrease': 0.00030000000000000003, 'min_samples_split': 22}, {'max_depth': 9, 'min_impurity_decrease': 0.00030000000000000003, 'min_samples_split': 32}, {'max_depth': 9, 'min_impurity_decrease': 0.00030000000000000003, 'min_samples_split': 42}, {'max_depth': 9, 'min_impurity_decrease': 0.00030000000000000003, 'min_samples_split': 52}, {'max_depth': 9, 'min_impurity_decrease': 0.00030000000000000003, 'min_samples_split': 62}, {'max_depth': 9, 'min_impurity_decrease': 0.00030000000000000003, 'min_samples_split': 72}, {'max_depth': 9, 'min_impurity_decrease': 0.00030000000000000003, 'min_samples_split': 82}, {'max_depth': 9, 'min_impurity_decrease': 0.00030000000000000003, 'min_samples_split': 92}, {'max_depth': 9, 'min_impurity_decrease': 0.0004, 'min_samples_split': 2}, {'max_depth': 9, 'min_impurity_decrease': 0.0004, 'min_samples_split': 12}, {'max_depth': 9, 'min_impurity_decrease': 0.0004, 'min_samples_split': 22}, {'max_depth': 9, 'min_impurity_decrease': 0.0004, 'min_samples_split': 32}, {'max_depth': 9, 'min_impurity_decrease': 0.0004, 'min_samples_split': 42}, {'max_depth': 9, 'min_impurity_decrease': 0.0004, 'min_samples_split': 52}, {'max_depth': 9, 'min_impurity_decrease': 0.0004, 'min_samples_split': 62}, {'max_depth': 9, 'min_impurity_decrease': 0.0004, 'min_samples_split': 72}, {'max_depth': 9, 'min_impurity_decrease': 0.0004, 'min_samples_split': 82}, {'max_depth': 9, 'min_impurity_decrease': 0.0004, 'min_samples_split': 92}, {'max_depth': 9, 'min_impurity_decrease': 0.0005, 'min_samples_split': 2}, {'max_depth': 9, 'min_impurity_decrease': 0.0005, 'min_samples_split': 12}, {'max_depth': 9, 'min_impurity_decrease': 0.0005, 'min_samples_split': 22}, {'max_depth': 9, 'min_impurity_decrease': 0.0005, 'min_samples_split': 32}, {'max_depth': 9, 'min_impurity_decrease': 0.0005, 'min_samples_split': 42}, {'max_depth': 9, 'min_impurity_decrease': 0.0005, 'min_samples_split': 52}, {'max_depth': 9, 'min_impurity_decrease': 0.0005, 'min_samples_split': 62}, {'max_depth': 9, 'min_impurity_decrease': 0.0005, 'min_samples_split': 72}, {'max_depth': 9, 'min_impurity_decrease': 0.0005, 'min_samples_split': 82}, {'max_depth': 9, 'min_impurity_decrease': 0.0005, 'min_samples_split': 92}, {'max_depth': 9, 'min_impurity_decrease': 0.0006000000000000001, 'min_samples_split': 2}, {'max_depth': 9, 'min_impurity_decrease': 0.0006000000000000001, 'min_samples_split': 12}, {'max_depth': 9, 'min_impurity_decrease': 0.0006000000000000001, 'min_samples_split': 22}, {'max_depth': 9, 'min_impurity_decrease': 0.0006000000000000001, 'min_samples_split': 32}, {'max_depth': 9, 'min_impurity_decrease': 0.0006000000000000001, 'min_samples_split': 42}, {'max_depth': 9, 'min_impurity_decrease': 0.0006000000000000001, 'min_samples_split': 52}, {'max_depth': 9, 'min_impurity_decrease': 0.0006000000000000001, 'min_samples_split': 62}, {'max_depth': 9, 'min_impurity_decrease': 0.0006000000000000001, 'min_samples_split': 72}, {'max_depth': 9, 'min_impurity_decrease': 0.0006000000000000001, 'min_samples_split': 82}, {'max_depth': 9, 'min_impurity_decrease': 0.0006000000000000001, 'min_samples_split': 92}, {'max_depth': 9, 'min_impurity_decrease': 0.0007000000000000001, 'min_samples_split': 2}, {'max_depth': 9, 'min_impurity_decrease': 0.0007000000000000001, 'min_samples_split': 12}, {'max_depth': 9, 'min_impurity_decrease': 0.0007000000000000001, 'min_samples_split': 22}, {'max_depth': 9, 'min_impurity_decrease': 0.0007000000000000001, 'min_samples_split': 32}, {'max_depth': 9, 'min_impurity_decrease': 0.0007000000000000001, 'min_samples_split': 42}, {'max_depth': 9, 'min_impurity_decrease': 0.0007000000000000001, 'min_samples_split': 52}, {'max_depth': 9, 'min_impurity_decrease': 0.0007000000000000001, 'min_samples_split': 62}, {'max_depth': 9, 'min_impurity_decrease': 0.0007000000000000001, 'min_samples_split': 72}, {'max_depth': 9, 'min_impurity_decrease': 0.0007000000000000001, 'min_samples_split': 82}, {'max_depth': 9, 'min_impurity_decrease': 0.0007000000000000001, 'min_samples_split': 92}, {'max_depth': 9, 'min_impurity_decrease': 0.0008, 'min_samples_split': 2}, {'max_depth': 9, 'min_impurity_decrease': 0.0008, 'min_samples_split': 12}, {'max_depth': 9, 'min_impurity_decrease': 0.0008, 'min_samples_split': 22}, {'max_depth': 9, 'min_impurity_decrease': 0.0008, 'min_samples_split': 32}, {'max_depth': 9, 'min_impurity_decrease': 0.0008, 'min_samples_split': 42}, {'max_depth': 9, 'min_impurity_decrease': 0.0008, 'min_samples_split': 52}, {'max_depth': 9, 'min_impurity_decrease': 0.0008, 'min_samples_split': 62}, {'max_depth': 9, 'min_impurity_decrease': 0.0008, 'min_samples_split': 72}, {'max_depth': 9, 'min_impurity_decrease': 0.0008, 'min_samples_split': 82}, {'max_depth': 9, 'min_impurity_decrease': 0.0008, 'min_samples_split': 92}, {'max_depth': 9, 'min_impurity_decrease': 0.0009000000000000001, 'min_samples_split': 2}, {'max_depth': 9, 'min_impurity_decrease': 0.0009000000000000001, 'min_samples_split': 12}, {'max_depth': 9, 'min_impurity_decrease': 0.0009000000000000001, 'min_samples_split': 22}, {'max_depth': 9, 'min_impurity_decrease': 0.0009000000000000001, 'min_samples_split': 32}, {'max_depth': 9, 'min_impurity_decrease': 0.0009000000000000001, 'min_samples_split': 42}, {'max_depth': 9, 'min_impurity_decrease': 0.0009000000000000001, 'min_samples_split': 52}, {'max_depth': 9, 'min_impurity_decrease': 0.0009000000000000001, 'min_samples_split': 62}, {'max_depth': 9, 'min_impurity_decrease': 0.0009000000000000001, 'min_samples_split': 72}, {'max_depth': 9, 'min_impurity_decrease': 0.0009000000000000001, 'min_samples_split': 82}, {'max_depth': 9, 'min_impurity_decrease': 0.0009000000000000001, 'min_samples_split': 92}, {'max_depth': 10, 'min_impurity_decrease': 0.0001, 'min_samples_split': 2}, {'max_depth': 10, 'min_impurity_decrease': 0.0001, 'min_samples_split': 12}, {'max_depth': 10, 'min_impurity_decrease': 0.0001, 'min_samples_split': 22}, {'max_depth': 10, 'min_impurity_decrease': 0.0001, 'min_samples_split': 32}, {'max_depth': 10, 'min_impurity_decrease': 0.0001, 'min_samples_split': 42}, {'max_depth': 10, 'min_impurity_decrease': 0.0001, 'min_samples_split': 52}, {'max_depth': 10, 'min_impurity_decrease': 0.0001, 'min_samples_split': 62}, {'max_depth': 10, 'min_impurity_decrease': 0.0001, 'min_samples_split': 72}, {'max_depth': 10, 'min_impurity_decrease': 0.0001, 'min_samples_split': 82}, {'max_depth': 10, 'min_impurity_decrease': 0.0001, 'min_samples_split': 92}, {'max_depth': 10, 'min_impurity_decrease': 0.0002, 'min_samples_split': 2}, {'max_depth': 10, 'min_impurity_decrease': 0.0002, 'min_samples_split': 12}, {'max_depth': 10, 'min_impurity_decrease': 0.0002, 'min_samples_split': 22}, {'max_depth': 10, 'min_impurity_decrease': 0.0002, 'min_samples_split': 32}, {'max_depth': 10, 'min_impurity_decrease': 0.0002, 'min_samples_split': 42}, {'max_depth': 10, 'min_impurity_decrease': 0.0002, 'min_samples_split': 52}, {'max_depth': 10, 'min_impurity_decrease': 0.0002, 'min_samples_split': 62}, {'max_depth': 10, 'min_impurity_decrease': 0.0002, 'min_samples_split': 72}, {'max_depth': 10, 'min_impurity_decrease': 0.0002, 'min_samples_split': 82}, {'max_depth': 10, 'min_impurity_decrease': 0.0002, 'min_samples_split': 92}, {'max_depth': 10, 'min_impurity_decrease': 0.00030000000000000003, 'min_samples_split': 2}, {'max_depth': 10, 'min_impurity_decrease': 0.00030000000000000003, 'min_samples_split': 12}, {'max_depth': 10, 'min_impurity_decrease': 0.00030000000000000003, 'min_samples_split': 22}, {'max_depth': 10, 'min_impurity_decrease': 0.00030000000000000003, 'min_samples_split': 32}, {'max_depth': 10, 'min_impurity_decrease': 0.00030000000000000003, 'min_samples_split': 42}, {'max_depth': 10, 'min_impurity_decrease': 0.00030000000000000003, 'min_samples_split': 52}, {'max_depth': 10, 'min_impurity_decrease': 0.00030000000000000003, 'min_samples_split': 62}, {'max_depth': 10, 'min_impurity_decrease': 0.00030000000000000003, 'min_samples_split': 72}, {'max_depth': 10, 'min_impurity_decrease': 0.00030000000000000003, 'min_samples_split': 82}, {'max_depth': 10, 'min_impurity_decrease': 0.00030000000000000003, 'min_samples_split': 92}, {'max_depth': 10, 'min_impurity_decrease': 0.0004, 'min_samples_split': 2}, {'max_depth': 10, 'min_impurity_decrease': 0.0004, 'min_samples_split': 12}, {'max_depth': 10, 'min_impurity_decrease': 0.0004, 'min_samples_split': 22}, {'max_depth': 10, 'min_impurity_decrease': 0.0004, 'min_samples_split': 32}, {'max_depth': 10, 'min_impurity_decrease': 0.0004, 'min_samples_split': 42}, {'max_depth': 10, 'min_impurity_decrease': 0.0004, 'min_samples_split': 52}, {'max_depth': 10, 'min_impurity_decrease': 0.0004, 'min_samples_split': 62}, {'max_depth': 10, 'min_impurity_decrease': 0.0004, 'min_samples_split': 72}, {'max_depth': 10, 'min_impurity_decrease': 0.0004, 'min_samples_split': 82}, {'max_depth': 10, 'min_impurity_decrease': 0.0004, 'min_samples_split': 92}, {'max_depth': 10, 'min_impurity_decrease': 0.0005, 'min_samples_split': 2}, {'max_depth': 10, 'min_impurity_decrease': 0.0005, 'min_samples_split': 12}, {'max_depth': 10, 'min_impurity_decrease': 0.0005, 'min_samples_split': 22}, {'max_depth': 10, 'min_impurity_decrease': 0.0005, 'min_samples_split': 32}, {'max_depth': 10, 'min_impurity_decrease': 0.0005, 'min_samples_split': 42}, {'max_depth': 10, 'min_impurity_decrease': 0.0005, 'min_samples_split': 52}, {'max_depth': 10, 'min_impurity_decrease': 0.0005, 'min_samples_split': 62}, {'max_depth': 10, 'min_impurity_decrease': 0.0005, 'min_samples_split': 72}, {'max_depth': 10, 'min_impurity_decrease': 0.0005, 'min_samples_split': 82}, {'max_depth': 10, 'min_impurity_decrease': 0.0005, 'min_samples_split': 92}, {'max_depth': 10, 'min_impurity_decrease': 0.0006000000000000001, 'min_samples_split': 2}, {'max_depth': 10, 'min_impurity_decrease': 0.0006000000000000001, 'min_samples_split': 12}, {'max_depth': 10, 'min_impurity_decrease': 0.0006000000000000001, 'min_samples_split': 22}, {'max_depth': 10, 'min_impurity_decrease': 0.0006000000000000001, 'min_samples_split': 32}, {'max_depth': 10, 'min_impurity_decrease': 0.0006000000000000001, 'min_samples_split': 42}, {'max_depth': 10, 'min_impurity_decrease': 0.0006000000000000001, 'min_samples_split': 52}, {'max_depth': 10, 'min_impurity_decrease': 0.0006000000000000001, 'min_samples_split': 62}, {'max_depth': 10, 'min_impurity_decrease': 0.0006000000000000001, 'min_samples_split': 72}, {'max_depth': 10, 'min_impurity_decrease': 0.0006000000000000001, 'min_samples_split': 82}, {'max_depth': 10, 'min_impurity_decrease': 0.0006000000000000001, 'min_samples_split': 92}, {'max_depth': 10, 'min_impurity_decrease': 0.0007000000000000001, 'min_samples_split': 2}, {'max_depth': 10, 'min_impurity_decrease': 0.0007000000000000001, 'min_samples_split': 12}, {'max_depth': 10, 'min_impurity_decrease': 0.0007000000000000001, 'min_samples_split': 22}, {'max_depth': 10, 'min_impurity_decrease': 0.0007000000000000001, 'min_samples_split': 32}, {'max_depth': 10, 'min_impurity_decrease': 0.0007000000000000001, 'min_samples_split': 42}, {'max_depth': 10, 'min_impurity_decrease': 0.0007000000000000001, 'min_samples_split': 52}, {'max_depth': 10, 'min_impurity_decrease': 0.0007000000000000001, 'min_samples_split': 62}, {'max_depth': 10, 'min_impurity_decrease': 0.0007000000000000001, 'min_samples_split': 72}, {'max_depth': 10, 'min_impurity_decrease': 0.0007000000000000001, 'min_samples_split': 82}, {'max_depth': 10, 'min_impurity_decrease': 0.0007000000000000001, 'min_samples_split': 92}, {'max_depth': 10, 'min_impurity_decrease': 0.0008, 'min_samples_split': 2}, {'max_depth': 10, 'min_impurity_decrease': 0.0008, 'min_samples_split': 12}, {'max_depth': 10, 'min_impurity_decrease': 0.0008, 'min_samples_split': 22}, {'max_depth': 10, 'min_impurity_decrease': 0.0008, 'min_samples_split': 32}, {'max_depth': 10, 'min_impurity_decrease': 0.0008, 'min_samples_split': 42}, {'max_depth': 10, 'min_impurity_decrease': 0.0008, 'min_samples_split': 52}, {'max_depth': 10, 'min_impurity_decrease': 0.0008, 'min_samples_split': 62}, {'max_depth': 10, 'min_impurity_decrease': 0.0008, 'min_samples_split': 72}, {'max_depth': 10, 'min_impurity_decrease': 0.0008, 'min_samples_split': 82}, {'max_depth': 10, 'min_impurity_decrease': 0.0008, 'min_samples_split': 92}, {'max_depth': 10, 'min_impurity_decrease': 0.0009000000000000001, 'min_samples_split': 2}, {'max_depth': 10, 'min_impurity_decrease': 0.0009000000000000001, 'min_samples_split': 12}, {'max_depth': 10, 'min_impurity_decrease': 0.0009000000000000001, 'min_samples_split': 22}, {'max_depth': 10, 'min_impurity_decrease': 0.0009000000000000001, 'min_samples_split': 32}, {'max_depth': 10, 'min_impurity_decrease': 0.0009000000000000001, 'min_samples_split': 42}, {'max_depth': 10, 'min_impurity_decrease': 0.0009000000000000001, 'min_samples_split': 52}, {'max_depth': 10, 'min_impurity_decrease': 0.0009000000000000001, 'min_samples_split': 62}, {'max_depth': 10, 'min_impurity_decrease': 0.0009000000000000001, 'min_samples_split': 72}, {'max_depth': 10, 'min_impurity_decrease': 0.0009000000000000001, 'min_samples_split': 82}, {'max_depth': 10, 'min_impurity_decrease': 0.0009000000000000001, 'min_samples_split': 92}, {'max_depth': 11, 'min_impurity_decrease': 0.0001, 'min_samples_split': 2}, {'max_depth': 11, 'min_impurity_decrease': 0.0001, 'min_samples_split': 12}, {'max_depth': 11, 'min_impurity_decrease': 0.0001, 'min_samples_split': 22}, {'max_depth': 11, 'min_impurity_decrease': 0.0001, 'min_samples_split': 32}, {'max_depth': 11, 'min_impurity_decrease': 0.0001, 'min_samples_split': 42}, {'max_depth': 11, 'min_impurity_decrease': 0.0001, 'min_samples_split': 52}, {'max_depth': 11, 'min_impurity_decrease': 0.0001, 'min_samples_split': 62}, {'max_depth': 11, 'min_impurity_decrease': 0.0001, 'min_samples_split': 72}, {'max_depth': 11, 'min_impurity_decrease': 0.0001, 'min_samples_split': 82}, {'max_depth': 11, 'min_impurity_decrease': 0.0001, 'min_samples_split': 92}, {'max_depth': 11, 'min_impurity_decrease': 0.0002, 'min_samples_split': 2}, {'max_depth': 11, 'min_impurity_decrease': 0.0002, 'min_samples_split': 12}, {'max_depth': 11, 'min_impurity_decrease': 0.0002, 'min_samples_split': 22}, {'max_depth': 11, 'min_impurity_decrease': 0.0002, 'min_samples_split': 32}, {'max_depth': 11, 'min_impurity_decrease': 0.0002, 'min_samples_split': 42}, {'max_depth': 11, 'min_impurity_decrease': 0.0002, 'min_samples_split': 52}, {'max_depth': 11, 'min_impurity_decrease': 0.0002, 'min_samples_split': 62}, {'max_depth': 11, 'min_impurity_decrease': 0.0002, 'min_samples_split': 72}, {'max_depth': 11, 'min_impurity_decrease': 0.0002, 'min_samples_split': 82}, {'max_depth': 11, 'min_impurity_decrease': 0.0002, 'min_samples_split': 92}, {'max_depth': 11, 'min_impurity_decrease': 0.00030000000000000003, 'min_samples_split': 2}, {'max_depth': 11, 'min_impurity_decrease': 0.00030000000000000003, 'min_samples_split': 12}, {'max_depth': 11, 'min_impurity_decrease': 0.00030000000000000003, 'min_samples_split': 22}, {'max_depth': 11, 'min_impurity_decrease': 0.00030000000000000003, 'min_samples_split': 32}, {'max_depth': 11, 'min_impurity_decrease': 0.00030000000000000003, 'min_samples_split': 42}, {'max_depth': 11, 'min_impurity_decrease': 0.00030000000000000003, 'min_samples_split': 52}, {'max_depth': 11, 'min_impurity_decrease': 0.00030000000000000003, 'min_samples_split': 62}, {'max_depth': 11, 'min_impurity_decrease': 0.00030000000000000003, 'min_samples_split': 72}, {'max_depth': 11, 'min_impurity_decrease': 0.00030000000000000003, 'min_samples_split': 82}, {'max_depth': 11, 'min_impurity_decrease': 0.00030000000000000003, 'min_samples_split': 92}, {'max_depth': 11, 'min_impurity_decrease': 0.0004, 'min_samples_split': 2}, {'max_depth': 11, 'min_impurity_decrease': 0.0004, 'min_samples_split': 12}, {'max_depth': 11, 'min_impurity_decrease': 0.0004, 'min_samples_split': 22}, {'max_depth': 11, 'min_impurity_decrease': 0.0004, 'min_samples_split': 32}, {'max_depth': 11, 'min_impurity_decrease': 0.0004, 'min_samples_split': 42}, {'max_depth': 11, 'min_impurity_decrease': 0.0004, 'min_samples_split': 52}, {'max_depth': 11, 'min_impurity_decrease': 0.0004, 'min_samples_split': 62}, {'max_depth': 11, 'min_impurity_decrease': 0.0004, 'min_samples_split': 72}, {'max_depth': 11, 'min_impurity_decrease': 0.0004, 'min_samples_split': 82}, {'max_depth': 11, 'min_impurity_decrease': 0.0004, 'min_samples_split': 92}, {'max_depth': 11, 'min_impurity_decrease': 0.0005, 'min_samples_split': 2}, {'max_depth': 11, 'min_impurity_decrease': 0.0005, 'min_samples_split': 12}, {'max_depth': 11, 'min_impurity_decrease': 0.0005, 'min_samples_split': 22}, {'max_depth': 11, 'min_impurity_decrease': 0.0005, 'min_samples_split': 32}, {'max_depth': 11, 'min_impurity_decrease': 0.0005, 'min_samples_split': 42}, {'max_depth': 11, 'min_impurity_decrease': 0.0005, 'min_samples_split': 52}, {'max_depth': 11, 'min_impurity_decrease': 0.0005, 'min_samples_split': 62}, {'max_depth': 11, 'min_impurity_decrease': 0.0005, 'min_samples_split': 72}, {'max_depth': 11, 'min_impurity_decrease': 0.0005, 'min_samples_split': 82}, {'max_depth': 11, 'min_impurity_decrease': 0.0005, 'min_samples_split': 92}, {'max_depth': 11, 'min_impurity_decrease': 0.0006000000000000001, 'min_samples_split': 2}, {'max_depth': 11, 'min_impurity_decrease': 0.0006000000000000001, 'min_samples_split': 12}, {'max_depth': 11, 'min_impurity_decrease': 0.0006000000000000001, 'min_samples_split': 22}, {'max_depth': 11, 'min_impurity_decrease': 0.0006000000000000001, 'min_samples_split': 32}, {'max_depth': 11, 'min_impurity_decrease': 0.0006000000000000001, 'min_samples_split': 42}, {'max_depth': 11, 'min_impurity_decrease': 0.0006000000000000001, 'min_samples_split': 52}, {'max_depth': 11, 'min_impurity_decrease': 0.0006000000000000001, 'min_samples_split': 62}, {'max_depth': 11, 'min_impurity_decrease': 0.0006000000000000001, 'min_samples_split': 72}, {'max_depth': 11, 'min_impurity_decrease': 0.0006000000000000001, 'min_samples_split': 82}, {'max_depth': 11, 'min_impurity_decrease': 0.0006000000000000001, 'min_samples_split': 92}, {'max_depth': 11, 'min_impurity_decrease': 0.0007000000000000001, 'min_samples_split': 2}, {'max_depth': 11, 'min_impurity_decrease': 0.0007000000000000001, 'min_samples_split': 12}, {'max_depth': 11, 'min_impurity_decrease': 0.0007000000000000001, 'min_samples_split': 22}, {'max_depth': 11, 'min_impurity_decrease': 0.0007000000000000001, 'min_samples_split': 32}, {'max_depth': 11, 'min_impurity_decrease': 0.0007000000000000001, 'min_samples_split': 42}, {'max_depth': 11, 'min_impurity_decrease': 0.0007000000000000001, 'min_samples_split': 52}, {'max_depth': 11, 'min_impurity_decrease': 0.0007000000000000001, 'min_samples_split': 62}, {'max_depth': 11, 'min_impurity_decrease': 0.0007000000000000001, 'min_samples_split': 72}, {'max_depth': 11, 'min_impurity_decrease': 0.0007000000000000001, 'min_samples_split': 82}, {'max_depth': 11, 'min_impurity_decrease': 0.0007000000000000001, 'min_samples_split': 92}, {'max_depth': 11, 'min_impurity_decrease': 0.0008, 'min_samples_split': 2}, {'max_depth': 11, 'min_impurity_decrease': 0.0008, 'min_samples_split': 12}, {'max_depth': 11, 'min_impurity_decrease': 0.0008, 'min_samples_split': 22}, {'max_depth': 11, 'min_impurity_decrease': 0.0008, 'min_samples_split': 32}, {'max_depth': 11, 'min_impurity_decrease': 0.0008, 'min_samples_split': 42}, {'max_depth': 11, 'min_impurity_decrease': 0.0008, 'min_samples_split': 52}, {'max_depth': 11, 'min_impurity_decrease': 0.0008, 'min_samples_split': 62}, {'max_depth': 11, 'min_impurity_decrease': 0.0008, 'min_samples_split': 72}, {'max_depth': 11, 'min_impurity_decrease': 0.0008, 'min_samples_split': 82}, {'max_depth': 11, 'min_impurity_decrease': 0.0008, 'min_samples_split': 92}, {'max_depth': 11, 'min_impurity_decrease': 0.0009000000000000001, 'min_samples_split': 2}, {'max_depth': 11, 'min_impurity_decrease': 0.0009000000000000001, 'min_samples_split': 12}, {'max_depth': 11, 'min_impurity_decrease': 0.0009000000000000001, 'min_samples_split': 22}, {'max_depth': 11, 'min_impurity_decrease': 0.0009000000000000001, 'min_samples_split': 32}, {'max_depth': 11, 'min_impurity_decrease': 0.0009000000000000001, 'min_samples_split': 42}, {'max_depth': 11, 'min_impurity_decrease': 0.0009000000000000001, 'min_samples_split': 52}, {'max_depth': 11, 'min_impurity_decrease': 0.0009000000000000001, 'min_samples_split': 62}, {'max_depth': 11, 'min_impurity_decrease': 0.0009000000000000001, 'min_samples_split': 72}, {'max_depth': 11, 'min_impurity_decrease': 0.0009000000000000001, 'min_samples_split': 82}, {'max_depth': 11, 'min_impurity_decrease': 0.0009000000000000001, 'min_samples_split': 92}, {'max_depth': 12, 'min_impurity_decrease': 0.0001, 'min_samples_split': 2}, {'max_depth': 12, 'min_impurity_decrease': 0.0001, 'min_samples_split': 12}, {'max_depth': 12, 'min_impurity_decrease': 0.0001, 'min_samples_split': 22}, {'max_depth': 12, 'min_impurity_decrease': 0.0001, 'min_samples_split': 32}, {'max_depth': 12, 'min_impurity_decrease': 0.0001, 'min_samples_split': 42}, {'max_depth': 12, 'min_impurity_decrease': 0.0001, 'min_samples_split': 52}, {'max_depth': 12, 'min_impurity_decrease': 0.0001, 'min_samples_split': 62}, {'max_depth': 12, 'min_impurity_decrease': 0.0001, 'min_samples_split': 72}, {'max_depth': 12, 'min_impurity_decrease': 0.0001, 'min_samples_split': 82}, {'max_depth': 12, 'min_impurity_decrease': 0.0001, 'min_samples_split': 92}, {'max_depth': 12, 'min_impurity_decrease': 0.0002, 'min_samples_split': 2}, {'max_depth': 12, 'min_impurity_decrease': 0.0002, 'min_samples_split': 12}, {'max_depth': 12, 'min_impurity_decrease': 0.0002, 'min_samples_split': 22}, {'max_depth': 12, 'min_impurity_decrease': 0.0002, 'min_samples_split': 32}, {'max_depth': 12, 'min_impurity_decrease': 0.0002, 'min_samples_split': 42}, {'max_depth': 12, 'min_impurity_decrease': 0.0002, 'min_samples_split': 52}, {'max_depth': 12, 'min_impurity_decrease': 0.0002, 'min_samples_split': 62}, {'max_depth': 12, 'min_impurity_decrease': 0.0002, 'min_samples_split': 72}, {'max_depth': 12, 'min_impurity_decrease': 0.0002, 'min_samples_split': 82}, {'max_depth': 12, 'min_impurity_decrease': 0.0002, 'min_samples_split': 92}, {'max_depth': 12, 'min_impurity_decrease': 0.00030000000000000003, 'min_samples_split': 2}, {'max_depth': 12, 'min_impurity_decrease': 0.00030000000000000003, 'min_samples_split': 12}, {'max_depth': 12, 'min_impurity_decrease': 0.00030000000000000003, 'min_samples_split': 22}, {'max_depth': 12, 'min_impurity_decrease': 0.00030000000000000003, 'min_samples_split': 32}, {'max_depth': 12, 'min_impurity_decrease': 0.00030000000000000003, 'min_samples_split': 42}, {'max_depth': 12, 'min_impurity_decrease': 0.00030000000000000003, 'min_samples_split': 52}, {'max_depth': 12, 'min_impurity_decrease': 0.00030000000000000003, 'min_samples_split': 62}, {'max_depth': 12, 'min_impurity_decrease': 0.00030000000000000003, 'min_samples_split': 72}, {'max_depth': 12, 'min_impurity_decrease': 0.00030000000000000003, 'min_samples_split': 82}, {'max_depth': 12, 'min_impurity_decrease': 0.00030000000000000003, 'min_samples_split': 92}, {'max_depth': 12, 'min_impurity_decrease': 0.0004, 'min_samples_split': 2}, {'max_depth': 12, 'min_impurity_decrease': 0.0004, 'min_samples_split': 12}, {'max_depth': 12, 'min_impurity_decrease': 0.0004, 'min_samples_split': 22}, {'max_depth': 12, 'min_impurity_decrease': 0.0004, 'min_samples_split': 32}, {'max_depth': 12, 'min_impurity_decrease': 0.0004, 'min_samples_split': 42}, {'max_depth': 12, 'min_impurity_decrease': 0.0004, 'min_samples_split': 52}, {'max_depth': 12, 'min_impurity_decrease': 0.0004, 'min_samples_split': 62}, {'max_depth': 12, 'min_impurity_decrease': 0.0004, 'min_samples_split': 72}, {'max_depth': 12, 'min_impurity_decrease': 0.0004, 'min_samples_split': 82}, {'max_depth': 12, 'min_impurity_decrease': 0.0004, 'min_samples_split': 92}, {'max_depth': 12, 'min_impurity_decrease': 0.0005, 'min_samples_split': 2}, {'max_depth': 12, 'min_impurity_decrease': 0.0005, 'min_samples_split': 12}, {'max_depth': 12, 'min_impurity_decrease': 0.0005, 'min_samples_split': 22}, {'max_depth': 12, 'min_impurity_decrease': 0.0005, 'min_samples_split': 32}, {'max_depth': 12, 'min_impurity_decrease': 0.0005, 'min_samples_split': 42}, {'max_depth': 12, 'min_impurity_decrease': 0.0005, 'min_samples_split': 52}, {'max_depth': 12, 'min_impurity_decrease': 0.0005, 'min_samples_split': 62}, {'max_depth': 12, 'min_impurity_decrease': 0.0005, 'min_samples_split': 72}, {'max_depth': 12, 'min_impurity_decrease': 0.0005, 'min_samples_split': 82}, {'max_depth': 12, 'min_impurity_decrease': 0.0005, 'min_samples_split': 92}, {'max_depth': 12, 'min_impurity_decrease': 0.0006000000000000001, 'min_samples_split': 2}, {'max_depth': 12, 'min_impurity_decrease': 0.0006000000000000001, 'min_samples_split': 12}, {'max_depth': 12, 'min_impurity_decrease': 0.0006000000000000001, 'min_samples_split': 22}, {'max_depth': 12, 'min_impurity_decrease': 0.0006000000000000001, 'min_samples_split': 32}, {'max_depth': 12, 'min_impurity_decrease': 0.0006000000000000001, 'min_samples_split': 42}, {'max_depth': 12, 'min_impurity_decrease': 0.0006000000000000001, 'min_samples_split': 52}, {'max_depth': 12, 'min_impurity_decrease': 0.0006000000000000001, 'min_samples_split': 62}, {'max_depth': 12, 'min_impurity_decrease': 0.0006000000000000001, 'min_samples_split': 72}, {'max_depth': 12, 'min_impurity_decrease': 0.0006000000000000001, 'min_samples_split': 82}, {'max_depth': 12, 'min_impurity_decrease': 0.0006000000000000001, 'min_samples_split': 92}, {'max_depth': 12, 'min_impurity_decrease': 0.0007000000000000001, 'min_samples_split': 2}, {'max_depth': 12, 'min_impurity_decrease': 0.0007000000000000001, 'min_samples_split': 12}, {'max_depth': 12, 'min_impurity_decrease': 0.0007000000000000001, 'min_samples_split': 22}, {'max_depth': 12, 'min_impurity_decrease': 0.0007000000000000001, 'min_samples_split': 32}, {'max_depth': 12, 'min_impurity_decrease': 0.0007000000000000001, 'min_samples_split': 42}, {'max_depth': 12, 'min_impurity_decrease': 0.0007000000000000001, 'min_samples_split': 52}, {'max_depth': 12, 'min_impurity_decrease': 0.0007000000000000001, 'min_samples_split': 62}, {'max_depth': 12, 'min_impurity_decrease': 0.0007000000000000001, 'min_samples_split': 72}, {'max_depth': 12, 'min_impurity_decrease': 0.0007000000000000001, 'min_samples_split': 82}, {'max_depth': 12, 'min_impurity_decrease': 0.0007000000000000001, 'min_samples_split': 92}, {'max_depth': 12, 'min_impurity_decrease': 0.0008, 'min_samples_split': 2}, {'max_depth': 12, 'min_impurity_decrease': 0.0008, 'min_samples_split': 12}, {'max_depth': 12, 'min_impurity_decrease': 0.0008, 'min_samples_split': 22}, {'max_depth': 12, 'min_impurity_decrease': 0.0008, 'min_samples_split': 32}, {'max_depth': 12, 'min_impurity_decrease': 0.0008, 'min_samples_split': 42}, {'max_depth': 12, 'min_impurity_decrease': 0.0008, 'min_samples_split': 52}, {'max_depth': 12, 'min_impurity_decrease': 0.0008, 'min_samples_split': 62}, {'max_depth': 12, 'min_impurity_decrease': 0.0008, 'min_samples_split': 72}, {'max_depth': 12, 'min_impurity_decrease': 0.0008, 'min_samples_split': 82}, {'max_depth': 12, 'min_impurity_decrease': 0.0008, 'min_samples_split': 92}, {'max_depth': 12, 'min_impurity_decrease': 0.0009000000000000001, 'min_samples_split': 2}, {'max_depth': 12, 'min_impurity_decrease': 0.0009000000000000001, 'min_samples_split': 12}, {'max_depth': 12, 'min_impurity_decrease': 0.0009000000000000001, 'min_samples_split': 22}, {'max_depth': 12, 'min_impurity_decrease': 0.0009000000000000001, 'min_samples_split': 32}, {'max_depth': 12, 'min_impurity_decrease': 0.0009000000000000001, 'min_samples_split': 42}, {'max_depth': 12, 'min_impurity_decrease': 0.0009000000000000001, 'min_samples_split': 52}, {'max_depth': 12, 'min_impurity_decrease': 0.0009000000000000001, 'min_samples_split': 62}, {'max_depth': 12, 'min_impurity_decrease': 0.0009000000000000001, 'min_samples_split': 72}, {'max_depth': 12, 'min_impurity_decrease': 0.0009000000000000001, 'min_samples_split': 82}, {'max_depth': 12, 'min_impurity_decrease': 0.0009000000000000001, 'min_samples_split': 92}, {'max_depth': 13, 'min_impurity_decrease': 0.0001, 'min_samples_split': 2}, {'max_depth': 13, 'min_impurity_decrease': 0.0001, 'min_samples_split': 12}, {'max_depth': 13, 'min_impurity_decrease': 0.0001, 'min_samples_split': 22}, {'max_depth': 13, 'min_impurity_decrease': 0.0001, 'min_samples_split': 32}, {'max_depth': 13, 'min_impurity_decrease': 0.0001, 'min_samples_split': 42}, {'max_depth': 13, 'min_impurity_decrease': 0.0001, 'min_samples_split': 52}, {'max_depth': 13, 'min_impurity_decrease': 0.0001, 'min_samples_split': 62}, {'max_depth': 13, 'min_impurity_decrease': 0.0001, 'min_samples_split': 72}, {'max_depth': 13, 'min_impurity_decrease': 0.0001, 'min_samples_split': 82}, {'max_depth': 13, 'min_impurity_decrease': 0.0001, 'min_samples_split': 92}, {'max_depth': 13, 'min_impurity_decrease': 0.0002, 'min_samples_split': 2}, {'max_depth': 13, 'min_impurity_decrease': 0.0002, 'min_samples_split': 12}, {'max_depth': 13, 'min_impurity_decrease': 0.0002, 'min_samples_split': 22}, {'max_depth': 13, 'min_impurity_decrease': 0.0002, 'min_samples_split': 32}, {'max_depth': 13, 'min_impurity_decrease': 0.0002, 'min_samples_split': 42}, {'max_depth': 13, 'min_impurity_decrease': 0.0002, 'min_samples_split': 52}, {'max_depth': 13, 'min_impurity_decrease': 0.0002, 'min_samples_split': 62}, {'max_depth': 13, 'min_impurity_decrease': 0.0002, 'min_samples_split': 72}, {'max_depth': 13, 'min_impurity_decrease': 0.0002, 'min_samples_split': 82}, {'max_depth': 13, 'min_impurity_decrease': 0.0002, 'min_samples_split': 92}, {'max_depth': 13, 'min_impurity_decrease': 0.00030000000000000003, 'min_samples_split': 2}, {'max_depth': 13, 'min_impurity_decrease': 0.00030000000000000003, 'min_samples_split': 12}, {'max_depth': 13, 'min_impurity_decrease': 0.00030000000000000003, 'min_samples_split': 22}, {'max_depth': 13, 'min_impurity_decrease': 0.00030000000000000003, 'min_samples_split': 32}, {'max_depth': 13, 'min_impurity_decrease': 0.00030000000000000003, 'min_samples_split': 42}, {'max_depth': 13, 'min_impurity_decrease': 0.00030000000000000003, 'min_samples_split': 52}, {'max_depth': 13, 'min_impurity_decrease': 0.00030000000000000003, 'min_samples_split': 62}, {'max_depth': 13, 'min_impurity_decrease': 0.00030000000000000003, 'min_samples_split': 72}, {'max_depth': 13, 'min_impurity_decrease': 0.00030000000000000003, 'min_samples_split': 82}, {'max_depth': 13, 'min_impurity_decrease': 0.00030000000000000003, 'min_samples_split': 92}, {'max_depth': 13, 'min_impurity_decrease': 0.0004, 'min_samples_split': 2}, {'max_depth': 13, 'min_impurity_decrease': 0.0004, 'min_samples_split': 12}, {'max_depth': 13, 'min_impurity_decrease': 0.0004, 'min_samples_split': 22}, {'max_depth': 13, 'min_impurity_decrease': 0.0004, 'min_samples_split': 32}, {'max_depth': 13, 'min_impurity_decrease': 0.0004, 'min_samples_split': 42}, {'max_depth': 13, 'min_impurity_decrease': 0.0004, 'min_samples_split': 52}, {'max_depth': 13, 'min_impurity_decrease': 0.0004, 'min_samples_split': 62}, {'max_depth': 13, 'min_impurity_decrease': 0.0004, 'min_samples_split': 72}, {'max_depth': 13, 'min_impurity_decrease': 0.0004, 'min_samples_split': 82}, {'max_depth': 13, 'min_impurity_decrease': 0.0004, 'min_samples_split': 92}, {'max_depth': 13, 'min_impurity_decrease': 0.0005, 'min_samples_split': 2}, {'max_depth': 13, 'min_impurity_decrease': 0.0005, 'min_samples_split': 12}, {'max_depth': 13, 'min_impurity_decrease': 0.0005, 'min_samples_split': 22}, {'max_depth': 13, 'min_impurity_decrease': 0.0005, 'min_samples_split': 32}, {'max_depth': 13, 'min_impurity_decrease': 0.0005, 'min_samples_split': 42}, {'max_depth': 13, 'min_impurity_decrease': 0.0005, 'min_samples_split': 52}, {'max_depth': 13, 'min_impurity_decrease': 0.0005, 'min_samples_split': 62}, {'max_depth': 13, 'min_impurity_decrease': 0.0005, 'min_samples_split': 72}, {'max_depth': 13, 'min_impurity_decrease': 0.0005, 'min_samples_split': 82}, {'max_depth': 13, 'min_impurity_decrease': 0.0005, 'min_samples_split': 92}, {'max_depth': 13, 'min_impurity_decrease': 0.0006000000000000001, 'min_samples_split': 2}, {'max_depth': 13, 'min_impurity_decrease': 0.0006000000000000001, 'min_samples_split': 12}, {'max_depth': 13, 'min_impurity_decrease': 0.0006000000000000001, 'min_samples_split': 22}, {'max_depth': 13, 'min_impurity_decrease': 0.0006000000000000001, 'min_samples_split': 32}, {'max_depth': 13, 'min_impurity_decrease': 0.0006000000000000001, 'min_samples_split': 42}, {'max_depth': 13, 'min_impurity_decrease': 0.0006000000000000001, 'min_samples_split': 52}, {'max_depth': 13, 'min_impurity_decrease': 0.0006000000000000001, 'min_samples_split': 62}, {'max_depth': 13, 'min_impurity_decrease': 0.0006000000000000001, 'min_samples_split': 72}, {'max_depth': 13, 'min_impurity_decrease': 0.0006000000000000001, 'min_samples_split': 82}, {'max_depth': 13, 'min_impurity_decrease': 0.0006000000000000001, 'min_samples_split': 92}, {'max_depth': 13, 'min_impurity_decrease': 0.0007000000000000001, 'min_samples_split': 2}, {'max_depth': 13, 'min_impurity_decrease': 0.0007000000000000001, 'min_samples_split': 12}, {'max_depth': 13, 'min_impurity_decrease': 0.0007000000000000001, 'min_samples_split': 22}, {'max_depth': 13, 'min_impurity_decrease': 0.0007000000000000001, 'min_samples_split': 32}, {'max_depth': 13, 'min_impurity_decrease': 0.0007000000000000001, 'min_samples_split': 42}, {'max_depth': 13, 'min_impurity_decrease': 0.0007000000000000001, 'min_samples_split': 52}, {'max_depth': 13, 'min_impurity_decrease': 0.0007000000000000001, 'min_samples_split': 62}, {'max_depth': 13, 'min_impurity_decrease': 0.0007000000000000001, 'min_samples_split': 72}, {'max_depth': 13, 'min_impurity_decrease': 0.0007000000000000001, 'min_samples_split': 82}, {'max_depth': 13, 'min_impurity_decrease': 0.0007000000000000001, 'min_samples_split': 92}, {'max_depth': 13, 'min_impurity_decrease': 0.0008, 'min_samples_split': 2}, {'max_depth': 13, 'min_impurity_decrease': 0.0008, 'min_samples_split': 12}, {'max_depth': 13, 'min_impurity_decrease': 0.0008, 'min_samples_split': 22}, {'max_depth': 13, 'min_impurity_decrease': 0.0008, 'min_samples_split': 32}, {'max_depth': 13, 'min_impurity_decrease': 0.0008, 'min_samples_split': 42}, {'max_depth': 13, 'min_impurity_decrease': 0.0008, 'min_samples_split': 52}, {'max_depth': 13, 'min_impurity_decrease': 0.0008, 'min_samples_split': 62}, {'max_depth': 13, 'min_impurity_decrease': 0.0008, 'min_samples_split': 72}, {'max_depth': 13, 'min_impurity_decrease': 0.0008, 'min_samples_split': 82}, {'max_depth': 13, 'min_impurity_decrease': 0.0008, 'min_samples_split': 92}, {'max_depth': 13, 'min_impurity_decrease': 0.0009000000000000001, 'min_samples_split': 2}, {'max_depth': 13, 'min_impurity_decrease': 0.0009000000000000001, 'min_samples_split': 12}, {'max_depth': 13, 'min_impurity_decrease': 0.0009000000000000001, 'min_samples_split': 22}, {'max_depth': 13, 'min_impurity_decrease': 0.0009000000000000001, 'min_samples_split': 32}, {'max_depth': 13, 'min_impurity_decrease': 0.0009000000000000001, 'min_samples_split': 42}, {'max_depth': 13, 'min_impurity_decrease': 0.0009000000000000001, 'min_samples_split': 52}, {'max_depth': 13, 'min_impurity_decrease': 0.0009000000000000001, 'min_samples_split': 62}, {'max_depth': 13, 'min_impurity_decrease': 0.0009000000000000001, 'min_samples_split': 72}, {'max_depth': 13, 'min_impurity_decrease': 0.0009000000000000001, 'min_samples_split': 82}, {'max_depth': 13, 'min_impurity_decrease': 0.0009000000000000001, 'min_samples_split': 92}, {'max_depth': 14, 'min_impurity_decrease': 0.0001, 'min_samples_split': 2}, {'max_depth': 14, 'min_impurity_decrease': 0.0001, 'min_samples_split': 12}, {'max_depth': 14, 'min_impurity_decrease': 0.0001, 'min_samples_split': 22}, {'max_depth': 14, 'min_impurity_decrease': 0.0001, 'min_samples_split': 32}, {'max_depth': 14, 'min_impurity_decrease': 0.0001, 'min_samples_split': 42}, {'max_depth': 14, 'min_impurity_decrease': 0.0001, 'min_samples_split': 52}, {'max_depth': 14, 'min_impurity_decrease': 0.0001, 'min_samples_split': 62}, {'max_depth': 14, 'min_impurity_decrease': 0.0001, 'min_samples_split': 72}, {'max_depth': 14, 'min_impurity_decrease': 0.0001, 'min_samples_split': 82}, {'max_depth': 14, 'min_impurity_decrease': 0.0001, 'min_samples_split': 92}, {'max_depth': 14, 'min_impurity_decrease': 0.0002, 'min_samples_split': 2}, {'max_depth': 14, 'min_impurity_decrease': 0.0002, 'min_samples_split': 12}, {'max_depth': 14, 'min_impurity_decrease': 0.0002, 'min_samples_split': 22}, {'max_depth': 14, 'min_impurity_decrease': 0.0002, 'min_samples_split': 32}, {'max_depth': 14, 'min_impurity_decrease': 0.0002, 'min_samples_split': 42}, {'max_depth': 14, 'min_impurity_decrease': 0.0002, 'min_samples_split': 52}, {'max_depth': 14, 'min_impurity_decrease': 0.0002, 'min_samples_split': 62}, {'max_depth': 14, 'min_impurity_decrease': 0.0002, 'min_samples_split': 72}, {'max_depth': 14, 'min_impurity_decrease': 0.0002, 'min_samples_split': 82}, {'max_depth': 14, 'min_impurity_decrease': 0.0002, 'min_samples_split': 92}, {'max_depth': 14, 'min_impurity_decrease': 0.00030000000000000003, 'min_samples_split': 2}, {'max_depth': 14, 'min_impurity_decrease': 0.00030000000000000003, 'min_samples_split': 12}, {'max_depth': 14, 'min_impurity_decrease': 0.00030000000000000003, 'min_samples_split': 22}, {'max_depth': 14, 'min_impurity_decrease': 0.00030000000000000003, 'min_samples_split': 32}, {'max_depth': 14, 'min_impurity_decrease': 0.00030000000000000003, 'min_samples_split': 42}, {'max_depth': 14, 'min_impurity_decrease': 0.00030000000000000003, 'min_samples_split': 52}, {'max_depth': 14, 'min_impurity_decrease': 0.00030000000000000003, 'min_samples_split': 62}, {'max_depth': 14, 'min_impurity_decrease': 0.00030000000000000003, 'min_samples_split': 72}, {'max_depth': 14, 'min_impurity_decrease': 0.00030000000000000003, 'min_samples_split': 82}, {'max_depth': 14, 'min_impurity_decrease': 0.00030000000000000003, 'min_samples_split': 92}, {'max_depth': 14, 'min_impurity_decrease': 0.0004, 'min_samples_split': 2}, {'max_depth': 14, 'min_impurity_decrease': 0.0004, 'min_samples_split': 12}, {'max_depth': 14, 'min_impurity_decrease': 0.0004, 'min_samples_split': 22}, {'max_depth': 14, 'min_impurity_decrease': 0.0004, 'min_samples_split': 32}, {'max_depth': 14, 'min_impurity_decrease': 0.0004, 'min_samples_split': 42}, {'max_depth': 14, 'min_impurity_decrease': 0.0004, 'min_samples_split': 52}, {'max_depth': 14, 'min_impurity_decrease': 0.0004, 'min_samples_split': 62}, {'max_depth': 14, 'min_impurity_decrease': 0.0004, 'min_samples_split': 72}, {'max_depth': 14, 'min_impurity_decrease': 0.0004, 'min_samples_split': 82}, {'max_depth': 14, 'min_impurity_decrease': 0.0004, 'min_samples_split': 92}, {'max_depth': 14, 'min_impurity_decrease': 0.0005, 'min_samples_split': 2}, {'max_depth': 14, 'min_impurity_decrease': 0.0005, 'min_samples_split': 12}, {'max_depth': 14, 'min_impurity_decrease': 0.0005, 'min_samples_split': 22}, {'max_depth': 14, 'min_impurity_decrease': 0.0005, 'min_samples_split': 32}, {'max_depth': 14, 'min_impurity_decrease': 0.0005, 'min_samples_split': 42}, {'max_depth': 14, 'min_impurity_decrease': 0.0005, 'min_samples_split': 52}, {'max_depth': 14, 'min_impurity_decrease': 0.0005, 'min_samples_split': 62}, {'max_depth': 14, 'min_impurity_decrease': 0.0005, 'min_samples_split': 72}, {'max_depth': 14, 'min_impurity_decrease': 0.0005, 'min_samples_split': 82}, {'max_depth': 14, 'min_impurity_decrease': 0.0005, 'min_samples_split': 92}, {'max_depth': 14, 'min_impurity_decrease': 0.0006000000000000001, 'min_samples_split': 2}, {'max_depth': 14, 'min_impurity_decrease': 0.0006000000000000001, 'min_samples_split': 12}, {'max_depth': 14, 'min_impurity_decrease': 0.0006000000000000001, 'min_samples_split': 22}, {'max_depth': 14, 'min_impurity_decrease': 0.0006000000000000001, 'min_samples_split': 32}, {'max_depth': 14, 'min_impurity_decrease': 0.0006000000000000001, 'min_samples_split': 42}, {'max_depth': 14, 'min_impurity_decrease': 0.0006000000000000001, 'min_samples_split': 52}, {'max_depth': 14, 'min_impurity_decrease': 0.0006000000000000001, 'min_samples_split': 62}, {'max_depth': 14, 'min_impurity_decrease': 0.0006000000000000001, 'min_samples_split': 72}, {'max_depth': 14, 'min_impurity_decrease': 0.0006000000000000001, 'min_samples_split': 82}, {'max_depth': 14, 'min_impurity_decrease': 0.0006000000000000001, 'min_samples_split': 92}, {'max_depth': 14, 'min_impurity_decrease': 0.0007000000000000001, 'min_samples_split': 2}, {'max_depth': 14, 'min_impurity_decrease': 0.0007000000000000001, 'min_samples_split': 12}, {'max_depth': 14, 'min_impurity_decrease': 0.0007000000000000001, 'min_samples_split': 22}, {'max_depth': 14, 'min_impurity_decrease': 0.0007000000000000001, 'min_samples_split': 32}, {'max_depth': 14, 'min_impurity_decrease': 0.0007000000000000001, 'min_samples_split': 42}, {'max_depth': 14, 'min_impurity_decrease': 0.0007000000000000001, 'min_samples_split': 52}, {'max_depth': 14, 'min_impurity_decrease': 0.0007000000000000001, 'min_samples_split': 62}, {'max_depth': 14, 'min_impurity_decrease': 0.0007000000000000001, 'min_samples_split': 72}, {'max_depth': 14, 'min_impurity_decrease': 0.0007000000000000001, 'min_samples_split': 82}, {'max_depth': 14, 'min_impurity_decrease': 0.0007000000000000001, 'min_samples_split': 92}, {'max_depth': 14, 'min_impurity_decrease': 0.0008, 'min_samples_split': 2}, {'max_depth': 14, 'min_impurity_decrease': 0.0008, 'min_samples_split': 12}, {'max_depth': 14, 'min_impurity_decrease': 0.0008, 'min_samples_split': 22}, {'max_depth': 14, 'min_impurity_decrease': 0.0008, 'min_samples_split': 32}, {'max_depth': 14, 'min_impurity_decrease': 0.0008, 'min_samples_split': 42}, {'max_depth': 14, 'min_impurity_decrease': 0.0008, 'min_samples_split': 52}, {'max_depth': 14, 'min_impurity_decrease': 0.0008, 'min_samples_split': 62}, {'max_depth': 14, 'min_impurity_decrease': 0.0008, 'min_samples_split': 72}, {'max_depth': 14, 'min_impurity_decrease': 0.0008, 'min_samples_split': 82}, {'max_depth': 14, 'min_impurity_decrease': 0.0008, 'min_samples_split': 92}, {'max_depth': 14, 'min_impurity_decrease': 0.0009000000000000001, 'min_samples_split': 2}, {'max_depth': 14, 'min_impurity_decrease': 0.0009000000000000001, 'min_samples_split': 12}, {'max_depth': 14, 'min_impurity_decrease': 0.0009000000000000001, 'min_samples_split': 22}, {'max_depth': 14, 'min_impurity_decrease': 0.0009000000000000001, 'min_samples_split': 32}, {'max_depth': 14, 'min_impurity_decrease': 0.0009000000000000001, 'min_samples_split': 42}, {'max_depth': 14, 'min_impurity_decrease': 0.0009000000000000001, 'min_samples_split': 52}, {'max_depth': 14, 'min_impurity_decrease': 0.0009000000000000001, 'min_samples_split': 62}, {'max_depth': 14, 'min_impurity_decrease': 0.0009000000000000001, 'min_samples_split': 72}, {'max_depth': 14, 'min_impurity_decrease': 0.0009000000000000001, 'min_samples_split': 82}, {'max_depth': 14, 'min_impurity_decrease': 0.0009000000000000001, 'min_samples_split': 92}, {'max_depth': 15, 'min_impurity_decrease': 0.0001, 'min_samples_split': 2}, {'max_depth': 15, 'min_impurity_decrease': 0.0001, 'min_samples_split': 12}, {'max_depth': 15, 'min_impurity_decrease': 0.0001, 'min_samples_split': 22}, {'max_depth': 15, 'min_impurity_decrease': 0.0001, 'min_samples_split': 32}, {'max_depth': 15, 'min_impurity_decrease': 0.0001, 'min_samples_split': 42}, {'max_depth': 15, 'min_impurity_decrease': 0.0001, 'min_samples_split': 52}, {'max_depth': 15, 'min_impurity_decrease': 0.0001, 'min_samples_split': 62}, {'max_depth': 15, 'min_impurity_decrease': 0.0001, 'min_samples_split': 72}, {'max_depth': 15, 'min_impurity_decrease': 0.0001, 'min_samples_split': 82}, {'max_depth': 15, 'min_impurity_decrease': 0.0001, 'min_samples_split': 92}, {'max_depth': 15, 'min_impurity_decrease': 0.0002, 'min_samples_split': 2}, {'max_depth': 15, 'min_impurity_decrease': 0.0002, 'min_samples_split': 12}, {'max_depth': 15, 'min_impurity_decrease': 0.0002, 'min_samples_split': 22}, {'max_depth': 15, 'min_impurity_decrease': 0.0002, 'min_samples_split': 32}, {'max_depth': 15, 'min_impurity_decrease': 0.0002, 'min_samples_split': 42}, {'max_depth': 15, 'min_impurity_decrease': 0.0002, 'min_samples_split': 52}, {'max_depth': 15, 'min_impurity_decrease': 0.0002, 'min_samples_split': 62}, {'max_depth': 15, 'min_impurity_decrease': 0.0002, 'min_samples_split': 72}, {'max_depth': 15, 'min_impurity_decrease': 0.0002, 'min_samples_split': 82}, {'max_depth': 15, 'min_impurity_decrease': 0.0002, 'min_samples_split': 92}, {'max_depth': 15, 'min_impurity_decrease': 0.00030000000000000003, 'min_samples_split': 2}, {'max_depth': 15, 'min_impurity_decrease': 0.00030000000000000003, 'min_samples_split': 12}, {'max_depth': 15, 'min_impurity_decrease': 0.00030000000000000003, 'min_samples_split': 22}, {'max_depth': 15, 'min_impurity_decrease': 0.00030000000000000003, 'min_samples_split': 32}, {'max_depth': 15, 'min_impurity_decrease': 0.00030000000000000003, 'min_samples_split': 42}, {'max_depth': 15, 'min_impurity_decrease': 0.00030000000000000003, 'min_samples_split': 52}, {'max_depth': 15, 'min_impurity_decrease': 0.00030000000000000003, 'min_samples_split': 62}, {'max_depth': 15, 'min_impurity_decrease': 0.00030000000000000003, 'min_samples_split': 72}, {'max_depth': 15, 'min_impurity_decrease': 0.00030000000000000003, 'min_samples_split': 82}, {'max_depth': 15, 'min_impurity_decrease': 0.00030000000000000003, 'min_samples_split': 92}, {'max_depth': 15, 'min_impurity_decrease': 0.0004, 'min_samples_split': 2}, {'max_depth': 15, 'min_impurity_decrease': 0.0004, 'min_samples_split': 12}, {'max_depth': 15, 'min_impurity_decrease': 0.0004, 'min_samples_split': 22}, {'max_depth': 15, 'min_impurity_decrease': 0.0004, 'min_samples_split': 32}, {'max_depth': 15, 'min_impurity_decrease': 0.0004, 'min_samples_split': 42}, {'max_depth': 15, 'min_impurity_decrease': 0.0004, 'min_samples_split': 52}, {'max_depth': 15, 'min_impurity_decrease': 0.0004, 'min_samples_split': 62}, {'max_depth': 15, 'min_impurity_decrease': 0.0004, 'min_samples_split': 72}, {'max_depth': 15, 'min_impurity_decrease': 0.0004, 'min_samples_split': 82}, {'max_depth': 15, 'min_impurity_decrease': 0.0004, 'min_samples_split': 92}, {'max_depth': 15, 'min_impurity_decrease': 0.0005, 'min_samples_split': 2}, {'max_depth': 15, 'min_impurity_decrease': 0.0005, 'min_samples_split': 12}, {'max_depth': 15, 'min_impurity_decrease': 0.0005, 'min_samples_split': 22}, {'max_depth': 15, 'min_impurity_decrease': 0.0005, 'min_samples_split': 32}, {'max_depth': 15, 'min_impurity_decrease': 0.0005, 'min_samples_split': 42}, {'max_depth': 15, 'min_impurity_decrease': 0.0005, 'min_samples_split': 52}, {'max_depth': 15, 'min_impurity_decrease': 0.0005, 'min_samples_split': 62}, {'max_depth': 15, 'min_impurity_decrease': 0.0005, 'min_samples_split': 72}, {'max_depth': 15, 'min_impurity_decrease': 0.0005, 'min_samples_split': 82}, {'max_depth': 15, 'min_impurity_decrease': 0.0005, 'min_samples_split': 92}, {'max_depth': 15, 'min_impurity_decrease': 0.0006000000000000001, 'min_samples_split': 2}, {'max_depth': 15, 'min_impurity_decrease': 0.0006000000000000001, 'min_samples_split': 12}, {'max_depth': 15, 'min_impurity_decrease': 0.0006000000000000001, 'min_samples_split': 22}, {'max_depth': 15, 'min_impurity_decrease': 0.0006000000000000001, 'min_samples_split': 32}, {'max_depth': 15, 'min_impurity_decrease': 0.0006000000000000001, 'min_samples_split': 42}, {'max_depth': 15, 'min_impurity_decrease': 0.0006000000000000001, 'min_samples_split': 52}, {'max_depth': 15, 'min_impurity_decrease': 0.0006000000000000001, 'min_samples_split': 62}, {'max_depth': 15, 'min_impurity_decrease': 0.0006000000000000001, 'min_samples_split': 72}, {'max_depth': 15, 'min_impurity_decrease': 0.0006000000000000001, 'min_samples_split': 82}, {'max_depth': 15, 'min_impurity_decrease': 0.0006000000000000001, 'min_samples_split': 92}, {'max_depth': 15, 'min_impurity_decrease': 0.0007000000000000001, 'min_samples_split': 2}, {'max_depth': 15, 'min_impurity_decrease': 0.0007000000000000001, 'min_samples_split': 12}, {'max_depth': 15, 'min_impurity_decrease': 0.0007000000000000001, 'min_samples_split': 22}, {'max_depth': 15, 'min_impurity_decrease': 0.0007000000000000001, 'min_samples_split': 32}, {'max_depth': 15, 'min_impurity_decrease': 0.0007000000000000001, 'min_samples_split': 42}, {'max_depth': 15, 'min_impurity_decrease': 0.0007000000000000001, 'min_samples_split': 52}, {'max_depth': 15, 'min_impurity_decrease': 0.0007000000000000001, 'min_samples_split': 62}, {'max_depth': 15, 'min_impurity_decrease': 0.0007000000000000001, 'min_samples_split': 72}, {'max_depth': 15, 'min_impurity_decrease': 0.0007000000000000001, 'min_samples_split': 82}, {'max_depth': 15, 'min_impurity_decrease': 0.0007000000000000001, 'min_samples_split': 92}, {'max_depth': 15, 'min_impurity_decrease': 0.0008, 'min_samples_split': 2}, {'max_depth': 15, 'min_impurity_decrease': 0.0008, 'min_samples_split': 12}, {'max_depth': 15, 'min_impurity_decrease': 0.0008, 'min_samples_split': 22}, {'max_depth': 15, 'min_impurity_decrease': 0.0008, 'min_samples_split': 32}, {'max_depth': 15, 'min_impurity_decrease': 0.0008, 'min_samples_split': 42}, {'max_depth': 15, 'min_impurity_decrease': 0.0008, 'min_samples_split': 52}, {'max_depth': 15, 'min_impurity_decrease': 0.0008, 'min_samples_split': 62}, {'max_depth': 15, 'min_impurity_decrease': 0.0008, 'min_samples_split': 72}, {'max_depth': 15, 'min_impurity_decrease': 0.0008, 'min_samples_split': 82}, {'max_depth': 15, 'min_impurity_decrease': 0.0008, 'min_samples_split': 92}, {'max_depth': 15, 'min_impurity_decrease': 0.0009000000000000001, 'min_samples_split': 2}, {'max_depth': 15, 'min_impurity_decrease': 0.0009000000000000001, 'min_samples_split': 12}, {'max_depth': 15, 'min_impurity_decrease': 0.0009000000000000001, 'min_samples_split': 22}, {'max_depth': 15, 'min_impurity_decrease': 0.0009000000000000001, 'min_samples_split': 32}, {'max_depth': 15, 'min_impurity_decrease': 0.0009000000000000001, 'min_samples_split': 42}, {'max_depth': 15, 'min_impurity_decrease': 0.0009000000000000001, 'min_samples_split': 52}, {'max_depth': 15, 'min_impurity_decrease': 0.0009000000000000001, 'min_samples_split': 62}, {'max_depth': 15, 'min_impurity_decrease': 0.0009000000000000001, 'min_samples_split': 72}, {'max_depth': 15, 'min_impurity_decrease': 0.0009000000000000001, 'min_samples_split': 82}, {'max_depth': 15, 'min_impurity_decrease': 0.0009000000000000001, 'min_samples_split': 92}, {'max_depth': 16, 'min_impurity_decrease': 0.0001, 'min_samples_split': 2}, {'max_depth': 16, 'min_impurity_decrease': 0.0001, 'min_samples_split': 12}, {'max_depth': 16, 'min_impurity_decrease': 0.0001, 'min_samples_split': 22}, {'max_depth': 16, 'min_impurity_decrease': 0.0001, 'min_samples_split': 32}, {'max_depth': 16, 'min_impurity_decrease': 0.0001, 'min_samples_split': 42}, {'max_depth': 16, 'min_impurity_decrease': 0.0001, 'min_samples_split': 52}, {'max_depth': 16, 'min_impurity_decrease': 0.0001, 'min_samples_split': 62}, {'max_depth': 16, 'min_impurity_decrease': 0.0001, 'min_samples_split': 72}, {'max_depth': 16, 'min_impurity_decrease': 0.0001, 'min_samples_split': 82}, {'max_depth': 16, 'min_impurity_decrease': 0.0001, 'min_samples_split': 92}, {'max_depth': 16, 'min_impurity_decrease': 0.0002, 'min_samples_split': 2}, {'max_depth': 16, 'min_impurity_decrease': 0.0002, 'min_samples_split': 12}, {'max_depth': 16, 'min_impurity_decrease': 0.0002, 'min_samples_split': 22}, {'max_depth': 16, 'min_impurity_decrease': 0.0002, 'min_samples_split': 32}, {'max_depth': 16, 'min_impurity_decrease': 0.0002, 'min_samples_split': 42}, {'max_depth': 16, 'min_impurity_decrease': 0.0002, 'min_samples_split': 52}, {'max_depth': 16, 'min_impurity_decrease': 0.0002, 'min_samples_split': 62}, {'max_depth': 16, 'min_impurity_decrease': 0.0002, 'min_samples_split': 72}, {'max_depth': 16, 'min_impurity_decrease': 0.0002, 'min_samples_split': 82}, {'max_depth': 16, 'min_impurity_decrease': 0.0002, 'min_samples_split': 92}, {'max_depth': 16, 'min_impurity_decrease': 0.00030000000000000003, 'min_samples_split': 2}, {'max_depth': 16, 'min_impurity_decrease': 0.00030000000000000003, 'min_samples_split': 12}, {'max_depth': 16, 'min_impurity_decrease': 0.00030000000000000003, 'min_samples_split': 22}, {'max_depth': 16, 'min_impurity_decrease': 0.00030000000000000003, 'min_samples_split': 32}, {'max_depth': 16, 'min_impurity_decrease': 0.00030000000000000003, 'min_samples_split': 42}, {'max_depth': 16, 'min_impurity_decrease': 0.00030000000000000003, 'min_samples_split': 52}, {'max_depth': 16, 'min_impurity_decrease': 0.00030000000000000003, 'min_samples_split': 62}, {'max_depth': 16, 'min_impurity_decrease': 0.00030000000000000003, 'min_samples_split': 72}, {'max_depth': 16, 'min_impurity_decrease': 0.00030000000000000003, 'min_samples_split': 82}, {'max_depth': 16, 'min_impurity_decrease': 0.00030000000000000003, 'min_samples_split': 92}, {'max_depth': 16, 'min_impurity_decrease': 0.0004, 'min_samples_split': 2}, {'max_depth': 16, 'min_impurity_decrease': 0.0004, 'min_samples_split': 12}, {'max_depth': 16, 'min_impurity_decrease': 0.0004, 'min_samples_split': 22}, {'max_depth': 16, 'min_impurity_decrease': 0.0004, 'min_samples_split': 32}, {'max_depth': 16, 'min_impurity_decrease': 0.0004, 'min_samples_split': 42}, {'max_depth': 16, 'min_impurity_decrease': 0.0004, 'min_samples_split': 52}, {'max_depth': 16, 'min_impurity_decrease': 0.0004, 'min_samples_split': 62}, {'max_depth': 16, 'min_impurity_decrease': 0.0004, 'min_samples_split': 72}, {'max_depth': 16, 'min_impurity_decrease': 0.0004, 'min_samples_split': 82}, {'max_depth': 16, 'min_impurity_decrease': 0.0004, 'min_samples_split': 92}, {'max_depth': 16, 'min_impurity_decrease': 0.0005, 'min_samples_split': 2}, {'max_depth': 16, 'min_impurity_decrease': 0.0005, 'min_samples_split': 12}, {'max_depth': 16, 'min_impurity_decrease': 0.0005, 'min_samples_split': 22}, {'max_depth': 16, 'min_impurity_decrease': 0.0005, 'min_samples_split': 32}, {'max_depth': 16, 'min_impurity_decrease': 0.0005, 'min_samples_split': 42}, {'max_depth': 16, 'min_impurity_decrease': 0.0005, 'min_samples_split': 52}, {'max_depth': 16, 'min_impurity_decrease': 0.0005, 'min_samples_split': 62}, {'max_depth': 16, 'min_impurity_decrease': 0.0005, 'min_samples_split': 72}, {'max_depth': 16, 'min_impurity_decrease': 0.0005, 'min_samples_split': 82}, {'max_depth': 16, 'min_impurity_decrease': 0.0005, 'min_samples_split': 92}, {'max_depth': 16, 'min_impurity_decrease': 0.0006000000000000001, 'min_samples_split': 2}, {'max_depth': 16, 'min_impurity_decrease': 0.0006000000000000001, 'min_samples_split': 12}, {'max_depth': 16, 'min_impurity_decrease': 0.0006000000000000001, 'min_samples_split': 22}, {'max_depth': 16, 'min_impurity_decrease': 0.0006000000000000001, 'min_samples_split': 32}, {'max_depth': 16, 'min_impurity_decrease': 0.0006000000000000001, 'min_samples_split': 42}, {'max_depth': 16, 'min_impurity_decrease': 0.0006000000000000001, 'min_samples_split': 52}, {'max_depth': 16, 'min_impurity_decrease': 0.0006000000000000001, 'min_samples_split': 62}, {'max_depth': 16, 'min_impurity_decrease': 0.0006000000000000001, 'min_samples_split': 72}, {'max_depth': 16, 'min_impurity_decrease': 0.0006000000000000001, 'min_samples_split': 82}, {'max_depth': 16, 'min_impurity_decrease': 0.0006000000000000001, 'min_samples_split': 92}, {'max_depth': 16, 'min_impurity_decrease': 0.0007000000000000001, 'min_samples_split': 2}, {'max_depth': 16, 'min_impurity_decrease': 0.0007000000000000001, 'min_samples_split': 12}, {'max_depth': 16, 'min_impurity_decrease': 0.0007000000000000001, 'min_samples_split': 22}, {'max_depth': 16, 'min_impurity_decrease': 0.0007000000000000001, 'min_samples_split': 32}, {'max_depth': 16, 'min_impurity_decrease': 0.0007000000000000001, 'min_samples_split': 42}, {'max_depth': 16, 'min_impurity_decrease': 0.0007000000000000001, 'min_samples_split': 52}, {'max_depth': 16, 'min_impurity_decrease': 0.0007000000000000001, 'min_samples_split': 62}, {'max_depth': 16, 'min_impurity_decrease': 0.0007000000000000001, 'min_samples_split': 72}, {'max_depth': 16, 'min_impurity_decrease': 0.0007000000000000001, 'min_samples_split': 82}, {'max_depth': 16, 'min_impurity_decrease': 0.0007000000000000001, 'min_samples_split': 92}, {'max_depth': 16, 'min_impurity_decrease': 0.0008, 'min_samples_split': 2}, {'max_depth': 16, 'min_impurity_decrease': 0.0008, 'min_samples_split': 12}, {'max_depth': 16, 'min_impurity_decrease': 0.0008, 'min_samples_split': 22}, {'max_depth': 16, 'min_impurity_decrease': 0.0008, 'min_samples_split': 32}, {'max_depth': 16, 'min_impurity_decrease': 0.0008, 'min_samples_split': 42}, {'max_depth': 16, 'min_impurity_decrease': 0.0008, 'min_samples_split': 52}, {'max_depth': 16, 'min_impurity_decrease': 0.0008, 'min_samples_split': 62}, {'max_depth': 16, 'min_impurity_decrease': 0.0008, 'min_samples_split': 72}, {'max_depth': 16, 'min_impurity_decrease': 0.0008, 'min_samples_split': 82}, {'max_depth': 16, 'min_impurity_decrease': 0.0008, 'min_samples_split': 92}, {'max_depth': 16, 'min_impurity_decrease': 0.0009000000000000001, 'min_samples_split': 2}, {'max_depth': 16, 'min_impurity_decrease': 0.0009000000000000001, 'min_samples_split': 12}, {'max_depth': 16, 'min_impurity_decrease': 0.0009000000000000001, 'min_samples_split': 22}, {'max_depth': 16, 'min_impurity_decrease': 0.0009000000000000001, 'min_samples_split': 32}, {'max_depth': 16, 'min_impurity_decrease': 0.0009000000000000001, 'min_samples_split': 42}, {'max_depth': 16, 'min_impurity_decrease': 0.0009000000000000001, 'min_samples_split': 52}, {'max_depth': 16, 'min_impurity_decrease': 0.0009000000000000001, 'min_samples_split': 62}, {'max_depth': 16, 'min_impurity_decrease': 0.0009000000000000001, 'min_samples_split': 72}, {'max_depth': 16, 'min_impurity_decrease': 0.0009000000000000001, 'min_samples_split': 82}, {'max_depth': 16, 'min_impurity_decrease': 0.0009000000000000001, 'min_samples_split': 92}, {'max_depth': 17, 'min_impurity_decrease': 0.0001, 'min_samples_split': 2}, {'max_depth': 17, 'min_impurity_decrease': 0.0001, 'min_samples_split': 12}, {'max_depth': 17, 'min_impurity_decrease': 0.0001, 'min_samples_split': 22}, {'max_depth': 17, 'min_impurity_decrease': 0.0001, 'min_samples_split': 32}, {'max_depth': 17, 'min_impurity_decrease': 0.0001, 'min_samples_split': 42}, {'max_depth': 17, 'min_impurity_decrease': 0.0001, 'min_samples_split': 52}, {'max_depth': 17, 'min_impurity_decrease': 0.0001, 'min_samples_split': 62}, {'max_depth': 17, 'min_impurity_decrease': 0.0001, 'min_samples_split': 72}, {'max_depth': 17, 'min_impurity_decrease': 0.0001, 'min_samples_split': 82}, {'max_depth': 17, 'min_impurity_decrease': 0.0001, 'min_samples_split': 92}, {'max_depth': 17, 'min_impurity_decrease': 0.0002, 'min_samples_split': 2}, {'max_depth': 17, 'min_impurity_decrease': 0.0002, 'min_samples_split': 12}, {'max_depth': 17, 'min_impurity_decrease': 0.0002, 'min_samples_split': 22}, {'max_depth': 17, 'min_impurity_decrease': 0.0002, 'min_samples_split': 32}, {'max_depth': 17, 'min_impurity_decrease': 0.0002, 'min_samples_split': 42}, {'max_depth': 17, 'min_impurity_decrease': 0.0002, 'min_samples_split': 52}, {'max_depth': 17, 'min_impurity_decrease': 0.0002, 'min_samples_split': 62}, {'max_depth': 17, 'min_impurity_decrease': 0.0002, 'min_samples_split': 72}, {'max_depth': 17, 'min_impurity_decrease': 0.0002, 'min_samples_split': 82}, {'max_depth': 17, 'min_impurity_decrease': 0.0002, 'min_samples_split': 92}, {'max_depth': 17, 'min_impurity_decrease': 0.00030000000000000003, 'min_samples_split': 2}, {'max_depth': 17, 'min_impurity_decrease': 0.00030000000000000003, 'min_samples_split': 12}, {'max_depth': 17, 'min_impurity_decrease': 0.00030000000000000003, 'min_samples_split': 22}, {'max_depth': 17, 'min_impurity_decrease': 0.00030000000000000003, 'min_samples_split': 32}, {'max_depth': 17, 'min_impurity_decrease': 0.00030000000000000003, 'min_samples_split': 42}, {'max_depth': 17, 'min_impurity_decrease': 0.00030000000000000003, 'min_samples_split': 52}, {'max_depth': 17, 'min_impurity_decrease': 0.00030000000000000003, 'min_samples_split': 62}, {'max_depth': 17, 'min_impurity_decrease': 0.00030000000000000003, 'min_samples_split': 72}, {'max_depth': 17, 'min_impurity_decrease': 0.00030000000000000003, 'min_samples_split': 82}, {'max_depth': 17, 'min_impurity_decrease': 0.00030000000000000003, 'min_samples_split': 92}, {'max_depth': 17, 'min_impurity_decrease': 0.0004, 'min_samples_split': 2}, {'max_depth': 17, 'min_impurity_decrease': 0.0004, 'min_samples_split': 12}, {'max_depth': 17, 'min_impurity_decrease': 0.0004, 'min_samples_split': 22}, {'max_depth': 17, 'min_impurity_decrease': 0.0004, 'min_samples_split': 32}, {'max_depth': 17, 'min_impurity_decrease': 0.0004, 'min_samples_split': 42}, {'max_depth': 17, 'min_impurity_decrease': 0.0004, 'min_samples_split': 52}, {'max_depth': 17, 'min_impurity_decrease': 0.0004, 'min_samples_split': 62}, {'max_depth': 17, 'min_impurity_decrease': 0.0004, 'min_samples_split': 72}, {'max_depth': 17, 'min_impurity_decrease': 0.0004, 'min_samples_split': 82}, {'max_depth': 17, 'min_impurity_decrease': 0.0004, 'min_samples_split': 92}, {'max_depth': 17, 'min_impurity_decrease': 0.0005, 'min_samples_split': 2}, {'max_depth': 17, 'min_impurity_decrease': 0.0005, 'min_samples_split': 12}, {'max_depth': 17, 'min_impurity_decrease': 0.0005, 'min_samples_split': 22}, {'max_depth': 17, 'min_impurity_decrease': 0.0005, 'min_samples_split': 32}, {'max_depth': 17, 'min_impurity_decrease': 0.0005, 'min_samples_split': 42}, {'max_depth': 17, 'min_impurity_decrease': 0.0005, 'min_samples_split': 52}, {'max_depth': 17, 'min_impurity_decrease': 0.0005, 'min_samples_split': 62}, {'max_depth': 17, 'min_impurity_decrease': 0.0005, 'min_samples_split': 72}, {'max_depth': 17, 'min_impurity_decrease': 0.0005, 'min_samples_split': 82}, {'max_depth': 17, 'min_impurity_decrease': 0.0005, 'min_samples_split': 92}, {'max_depth': 17, 'min_impurity_decrease': 0.0006000000000000001, 'min_samples_split': 2}, {'max_depth': 17, 'min_impurity_decrease': 0.0006000000000000001, 'min_samples_split': 12}, {'max_depth': 17, 'min_impurity_decrease': 0.0006000000000000001, 'min_samples_split': 22}, {'max_depth': 17, 'min_impurity_decrease': 0.0006000000000000001, 'min_samples_split': 32}, {'max_depth': 17, 'min_impurity_decrease': 0.0006000000000000001, 'min_samples_split': 42}, {'max_depth': 17, 'min_impurity_decrease': 0.0006000000000000001, 'min_samples_split': 52}, {'max_depth': 17, 'min_impurity_decrease': 0.0006000000000000001, 'min_samples_split': 62}, {'max_depth': 17, 'min_impurity_decrease': 0.0006000000000000001, 'min_samples_split': 72}, {'max_depth': 17, 'min_impurity_decrease': 0.0006000000000000001, 'min_samples_split': 82}, {'max_depth': 17, 'min_impurity_decrease': 0.0006000000000000001, 'min_samples_split': 92}, {'max_depth': 17, 'min_impurity_decrease': 0.0007000000000000001, 'min_samples_split': 2}, {'max_depth': 17, 'min_impurity_decrease': 0.0007000000000000001, 'min_samples_split': 12}, {'max_depth': 17, 'min_impurity_decrease': 0.0007000000000000001, 'min_samples_split': 22}, {'max_depth': 17, 'min_impurity_decrease': 0.0007000000000000001, 'min_samples_split': 32}, {'max_depth': 17, 'min_impurity_decrease': 0.0007000000000000001, 'min_samples_split': 42}, {'max_depth': 17, 'min_impurity_decrease': 0.0007000000000000001, 'min_samples_split': 52}, {'max_depth': 17, 'min_impurity_decrease': 0.0007000000000000001, 'min_samples_split': 62}, {'max_depth': 17, 'min_impurity_decrease': 0.0007000000000000001, 'min_samples_split': 72}, {'max_depth': 17, 'min_impurity_decrease': 0.0007000000000000001, 'min_samples_split': 82}, {'max_depth': 17, 'min_impurity_decrease': 0.0007000000000000001, 'min_samples_split': 92}, {'max_depth': 17, 'min_impurity_decrease': 0.0008, 'min_samples_split': 2}, {'max_depth': 17, 'min_impurity_decrease': 0.0008, 'min_samples_split': 12}, {'max_depth': 17, 'min_impurity_decrease': 0.0008, 'min_samples_split': 22}, {'max_depth': 17, 'min_impurity_decrease': 0.0008, 'min_samples_split': 32}, {'max_depth': 17, 'min_impurity_decrease': 0.0008, 'min_samples_split': 42}, {'max_depth': 17, 'min_impurity_decrease': 0.0008, 'min_samples_split': 52}, {'max_depth': 17, 'min_impurity_decrease': 0.0008, 'min_samples_split': 62}, {'max_depth': 17, 'min_impurity_decrease': 0.0008, 'min_samples_split': 72}, {'max_depth': 17, 'min_impurity_decrease': 0.0008, 'min_samples_split': 82}, {'max_depth': 17, 'min_impurity_decrease': 0.0008, 'min_samples_split': 92}, {'max_depth': 17, 'min_impurity_decrease': 0.0009000000000000001, 'min_samples_split': 2}, {'max_depth': 17, 'min_impurity_decrease': 0.0009000000000000001, 'min_samples_split': 12}, {'max_depth': 17, 'min_impurity_decrease': 0.0009000000000000001, 'min_samples_split': 22}, {'max_depth': 17, 'min_impurity_decrease': 0.0009000000000000001, 'min_samples_split': 32}, {'max_depth': 17, 'min_impurity_decrease': 0.0009000000000000001, 'min_samples_split': 42}, {'max_depth': 17, 'min_impurity_decrease': 0.0009000000000000001, 'min_samples_split': 52}, {'max_depth': 17, 'min_impurity_decrease': 0.0009000000000000001, 'min_samples_split': 62}, {'max_depth': 17, 'min_impurity_decrease': 0.0009000000000000001, 'min_samples_split': 72}, {'max_depth': 17, 'min_impurity_decrease': 0.0009000000000000001, 'min_samples_split': 82}, {'max_depth': 17, 'min_impurity_decrease': 0.0009000000000000001, 'min_samples_split': 92}, {'max_depth': 18, 'min_impurity_decrease': 0.0001, 'min_samples_split': 2}, {'max_depth': 18, 'min_impurity_decrease': 0.0001, 'min_samples_split': 12}, {'max_depth': 18, 'min_impurity_decrease': 0.0001, 'min_samples_split': 22}, {'max_depth': 18, 'min_impurity_decrease': 0.0001, 'min_samples_split': 32}, {'max_depth': 18, 'min_impurity_decrease': 0.0001, 'min_samples_split': 42}, {'max_depth': 18, 'min_impurity_decrease': 0.0001, 'min_samples_split': 52}, {'max_depth': 18, 'min_impurity_decrease': 0.0001, 'min_samples_split': 62}, {'max_depth': 18, 'min_impurity_decrease': 0.0001, 'min_samples_split': 72}, {'max_depth': 18, 'min_impurity_decrease': 0.0001, 'min_samples_split': 82}, {'max_depth': 18, 'min_impurity_decrease': 0.0001, 'min_samples_split': 92}, {'max_depth': 18, 'min_impurity_decrease': 0.0002, 'min_samples_split': 2}, {'max_depth': 18, 'min_impurity_decrease': 0.0002, 'min_samples_split': 12}, {'max_depth': 18, 'min_impurity_decrease': 0.0002, 'min_samples_split': 22}, {'max_depth': 18, 'min_impurity_decrease': 0.0002, 'min_samples_split': 32}, {'max_depth': 18, 'min_impurity_decrease': 0.0002, 'min_samples_split': 42}, {'max_depth': 18, 'min_impurity_decrease': 0.0002, 'min_samples_split': 52}, {'max_depth': 18, 'min_impurity_decrease': 0.0002, 'min_samples_split': 62}, {'max_depth': 18, 'min_impurity_decrease': 0.0002, 'min_samples_split': 72}, {'max_depth': 18, 'min_impurity_decrease': 0.0002, 'min_samples_split': 82}, {'max_depth': 18, 'min_impurity_decrease': 0.0002, 'min_samples_split': 92}, {'max_depth': 18, 'min_impurity_decrease': 0.00030000000000000003, 'min_samples_split': 2}, {'max_depth': 18, 'min_impurity_decrease': 0.00030000000000000003, 'min_samples_split': 12}, {'max_depth': 18, 'min_impurity_decrease': 0.00030000000000000003, 'min_samples_split': 22}, {'max_depth': 18, 'min_impurity_decrease': 0.00030000000000000003, 'min_samples_split': 32}, {'max_depth': 18, 'min_impurity_decrease': 0.00030000000000000003, 'min_samples_split': 42}, {'max_depth': 18, 'min_impurity_decrease': 0.00030000000000000003, 'min_samples_split': 52}, {'max_depth': 18, 'min_impurity_decrease': 0.00030000000000000003, 'min_samples_split': 62}, {'max_depth': 18, 'min_impurity_decrease': 0.00030000000000000003, 'min_samples_split': 72}, {'max_depth': 18, 'min_impurity_decrease': 0.00030000000000000003, 'min_samples_split': 82}, {'max_depth': 18, 'min_impurity_decrease': 0.00030000000000000003, 'min_samples_split': 92}, {'max_depth': 18, 'min_impurity_decrease': 0.0004, 'min_samples_split': 2}, {'max_depth': 18, 'min_impurity_decrease': 0.0004, 'min_samples_split': 12}, {'max_depth': 18, 'min_impurity_decrease': 0.0004, 'min_samples_split': 22}, {'max_depth': 18, 'min_impurity_decrease': 0.0004, 'min_samples_split': 32}, {'max_depth': 18, 'min_impurity_decrease': 0.0004, 'min_samples_split': 42}, {'max_depth': 18, 'min_impurity_decrease': 0.0004, 'min_samples_split': 52}, {'max_depth': 18, 'min_impurity_decrease': 0.0004, 'min_samples_split': 62}, {'max_depth': 18, 'min_impurity_decrease': 0.0004, 'min_samples_split': 72}, {'max_depth': 18, 'min_impurity_decrease': 0.0004, 'min_samples_split': 82}, {'max_depth': 18, 'min_impurity_decrease': 0.0004, 'min_samples_split': 92}, {'max_depth': 18, 'min_impurity_decrease': 0.0005, 'min_samples_split': 2}, {'max_depth': 18, 'min_impurity_decrease': 0.0005, 'min_samples_split': 12}, {'max_depth': 18, 'min_impurity_decrease': 0.0005, 'min_samples_split': 22}, {'max_depth': 18, 'min_impurity_decrease': 0.0005, 'min_samples_split': 32}, {'max_depth': 18, 'min_impurity_decrease': 0.0005, 'min_samples_split': 42}, {'max_depth': 18, 'min_impurity_decrease': 0.0005, 'min_samples_split': 52}, {'max_depth': 18, 'min_impurity_decrease': 0.0005, 'min_samples_split': 62}, {'max_depth': 18, 'min_impurity_decrease': 0.0005, 'min_samples_split': 72}, {'max_depth': 18, 'min_impurity_decrease': 0.0005, 'min_samples_split': 82}, {'max_depth': 18, 'min_impurity_decrease': 0.0005, 'min_samples_split': 92}, {'max_depth': 18, 'min_impurity_decrease': 0.0006000000000000001, 'min_samples_split': 2}, {'max_depth': 18, 'min_impurity_decrease': 0.0006000000000000001, 'min_samples_split': 12}, {'max_depth': 18, 'min_impurity_decrease': 0.0006000000000000001, 'min_samples_split': 22}, {'max_depth': 18, 'min_impurity_decrease': 0.0006000000000000001, 'min_samples_split': 32}, {'max_depth': 18, 'min_impurity_decrease': 0.0006000000000000001, 'min_samples_split': 42}, {'max_depth': 18, 'min_impurity_decrease': 0.0006000000000000001, 'min_samples_split': 52}, {'max_depth': 18, 'min_impurity_decrease': 0.0006000000000000001, 'min_samples_split': 62}, {'max_depth': 18, 'min_impurity_decrease': 0.0006000000000000001, 'min_samples_split': 72}, {'max_depth': 18, 'min_impurity_decrease': 0.0006000000000000001, 'min_samples_split': 82}, {'max_depth': 18, 'min_impurity_decrease': 0.0006000000000000001, 'min_samples_split': 92}, {'max_depth': 18, 'min_impurity_decrease': 0.0007000000000000001, 'min_samples_split': 2}, {'max_depth': 18, 'min_impurity_decrease': 0.0007000000000000001, 'min_samples_split': 12}, {'max_depth': 18, 'min_impurity_decrease': 0.0007000000000000001, 'min_samples_split': 22}, {'max_depth': 18, 'min_impurity_decrease': 0.0007000000000000001, 'min_samples_split': 32}, {'max_depth': 18, 'min_impurity_decrease': 0.0007000000000000001, 'min_samples_split': 42}, {'max_depth': 18, 'min_impurity_decrease': 0.0007000000000000001, 'min_samples_split': 52}, {'max_depth': 18, 'min_impurity_decrease': 0.0007000000000000001, 'min_samples_split': 62}, {'max_depth': 18, 'min_impurity_decrease': 0.0007000000000000001, 'min_samples_split': 72}, {'max_depth': 18, 'min_impurity_decrease': 0.0007000000000000001, 'min_samples_split': 82}, {'max_depth': 18, 'min_impurity_decrease': 0.0007000000000000001, 'min_samples_split': 92}, {'max_depth': 18, 'min_impurity_decrease': 0.0008, 'min_samples_split': 2}, {'max_depth': 18, 'min_impurity_decrease': 0.0008, 'min_samples_split': 12}, {'max_depth': 18, 'min_impurity_decrease': 0.0008, 'min_samples_split': 22}, {'max_depth': 18, 'min_impurity_decrease': 0.0008, 'min_samples_split': 32}, {'max_depth': 18, 'min_impurity_decrease': 0.0008, 'min_samples_split': 42}, {'max_depth': 18, 'min_impurity_decrease': 0.0008, 'min_samples_split': 52}, {'max_depth': 18, 'min_impurity_decrease': 0.0008, 'min_samples_split': 62}, {'max_depth': 18, 'min_impurity_decrease': 0.0008, 'min_samples_split': 72}, {'max_depth': 18, 'min_impurity_decrease': 0.0008, 'min_samples_split': 82}, {'max_depth': 18, 'min_impurity_decrease': 0.0008, 'min_samples_split': 92}, {'max_depth': 18, 'min_impurity_decrease': 0.0009000000000000001, 'min_samples_split': 2}, {'max_depth': 18, 'min_impurity_decrease': 0.0009000000000000001, 'min_samples_split': 12}, {'max_depth': 18, 'min_impurity_decrease': 0.0009000000000000001, 'min_samples_split': 22}, {'max_depth': 18, 'min_impurity_decrease': 0.0009000000000000001, 'min_samples_split': 32}, {'max_depth': 18, 'min_impurity_decrease': 0.0009000000000000001, 'min_samples_split': 42}, {'max_depth': 18, 'min_impurity_decrease': 0.0009000000000000001, 'min_samples_split': 52}, {'max_depth': 18, 'min_impurity_decrease': 0.0009000000000000001, 'min_samples_split': 62}, {'max_depth': 18, 'min_impurity_decrease': 0.0009000000000000001, 'min_samples_split': 72}, {'max_depth': 18, 'min_impurity_decrease': 0.0009000000000000001, 'min_samples_split': 82}, {'max_depth': 18, 'min_impurity_decrease': 0.0009000000000000001, 'min_samples_split': 92}, {'max_depth': 19, 'min_impurity_decrease': 0.0001, 'min_samples_split': 2}, {'max_depth': 19, 'min_impurity_decrease': 0.0001, 'min_samples_split': 12}, {'max_depth': 19, 'min_impurity_decrease': 0.0001, 'min_samples_split': 22}, {'max_depth': 19, 'min_impurity_decrease': 0.0001, 'min_samples_split': 32}, {'max_depth': 19, 'min_impurity_decrease': 0.0001, 'min_samples_split': 42}, {'max_depth': 19, 'min_impurity_decrease': 0.0001, 'min_samples_split': 52}, {'max_depth': 19, 'min_impurity_decrease': 0.0001, 'min_samples_split': 62}, {'max_depth': 19, 'min_impurity_decrease': 0.0001, 'min_samples_split': 72}, {'max_depth': 19, 'min_impurity_decrease': 0.0001, 'min_samples_split': 82}, {'max_depth': 19, 'min_impurity_decrease': 0.0001, 'min_samples_split': 92}, {'max_depth': 19, 'min_impurity_decrease': 0.0002, 'min_samples_split': 2}, {'max_depth': 19, 'min_impurity_decrease': 0.0002, 'min_samples_split': 12}, {'max_depth': 19, 'min_impurity_decrease': 0.0002, 'min_samples_split': 22}, {'max_depth': 19, 'min_impurity_decrease': 0.0002, 'min_samples_split': 32}, {'max_depth': 19, 'min_impurity_decrease': 0.0002, 'min_samples_split': 42}, {'max_depth': 19, 'min_impurity_decrease': 0.0002, 'min_samples_split': 52}, {'max_depth': 19, 'min_impurity_decrease': 0.0002, 'min_samples_split': 62}, {'max_depth': 19, 'min_impurity_decrease': 0.0002, 'min_samples_split': 72}, {'max_depth': 19, 'min_impurity_decrease': 0.0002, 'min_samples_split': 82}, {'max_depth': 19, 'min_impurity_decrease': 0.0002, 'min_samples_split': 92}, {'max_depth': 19, 'min_impurity_decrease': 0.00030000000000000003, 'min_samples_split': 2}, {'max_depth': 19, 'min_impurity_decrease': 0.00030000000000000003, 'min_samples_split': 12}, {'max_depth': 19, 'min_impurity_decrease': 0.00030000000000000003, 'min_samples_split': 22}, {'max_depth': 19, 'min_impurity_decrease': 0.00030000000000000003, 'min_samples_split': 32}, {'max_depth': 19, 'min_impurity_decrease': 0.00030000000000000003, 'min_samples_split': 42}, {'max_depth': 19, 'min_impurity_decrease': 0.00030000000000000003, 'min_samples_split': 52}, {'max_depth': 19, 'min_impurity_decrease': 0.00030000000000000003, 'min_samples_split': 62}, {'max_depth': 19, 'min_impurity_decrease': 0.00030000000000000003, 'min_samples_split': 72}, {'max_depth': 19, 'min_impurity_decrease': 0.00030000000000000003, 'min_samples_split': 82}, {'max_depth': 19, 'min_impurity_decrease': 0.00030000000000000003, 'min_samples_split': 92}, {'max_depth': 19, 'min_impurity_decrease': 0.0004, 'min_samples_split': 2}, {'max_depth': 19, 'min_impurity_decrease': 0.0004, 'min_samples_split': 12}, {'max_depth': 19, 'min_impurity_decrease': 0.0004, 'min_samples_split': 22}, {'max_depth': 19, 'min_impurity_decrease': 0.0004, 'min_samples_split': 32}, {'max_depth': 19, 'min_impurity_decrease': 0.0004, 'min_samples_split': 42}, {'max_depth': 19, 'min_impurity_decrease': 0.0004, 'min_samples_split': 52}, {'max_depth': 19, 'min_impurity_decrease': 0.0004, 'min_samples_split': 62}, {'max_depth': 19, 'min_impurity_decrease': 0.0004, 'min_samples_split': 72}, {'max_depth': 19, 'min_impurity_decrease': 0.0004, 'min_samples_split': 82}, {'max_depth': 19, 'min_impurity_decrease': 0.0004, 'min_samples_split': 92}, {'max_depth': 19, 'min_impurity_decrease': 0.0005, 'min_samples_split': 2}, {'max_depth': 19, 'min_impurity_decrease': 0.0005, 'min_samples_split': 12}, {'max_depth': 19, 'min_impurity_decrease': 0.0005, 'min_samples_split': 22}, {'max_depth': 19, 'min_impurity_decrease': 0.0005, 'min_samples_split': 32}, {'max_depth': 19, 'min_impurity_decrease': 0.0005, 'min_samples_split': 42}, {'max_depth': 19, 'min_impurity_decrease': 0.0005, 'min_samples_split': 52}, {'max_depth': 19, 'min_impurity_decrease': 0.0005, 'min_samples_split': 62}, {'max_depth': 19, 'min_impurity_decrease': 0.0005, 'min_samples_split': 72}, {'max_depth': 19, 'min_impurity_decrease': 0.0005, 'min_samples_split': 82}, {'max_depth': 19, 'min_impurity_decrease': 0.0005, 'min_samples_split': 92}, {'max_depth': 19, 'min_impurity_decrease': 0.0006000000000000001, 'min_samples_split': 2}, {'max_depth': 19, 'min_impurity_decrease': 0.0006000000000000001, 'min_samples_split': 12}, {'max_depth': 19, 'min_impurity_decrease': 0.0006000000000000001, 'min_samples_split': 22}, {'max_depth': 19, 'min_impurity_decrease': 0.0006000000000000001, 'min_samples_split': 32}, {'max_depth': 19, 'min_impurity_decrease': 0.0006000000000000001, 'min_samples_split': 42}, {'max_depth': 19, 'min_impurity_decrease': 0.0006000000000000001, 'min_samples_split': 52}, {'max_depth': 19, 'min_impurity_decrease': 0.0006000000000000001, 'min_samples_split': 62}, {'max_depth': 19, 'min_impurity_decrease': 0.0006000000000000001, 'min_samples_split': 72}, {'max_depth': 19, 'min_impurity_decrease': 0.0006000000000000001, 'min_samples_split': 82}, {'max_depth': 19, 'min_impurity_decrease': 0.0006000000000000001, 'min_samples_split': 92}, {'max_depth': 19, 'min_impurity_decrease': 0.0007000000000000001, 'min_samples_split': 2}, {'max_depth': 19, 'min_impurity_decrease': 0.0007000000000000001, 'min_samples_split': 12}, {'max_depth': 19, 'min_impurity_decrease': 0.0007000000000000001, 'min_samples_split': 22}, {'max_depth': 19, 'min_impurity_decrease': 0.0007000000000000001, 'min_samples_split': 32}, {'max_depth': 19, 'min_impurity_decrease': 0.0007000000000000001, 'min_samples_split': 42}, {'max_depth': 19, 'min_impurity_decrease': 0.0007000000000000001, 'min_samples_split': 52}, {'max_depth': 19, 'min_impurity_decrease': 0.0007000000000000001, 'min_samples_split': 62}, {'max_depth': 19, 'min_impurity_decrease': 0.0007000000000000001, 'min_samples_split': 72}, {'max_depth': 19, 'min_impurity_decrease': 0.0007000000000000001, 'min_samples_split': 82}, {'max_depth': 19, 'min_impurity_decrease': 0.0007000000000000001, 'min_samples_split': 92}, {'max_depth': 19, 'min_impurity_decrease': 0.0008, 'min_samples_split': 2}, {'max_depth': 19, 'min_impurity_decrease': 0.0008, 'min_samples_split': 12}, {'max_depth': 19, 'min_impurity_decrease': 0.0008, 'min_samples_split': 22}, {'max_depth': 19, 'min_impurity_decrease': 0.0008, 'min_samples_split': 32}, {'max_depth': 19, 'min_impurity_decrease': 0.0008, 'min_samples_split': 42}, {'max_depth': 19, 'min_impurity_decrease': 0.0008, 'min_samples_split': 52}, {'max_depth': 19, 'min_impurity_decrease': 0.0008, 'min_samples_split': 62}, {'max_depth': 19, 'min_impurity_decrease': 0.0008, 'min_samples_split': 72}, {'max_depth': 19, 'min_impurity_decrease': 0.0008, 'min_samples_split': 82}, {'max_depth': 19, 'min_impurity_decrease': 0.0008, 'min_samples_split': 92}, {'max_depth': 19, 'min_impurity_decrease': 0.0009000000000000001, 'min_samples_split': 2}, {'max_depth': 19, 'min_impurity_decrease': 0.0009000000000000001, 'min_samples_split': 12}, {'max_depth': 19, 'min_impurity_decrease': 0.0009000000000000001, 'min_samples_split': 22}, {'max_depth': 19, 'min_impurity_decrease': 0.0009000000000000001, 'min_samples_split': 32}, {'max_depth': 19, 'min_impurity_decrease': 0.0009000000000000001, 'min_samples_split': 42}, {'max_depth': 19, 'min_impurity_decrease': 0.0009000000000000001, 'min_samples_split': 52}, {'max_depth': 19, 'min_impurity_decrease': 0.0009000000000000001, 'min_samples_split': 62}, {'max_depth': 19, 'min_impurity_decrease': 0.0009000000000000001, 'min_samples_split': 72}, {'max_depth': 19, 'min_impurity_decrease': 0.0009000000000000001, 'min_samples_split': 82}, {'max_depth': 19, 'min_impurity_decrease': 0.0009000000000000001, 'min_samples_split': 92}], 'split0_test_score': array([0.84711538, 0.84711538, 0.84711538, ..., 0.85288462, 0.85480769,\n",
            "       0.85480769]), 'split1_test_score': array([0.86346154, 0.86346154, 0.86346154, ..., 0.87019231, 0.87019231,\n",
            "       0.86634615]), 'split2_test_score': array([0.88065448, 0.88065448, 0.88065448, ..., 0.88065448, 0.88065448,\n",
            "       0.88065448]), 'split3_test_score': array([0.83638114, 0.8373436 , 0.8373436 , ..., 0.84985563, 0.84985563,\n",
            "       0.84985563]), 'split4_test_score': array([0.8614052 , 0.8614052 , 0.8614052 , ..., 0.85274302, 0.85274302,\n",
            "       0.86621752]), 'mean_test_score': array([0.85780355, 0.85799604, 0.85799604, ..., 0.86126601, 0.86165063,\n",
            "       0.86357629]), 'std_test_score': array([0.0151017 , 0.01483112, 0.01483112, ..., 0.01207209, 0.01182708,\n",
            "       0.01069072]), 'rank_test_score': array([1331, 1323, 1323, ..., 1024,  863,  321], dtype=int32)}\n"
          ]
        }
      ]
    },
    {
      "cell_type": "code",
      "source": [
        "best_index = np.argmax(gs.cv_results_['mean_test_score'])\n",
        "print(gs.cv_results_['params'][best_index])"
      ],
      "metadata": {
        "colab": {
          "base_uri": "https://localhost:8080/"
        },
        "id": "jJD-xloR4r-z",
        "outputId": "032dbf8a-f022-47c1-82c3-a98881e7178c"
      },
      "execution_count": 19,
      "outputs": [
        {
          "output_type": "stream",
          "name": "stdout",
          "text": [
            "{'max_depth': 14, 'min_impurity_decrease': 0.0004, 'min_samples_split': 12}\n"
          ]
        }
      ]
    },
    {
      "cell_type": "markdown",
      "source": [
        "##랜덤 서치"
      ],
      "metadata": {
        "id": "xNxwf3zP828X"
      }
    },
    {
      "cell_type": "code",
      "source": [
        "from scipy.stats import uniform, randint\n",
        "\n",
        "rgen = randint(0,10)\n",
        "print(rgen)\n",
        "rgen.rvs(20)"
      ],
      "metadata": {
        "colab": {
          "base_uri": "https://localhost:8080/"
        },
        "id": "r0ze2KDA5zKm",
        "outputId": "eb0fecb7-cbab-46b4-862e-8cceba0abc90"
      },
      "execution_count": 22,
      "outputs": [
        {
          "output_type": "stream",
          "name": "stdout",
          "text": [
            "<scipy.stats._distn_infrastructure.rv_discrete_frozen object at 0x7a33f614bd60>\n"
          ]
        },
        {
          "output_type": "execute_result",
          "data": {
            "text/plain": [
              "array([9, 6, 8, 9, 2, 4, 6, 1, 7, 8, 4, 0, 4, 4, 2, 4, 1, 0, 3, 7])"
            ]
          },
          "metadata": {},
          "execution_count": 22
        }
      ]
    },
    {
      "cell_type": "code",
      "source": [
        "np.unique(rgen.rvs(1000), return_counts=True)"
      ],
      "metadata": {
        "colab": {
          "base_uri": "https://localhost:8080/"
        },
        "id": "49nqq1uf8dkj",
        "outputId": "a70ee6b5-1d3a-4ba8-a5f9-d031af7adb31"
      },
      "execution_count": 24,
      "outputs": [
        {
          "output_type": "execute_result",
          "data": {
            "text/plain": [
              "array([0, 1, 2, 3, 4, 5, 6, 7, 8, 9])"
            ]
          },
          "metadata": {},
          "execution_count": 24
        }
      ]
    },
    {
      "cell_type": "code",
      "source": [
        "ugen = uniform(0,1)\n",
        "ugen.rvs(10)"
      ],
      "metadata": {
        "colab": {
          "base_uri": "https://localhost:8080/"
        },
        "id": "b50gzbeP8xkn",
        "outputId": "688d05e3-1657-45e3-f800-6133513b7006"
      },
      "execution_count": 26,
      "outputs": [
        {
          "output_type": "execute_result",
          "data": {
            "text/plain": [
              "array([5.71419417, 2.33899968, 8.33140334, 7.15221239, 5.49940872,\n",
              "       4.02843415, 6.50055235, 6.21037989, 7.98897469, 7.18569576])"
            ]
          },
          "metadata": {},
          "execution_count": 26
        }
      ]
    },
    {
      "cell_type": "code",
      "source": [
        "params = {'min_impurity_decrease' : uniform(0.0001, 0.001),\n",
        "          'max_depth': randint(20,50),\n",
        "          'min_samples_split': randint(2,25),\n",
        "          'min_samples_leaf' : randint(1,25),\n",
        "          }"
      ],
      "metadata": {
        "id": "dq-zxyGl9vIl"
      },
      "execution_count": 33,
      "outputs": []
    },
    {
      "cell_type": "code",
      "source": [
        "from sklearn.model_selection import RandomizedSearchCV\n",
        "#위의 param으로 100번의 난수를 돌려 가장 최적의 param의 값을 찾기\n",
        "gs = RandomizedSearchCV(DecisionTreeClassifier(random_state=42), params, n_iter = 100, n_jobs = -1, random_state = 42)\n",
        "\n",
        "gs.fit(train_input, train_target)"
      ],
      "metadata": {
        "colab": {
          "base_uri": "https://localhost:8080/",
          "height": 117
        },
        "id": "ztag9hFv-jte",
        "outputId": "a217ef11-1344-4f58-b86c-97c784679983"
      },
      "execution_count": 34,
      "outputs": [
        {
          "output_type": "execute_result",
          "data": {
            "text/plain": [
              "RandomizedSearchCV(estimator=DecisionTreeClassifier(random_state=42),\n",
              "                   n_iter=100, n_jobs=-1,\n",
              "                   param_distributions={'max_depth': <scipy.stats._distn_infrastructure.rv_discrete_frozen object at 0x7a33f614acb0>,\n",
              "                                        'min_impurity_decrease': <scipy.stats._distn_infrastructure.rv_continuous_frozen object at 0x7a33f6149ba0>,\n",
              "                                        'min_samples_leaf': <scipy.stats._distn_infrastructure.rv_discrete_frozen object at 0x7a33f6149510>,\n",
              "                                        'min_samples_split': <scipy.stats._distn_infrastructure.rv_discrete_frozen object at 0x7a33f614a3e0>},\n",
              "                   random_state=42)"
            ],
            "text/html": [
              "<style>#sk-container-id-1 {color: black;background-color: white;}#sk-container-id-1 pre{padding: 0;}#sk-container-id-1 div.sk-toggleable {background-color: white;}#sk-container-id-1 label.sk-toggleable__label {cursor: pointer;display: block;width: 100%;margin-bottom: 0;padding: 0.3em;box-sizing: border-box;text-align: center;}#sk-container-id-1 label.sk-toggleable__label-arrow:before {content: \"▸\";float: left;margin-right: 0.25em;color: #696969;}#sk-container-id-1 label.sk-toggleable__label-arrow:hover:before {color: black;}#sk-container-id-1 div.sk-estimator:hover label.sk-toggleable__label-arrow:before {color: black;}#sk-container-id-1 div.sk-toggleable__content {max-height: 0;max-width: 0;overflow: hidden;text-align: left;background-color: #f0f8ff;}#sk-container-id-1 div.sk-toggleable__content pre {margin: 0.2em;color: black;border-radius: 0.25em;background-color: #f0f8ff;}#sk-container-id-1 input.sk-toggleable__control:checked~div.sk-toggleable__content {max-height: 200px;max-width: 100%;overflow: auto;}#sk-container-id-1 input.sk-toggleable__control:checked~label.sk-toggleable__label-arrow:before {content: \"▾\";}#sk-container-id-1 div.sk-estimator input.sk-toggleable__control:checked~label.sk-toggleable__label {background-color: #d4ebff;}#sk-container-id-1 div.sk-label input.sk-toggleable__control:checked~label.sk-toggleable__label {background-color: #d4ebff;}#sk-container-id-1 input.sk-hidden--visually {border: 0;clip: rect(1px 1px 1px 1px);clip: rect(1px, 1px, 1px, 1px);height: 1px;margin: -1px;overflow: hidden;padding: 0;position: absolute;width: 1px;}#sk-container-id-1 div.sk-estimator {font-family: monospace;background-color: #f0f8ff;border: 1px dotted black;border-radius: 0.25em;box-sizing: border-box;margin-bottom: 0.5em;}#sk-container-id-1 div.sk-estimator:hover {background-color: #d4ebff;}#sk-container-id-1 div.sk-parallel-item::after {content: \"\";width: 100%;border-bottom: 1px solid gray;flex-grow: 1;}#sk-container-id-1 div.sk-label:hover label.sk-toggleable__label {background-color: #d4ebff;}#sk-container-id-1 div.sk-serial::before {content: \"\";position: absolute;border-left: 1px solid gray;box-sizing: border-box;top: 0;bottom: 0;left: 50%;z-index: 0;}#sk-container-id-1 div.sk-serial {display: flex;flex-direction: column;align-items: center;background-color: white;padding-right: 0.2em;padding-left: 0.2em;position: relative;}#sk-container-id-1 div.sk-item {position: relative;z-index: 1;}#sk-container-id-1 div.sk-parallel {display: flex;align-items: stretch;justify-content: center;background-color: white;position: relative;}#sk-container-id-1 div.sk-item::before, #sk-container-id-1 div.sk-parallel-item::before {content: \"\";position: absolute;border-left: 1px solid gray;box-sizing: border-box;top: 0;bottom: 0;left: 50%;z-index: -1;}#sk-container-id-1 div.sk-parallel-item {display: flex;flex-direction: column;z-index: 1;position: relative;background-color: white;}#sk-container-id-1 div.sk-parallel-item:first-child::after {align-self: flex-end;width: 50%;}#sk-container-id-1 div.sk-parallel-item:last-child::after {align-self: flex-start;width: 50%;}#sk-container-id-1 div.sk-parallel-item:only-child::after {width: 0;}#sk-container-id-1 div.sk-dashed-wrapped {border: 1px dashed gray;margin: 0 0.4em 0.5em 0.4em;box-sizing: border-box;padding-bottom: 0.4em;background-color: white;}#sk-container-id-1 div.sk-label label {font-family: monospace;font-weight: bold;display: inline-block;line-height: 1.2em;}#sk-container-id-1 div.sk-label-container {text-align: center;}#sk-container-id-1 div.sk-container {/* jupyter's `normalize.less` sets `[hidden] { display: none; }` but bootstrap.min.css set `[hidden] { display: none !important; }` so we also need the `!important` here to be able to override the default hidden behavior on the sphinx rendered scikit-learn.org. See: https://github.com/scikit-learn/scikit-learn/issues/21755 */display: inline-block !important;position: relative;}#sk-container-id-1 div.sk-text-repr-fallback {display: none;}</style><div id=\"sk-container-id-1\" class=\"sk-top-container\"><div class=\"sk-text-repr-fallback\"><pre>RandomizedSearchCV(estimator=DecisionTreeClassifier(random_state=42),\n",
              "                   n_iter=100, n_jobs=-1,\n",
              "                   param_distributions={&#x27;max_depth&#x27;: &lt;scipy.stats._distn_infrastructure.rv_discrete_frozen object at 0x7a33f614acb0&gt;,\n",
              "                                        &#x27;min_impurity_decrease&#x27;: &lt;scipy.stats._distn_infrastructure.rv_continuous_frozen object at 0x7a33f6149ba0&gt;,\n",
              "                                        &#x27;min_samples_leaf&#x27;: &lt;scipy.stats._distn_infrastructure.rv_discrete_frozen object at 0x7a33f6149510&gt;,\n",
              "                                        &#x27;min_samples_split&#x27;: &lt;scipy.stats._distn_infrastructure.rv_discrete_frozen object at 0x7a33f614a3e0&gt;},\n",
              "                   random_state=42)</pre><b>In a Jupyter environment, please rerun this cell to show the HTML representation or trust the notebook. <br />On GitHub, the HTML representation is unable to render, please try loading this page with nbviewer.org.</b></div><div class=\"sk-container\" hidden><div class=\"sk-item sk-dashed-wrapped\"><div class=\"sk-label-container\"><div class=\"sk-label sk-toggleable\"><input class=\"sk-toggleable__control sk-hidden--visually\" id=\"sk-estimator-id-1\" type=\"checkbox\" ><label for=\"sk-estimator-id-1\" class=\"sk-toggleable__label sk-toggleable__label-arrow\">RandomizedSearchCV</label><div class=\"sk-toggleable__content\"><pre>RandomizedSearchCV(estimator=DecisionTreeClassifier(random_state=42),\n",
              "                   n_iter=100, n_jobs=-1,\n",
              "                   param_distributions={&#x27;max_depth&#x27;: &lt;scipy.stats._distn_infrastructure.rv_discrete_frozen object at 0x7a33f614acb0&gt;,\n",
              "                                        &#x27;min_impurity_decrease&#x27;: &lt;scipy.stats._distn_infrastructure.rv_continuous_frozen object at 0x7a33f6149ba0&gt;,\n",
              "                                        &#x27;min_samples_leaf&#x27;: &lt;scipy.stats._distn_infrastructure.rv_discrete_frozen object at 0x7a33f6149510&gt;,\n",
              "                                        &#x27;min_samples_split&#x27;: &lt;scipy.stats._distn_infrastructure.rv_discrete_frozen object at 0x7a33f614a3e0&gt;},\n",
              "                   random_state=42)</pre></div></div></div><div class=\"sk-parallel\"><div class=\"sk-parallel-item\"><div class=\"sk-item\"><div class=\"sk-label-container\"><div class=\"sk-label sk-toggleable\"><input class=\"sk-toggleable__control sk-hidden--visually\" id=\"sk-estimator-id-2\" type=\"checkbox\" ><label for=\"sk-estimator-id-2\" class=\"sk-toggleable__label sk-toggleable__label-arrow\">estimator: DecisionTreeClassifier</label><div class=\"sk-toggleable__content\"><pre>DecisionTreeClassifier(random_state=42)</pre></div></div></div><div class=\"sk-serial\"><div class=\"sk-item\"><div class=\"sk-estimator sk-toggleable\"><input class=\"sk-toggleable__control sk-hidden--visually\" id=\"sk-estimator-id-3\" type=\"checkbox\" ><label for=\"sk-estimator-id-3\" class=\"sk-toggleable__label sk-toggleable__label-arrow\">DecisionTreeClassifier</label><div class=\"sk-toggleable__content\"><pre>DecisionTreeClassifier(random_state=42)</pre></div></div></div></div></div></div></div></div></div></div>"
            ]
          },
          "metadata": {},
          "execution_count": 34
        }
      ]
    },
    {
      "cell_type": "code",
      "source": [
        "print(gs.best_params_)"
      ],
      "metadata": {
        "colab": {
          "base_uri": "https://localhost:8080/"
        },
        "id": "c9nVGlGt_Vop",
        "outputId": "dcc8acff-0c18-4ac2-ba9b-58e95c02e23d"
      },
      "execution_count": 36,
      "outputs": [
        {
          "output_type": "stream",
          "name": "stdout",
          "text": [
            "{'max_depth': 39, 'min_impurity_decrease': 0.00034102546602601173, 'min_samples_leaf': 7, 'min_samples_split': 13}\n"
          ]
        }
      ]
    },
    {
      "cell_type": "code",
      "source": [
        "print(np.max(gs.cv_results_['mean_test_score']))"
      ],
      "metadata": {
        "colab": {
          "base_uri": "https://localhost:8080/"
        },
        "id": "J5h77sUm_ars",
        "outputId": "8140bd90-4911-4675-a4ac-c17e005ba40d"
      },
      "execution_count": 37,
      "outputs": [
        {
          "output_type": "stream",
          "name": "stdout",
          "text": [
            "0.8695428296438884\n"
          ]
        }
      ]
    },
    {
      "cell_type": "code",
      "source": [
        "#가장 좋은 성능을 내는 params값으로 만든 DT\n",
        "#이걸로 testscore 평가\n",
        "dt = gs.best_estimator_\n",
        "print(dt.score(test_input,test_target))"
      ],
      "metadata": {
        "colab": {
          "base_uri": "https://localhost:8080/"
        },
        "id": "_WPReY17_kYG",
        "outputId": "6d00c6f8-3a3c-43c7-a881-c5973706263f"
      },
      "execution_count": 38,
      "outputs": [
        {
          "output_type": "stream",
          "name": "stdout",
          "text": [
            "0.86\n"
          ]
        }
      ]
    }
  ]
}