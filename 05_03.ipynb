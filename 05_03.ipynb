{
  "nbformat": 4,
  "nbformat_minor": 0,
  "metadata": {
    "colab": {
      "provenance": [],
      "authorship_tag": "ABX9TyNu7trCeONsjEeqD9oNviOA",
      "include_colab_link": true
    },
    "kernelspec": {
      "name": "python3",
      "display_name": "Python 3"
    },
    "language_info": {
      "name": "python"
    }
  },
  "cells": [
    {
      "cell_type": "markdown",
      "metadata": {
        "id": "view-in-github",
        "colab_type": "text"
      },
      "source": [
        "<a href=\"https://colab.research.google.com/github/hsw1805/ML-DL/blob/main/05_03.ipynb\" target=\"_parent\"><img src=\"https://colab.research.google.com/assets/colab-badge.svg\" alt=\"Open In Colab\"/></a>"
      ]
    },
    {
      "cell_type": "markdown",
      "source": [
        "# 트리의 앙상블\n",
        "## 랜덤 포레스트\n",
        "정형 데이터에 매우 적합\n",
        "\n",
        "데이터 뽑는 방법\n",
        "- 부트스트랩 샘플\n",
        "  - ex) 1000개의 샘플이 들어있는 가방에서 100개의 샘플을 뽑는다 가정\n",
        "    \n",
        "    1.1개의 샘플을 먼저 뽑고 다시 넣음(복원 추출)\n",
        "\n",
        "  - 기본적으로 부트스트랩 샘플은 훈련 세트의 크기와 같게 만듦\n",
        "  - 1000개의 샘플이 들어있는 가방에서 중복하여 1000개의 샘플을 뽑음\n",
        "\n",
        "\n",
        "\n",
        "노드 분할하는 방법\n",
        "- 전체 특성의 개수의 제곱근만큼의 특성을 선택\n",
        "  - ex) 9개의 특성이 있다면 3개의 특성만 랜덤 선택\n",
        "\n",
        "사이킷런의 랜덤 포레스트는 기본적으로 100개의 결정 트리를 이런 방식으로 훈련\n",
        "\n",
        "분류일 때 각 트리의 클래스별 확률을 평균하여 가장 높은 확률을 가진 클래스를 예측으로 삼음\n",
        "\n"
      ],
      "metadata": {
        "id": "Yn88PCsFrjRQ"
      }
    },
    {
      "cell_type": "code",
      "execution_count": 1,
      "metadata": {
        "id": "sQXcBstrrO-c"
      },
      "outputs": [],
      "source": [
        "import numpy as np\n",
        "import pandas as pd\n",
        "\n",
        "from sklearn.model_selection import train_test_split\n",
        "\n",
        "wine = pd.read_csv('https://bit.ly/wine_csv_data')\n",
        "data = wine[['alcohol','sugar','pH']].to_numpy()\n",
        "target = wine['class'].to_numpy()\n",
        "train_input, test_input, train_target, test_target = train_test_split(data, target, test_size = 0.2, random_state=42)"
      ]
    },
    {
      "cell_type": "code",
      "source": [
        "from sklearn.model_selection import cross_validate\n",
        "from sklearn.ensemble import RandomForestClassifier\n",
        "#n_jobs = 코어 개수 몇개 쓸지\n",
        "rf = RandomForestClassifier(n_jobs=-1, random_state = 42)\n",
        "#교차 검증\n",
        "score = cross_validate(rf, train_input, train_target, return_train_score=True, n_jobs=-1)\n",
        "print(np.mean(score['train_score']),np.mean(score['test_score']))"
      ],
      "metadata": {
        "colab": {
          "base_uri": "https://localhost:8080/"
        },
        "id": "oKxCktRluhbm",
        "outputId": "14334d94-40d9-460d-dd4e-7264432cc618"
      },
      "execution_count": 2,
      "outputs": [
        {
          "output_type": "stream",
          "name": "stdout",
          "text": [
            "0.9973541965122431 0.8905151032797809\n"
          ]
        }
      ]
    },
    {
      "cell_type": "code",
      "source": [
        "rf.fit(train_input, train_target)\n",
        "print(rf.feature_importances_)"
      ],
      "metadata": {
        "colab": {
          "base_uri": "https://localhost:8080/"
        },
        "id": "9Xm0lYqg5TTb",
        "outputId": "f2f9f6db-4a07-4367-d6f4-da94b565d135"
      },
      "execution_count": 5,
      "outputs": [
        {
          "output_type": "stream",
          "name": "stdout",
          "text": [
            "[0.23167441 0.50039841 0.26792718]\n"
          ]
        }
      ]
    },
    {
      "cell_type": "markdown",
      "source": [
        "### OOB score이란??\n",
        "부트스트랩의 샘플에 포함되지 않은 데이터로 결정트리 평가"
      ],
      "metadata": {
        "id": "CDIB1ADE6stG"
      }
    },
    {
      "cell_type": "code",
      "source": [
        "rf = RandomForestClassifier(oob_score=True, n_jobs=-1, random_state =42)\n",
        "rf.fit(train_input, train_target)\n",
        "print(rf.oob_score_)\n"
      ],
      "metadata": {
        "colab": {
          "base_uri": "https://localhost:8080/"
        },
        "id": "s1uNt9kc5wec",
        "outputId": "efd857b3-1e9c-4c81-9573-225604d0a581"
      },
      "execution_count": 6,
      "outputs": [
        {
          "output_type": "stream",
          "name": "stdout",
          "text": [
            "0.8934000384837406\n"
          ]
        }
      ]
    },
    {
      "cell_type": "markdown",
      "source": [
        "## 엑스트라 트리\n",
        "랜덤포레스트와 비슷하게 동작하지만,부트스트랩 샘플을 사용하지 않고 전체 훈련 세트를 사용\n",
        "\n",
        "대신 노드를 분할할 때 가장 좋은 분할을 찾는 것이 아니라 무작위로 분할"
      ],
      "metadata": {
        "id": "1axqtC5G7h5e"
      }
    },
    {
      "cell_type": "code",
      "source": [
        "from sklearn.ensemble import ExtraTreesClassifier\n",
        "et = ExtraTreesClassifier(n_jobs=-1, random_state = 42)\n",
        "score = cross_validate(et,train_input, train_target, return_train_score = True, n_jobs = -1)\n",
        "print(np.mean(scores['train_score']), np.mean(scores['test_score']))"
      ],
      "metadata": {
        "colab": {
          "base_uri": "https://localhost:8080/"
        },
        "id": "nmGCnGDa65SQ",
        "outputId": "7d42154e-5c75-47ef-decf-a9a76c1399e4"
      },
      "execution_count": 9,
      "outputs": [
        {
          "output_type": "stream",
          "name": "stdout",
          "text": [
            "0.9973541965122431 0.8905151032797809\n"
          ]
        }
      ]
    },
    {
      "cell_type": "code",
      "source": [
        "et.fit(train_input, train_target)\n",
        "print(et.feature_importances_)"
      ],
      "metadata": {
        "colab": {
          "base_uri": "https://localhost:8080/"
        },
        "id": "2Y5R6WcX8ZqW",
        "outputId": "b1b3e3c3-bb37-40e1-dc87-d560d955a38e"
      },
      "execution_count": 10,
      "outputs": [
        {
          "output_type": "stream",
          "name": "stdout",
          "text": [
            "[0.20183568 0.52242907 0.27573525]\n"
          ]
        }
      ]
    },
    {
      "cell_type": "markdown",
      "source": [
        "##Gradient boosting\n",
        "깊이가 앝은 결정 트리를 사용하여 이전 트리의 오차를 보완하는 방법\n",
        "\n",
        "경사하강법을 통해 트리를 앙상블에 추가\n",
        "\n",
        "분류에서 로지스틱 손실 함수를 사용하고 회귀에서는 평균 제곱 오차 함수를 사용"
      ],
      "metadata": {
        "id": "_szLqgzG_H6j"
      }
    },
    {
      "cell_type": "code",
      "source": [
        "from sklearn.ensemble import GradientBoostingClassifier\n",
        "gb = GradientBoostingClassifier(random_state = 42)\n",
        "scores = cross_validate(gb, train_input, train_target, return_train_score=True, n_jobs = -1)\n",
        "print(np.mean(scores['train_score']), np.mean(scores['test_score']))"
      ],
      "metadata": {
        "colab": {
          "base_uri": "https://localhost:8080/"
        },
        "id": "E3e03rW0--wn",
        "outputId": "7e14876a-2414-4255-89b2-961c48b03ee7"
      },
      "execution_count": 12,
      "outputs": [
        {
          "output_type": "stream",
          "name": "stdout",
          "text": [
            "0.8881086892152563 0.8720430147331015\n"
          ]
        }
      ]
    },
    {
      "cell_type": "markdown",
      "source": [],
      "metadata": {
        "id": "X_rTLrS4--Yp"
      }
    },
    {
      "cell_type": "code",
      "source": [
        "#tree를 default(100개)가 아닌 500개로 하기\n",
        "#오차에 대한 learning_rate는 기존 default(0.1)에서 0.2로 수정\n",
        "gb = GradientBoostingClassifier(n_estimators=500, learning_rate =0.2, random_state=42)\n",
        "scores = cross_validate(gb, train_input, train_target,return_train_score=True, n_jobs = -1)\n",
        "print(np.mean(scores['train_score']), np.mean(scores['test_score']))"
      ],
      "metadata": {
        "colab": {
          "base_uri": "https://localhost:8080/"
        },
        "id": "qUeqUYcaBej_",
        "outputId": "e267dcf0-a7d6-4f43-e586-c00e987ab5af"
      },
      "execution_count": 13,
      "outputs": [
        {
          "output_type": "stream",
          "name": "stdout",
          "text": [
            "0.9464595437171814 0.8780082549788999\n"
          ]
        }
      ]
    },
    {
      "cell_type": "code",
      "source": [
        "gb.fit(train_input, train_target)\n",
        "print(gb.feature_importances_)"
      ],
      "metadata": {
        "colab": {
          "base_uri": "https://localhost:8080/"
        },
        "id": "xlDmOnc5CRUB",
        "outputId": "58cfd957-e66d-418c-e9e9-195cc5754210"
      },
      "execution_count": 14,
      "outputs": [
        {
          "output_type": "stream",
          "name": "stdout",
          "text": [
            "[0.15872278 0.68010884 0.16116839]\n"
          ]
        }
      ]
    },
    {
      "cell_type": "markdown",
      "source": [
        "##히스토그램 기반 그레이디언트 부스팅\n",
        "\n",
        "성능이 일반적으로 더 좋음\n",
        "\n",
        "default 값인 256으로 특성을 나누고 학습함"
      ],
      "metadata": {
        "id": "xHXL9VgsE7gv"
      }
    },
    {
      "cell_type": "code",
      "source": [
        "from sklearn.experimental import enable_hist_gradient_boosting\n",
        "from sklearn.ensemble import HistGradientBoostingClassifier\n",
        "hgb = HistGradientBoostingClassifier(random_state = 42)\n",
        "scores = cross_validate(hgb, train_input, train_target, return_train_score=True)\n",
        "print(np.mean(scores['train_score']))\n"
      ],
      "metadata": {
        "colab": {
          "base_uri": "https://localhost:8080/"
        },
        "id": "taq4gUq0Cwoj",
        "outputId": "42e94990-99c5-4630-ef3a-333d8dcac45c"
      },
      "execution_count": 15,
      "outputs": [
        {
          "output_type": "stream",
          "name": "stderr",
          "text": [
            "/usr/local/lib/python3.10/dist-packages/sklearn/experimental/enable_hist_gradient_boosting.py:16: UserWarning: Since version 1.0, it is not needed to import enable_hist_gradient_boosting anymore. HistGradientBoostingClassifier and HistGradientBoostingRegressor are now stable and can be normally imported from sklearn.ensemble.\n",
            "  warnings.warn(\n"
          ]
        },
        {
          "output_type": "stream",
          "name": "stdout",
          "text": [
            "0.9321723946453317\n"
          ]
        }
      ]
    },
    {
      "cell_type": "markdown",
      "source": [],
      "metadata": {
        "id": "GtHe5-GmCvYt"
      }
    },
    {
      "cell_type": "code",
      "source": [
        "from sklearn.inspection import permutation_importance\n",
        "\n",
        "hgb.fit(train_input, train_target)\n",
        "result = permutation_importance(hgb, train_input, train_target, n_repeats = 10, random_state=42, n_jobs = -1)\n",
        "print(result.importances_mean)"
      ],
      "metadata": {
        "colab": {
          "base_uri": "https://localhost:8080/"
        },
        "id": "YeEnkVk1IcXo",
        "outputId": "a98f796b-6440-4552-e169-3d171fa93fc5"
      },
      "execution_count": 17,
      "outputs": [
        {
          "output_type": "stream",
          "name": "stdout",
          "text": [
            "[0.08876275 0.23438522 0.08027708]\n"
          ]
        }
      ]
    },
    {
      "cell_type": "code",
      "source": [],
      "metadata": {
        "id": "Grx6i8b0Ix5Z"
      },
      "execution_count": null,
      "outputs": []
    }
  ]
}