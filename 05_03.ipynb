{
  "nbformat": 4,
  "nbformat_minor": 0,
  "metadata": {
    "colab": {
      "provenance": [],
      "authorship_tag": "ABX9TyMnSpHNx7BCC9s+MknU7AZb",
      "include_colab_link": true
    },
    "kernelspec": {
      "name": "python3",
      "display_name": "Python 3"
    },
    "language_info": {
      "name": "python"
    }
  },
  "cells": [
    {
      "cell_type": "markdown",
      "metadata": {
        "id": "view-in-github",
        "colab_type": "text"
      },
      "source": [
        "<a href=\"https://colab.research.google.com/github/hsw1805/ML-DL/blob/main/05_03.ipynb\" target=\"_parent\"><img src=\"https://colab.research.google.com/assets/colab-badge.svg\" alt=\"Open In Colab\"/></a>"
      ]
    },
    {
      "cell_type": "markdown",
      "source": [
        "# 트리의 앙상블\n",
        "## 랜덤 포레스트\n",
        "정형 데이터에 매우 적합\n",
        "\n",
        "데이터 뽑는 방법\n",
        "- 부트스트랩 샘플\n",
        "  - ex) 1000개의 샘플이 들어있는 가방에서 100개의 샘플을 뽑는다 가정\n",
        "    \n",
        "    1.1개의 샘플을 먼저 뽑고 다시 넣음(복원 추출)\n",
        "\n",
        "  - 기본적으로 부트스트랩 샘플은 훈련 세트의 크기와 같게 만듦\n",
        "  - 1000개의 샘플이 들어있는 가방에서 중복하여 1000개의 샘플을 뽑음\n",
        "\n",
        "\n",
        "\n",
        "노드 분할하는 방법\n",
        "- 전체 특성의 개수의 제곱근만큼의 특성을 선택\n",
        "  - ex) 9개의 특성이 있다면 3개의 특성만 랜덤 선택\n",
        "\n",
        "사이킷런의 랜덤 포레스트는 기본적으로 100개의 결정 트리를 이런 방식으로 훈련\n",
        "\n",
        "분류일 때 각 트리의 클래스별 확률을 평균하여 가장 높은 확률을 가진 클래스를 예측으로 삼음\n",
        "\n"
      ],
      "metadata": {
        "id": "Yn88PCsFrjRQ"
      }
    },
    {
      "cell_type": "code",
      "execution_count": 1,
      "metadata": {
        "id": "sQXcBstrrO-c"
      },
      "outputs": [],
      "source": [
        "import numpy as np\n",
        "import pandas as pd\n",
        "\n",
        "from sklearn.model_selection import train_test_split\n",
        "\n",
        "wine = pd.read_csv('https://bit.ly/wine_csv_data')\n",
        "data = wine[['alcohol','sugar','pH']].to_numpy()\n",
        "target = wine['class'].to_numpy()\n",
        "train_input, test_input, train_target, test_target = train_test_split(data, target, test_size = 0.2, random_state=42)"
      ]
    },
    {
      "cell_type": "code",
      "source": [
        "from sklearn.model_selection import cross_validate\n",
        "from sklearn.ensemble import RandomForestClassifier\n",
        "#n_jobs = 코어 개수 몇개 쓸지\n",
        "rf = RandomForestClassifier(n_jobs=-1, random_state = 42)\n",
        "#교차 검증\n",
        "score = cross_validate(rf, train_input, train_target, return_train_score=True, n_jobs=-1)\n",
        "print(np.mean(score['train_score']),np.mean(score['test_score']))"
      ],
      "metadata": {
        "colab": {
          "base_uri": "https://localhost:8080/"
        },
        "id": "oKxCktRluhbm",
        "outputId": "7bad4bb0-00f7-485a-c6bc-e0c4fda29549"
      },
      "execution_count": 5,
      "outputs": [
        {
          "output_type": "stream",
          "name": "stdout",
          "text": [
            "0.9973541965122431 0.8905151032797809\n"
          ]
        }
      ]
    }
  ]
}