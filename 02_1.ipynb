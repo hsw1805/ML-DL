{
  "nbformat": 4,
  "nbformat_minor": 0,
  "metadata": {
    "colab": {
      "provenance": [],
      "include_colab_link": true
    },
    "kernelspec": {
      "name": "python3",
      "display_name": "Python 3"
    },
    "language_info": {
      "name": "python"
    }
  },
  "cells": [
    {
      "cell_type": "markdown",
      "metadata": {
        "id": "view-in-github",
        "colab_type": "text"
      },
      "source": [
        "<a href=\"https://colab.research.google.com/github/hsw1805/ML-DL/blob/main/02_1.ipynb\" target=\"_parent\"><img src=\"https://colab.research.google.com/assets/colab-badge.svg\" alt=\"Open In Colab\"/></a>"
      ]
    },
    {
      "cell_type": "code",
      "source": [
        "import os\n",
        "from google.colab import drive\n",
        "drive.mount('/content/drive/')"
      ],
      "metadata": {
        "id": "IiardA7NiTXB",
        "colab": {
          "base_uri": "https://localhost:8080/"
        },
        "outputId": "e8bd53e4-5cad-4c29-bafc-697e5916261f"
      },
      "execution_count": 1,
      "outputs": [
        {
          "output_type": "stream",
          "name": "stdout",
          "text": [
            "Mounted at /content/drive/\n"
          ]
        }
      ]
    },
    {
      "cell_type": "code",
      "execution_count": null,
      "metadata": {
        "id": "jZnRHGScrm3w"
      },
      "outputs": [],
      "source": [
        "#도미 길이\n",
        "bream_length = [25.4, 26.3, 26.5, 29.0, 29.0, 29.7, 29.7, 30.0, 30.0, 30.7, 31.0, 31.0,\n",
        "                31.5, 32.0, 32.0, 32.0, 33.0, 33.0, 33.5, 33.5, 34.0, 34.0, 34.5, 35.0,\n",
        "                35.0, 35.0, 35.0, 36.0, 36.0, 37.0, 38.5, 38.5, 39.5, 41.0, 41.0]\n",
        "#도미 무게\n",
        "bream_weight = [242.0, 290.0, 340.0, 363.0, 430.0, 450.0, 500.0, 390.0, 450.0, 500.0, 475.0, 500.0,\n",
        "                500.0, 340.0, 600.0, 600.0, 700.0, 700.0, 610.0, 650.0, 575.0, 685.0, 620.0, 680.0,\n",
        "                700.0, 725.0, 720.0, 714.0, 850.0, 1000.0, 920.0, 955.0, 925.0, 975.0, 950.0]"
      ]
    },
    {
      "cell_type": "code",
      "source": [
        "#빙어 길이\n",
        "smelt_length = [9.8, 10.5, 10.6, 11.0, 11.2, 11.3, 11.8, 11.8, 12.0, 12.2, 12.4, 13.0, 14.3, 15.0]\n",
        "#빙어 무게\n",
        "smelt_weight = [6.7, 7.5, 7.0, 9.7, 9.8, 8.7, 10.0, 9.9, 9.8, 12.2, 13.4, 12.2, 19.7, 19.9]"
      ],
      "metadata": {
        "id": "YIjp22QYy4gm"
      },
      "execution_count": null,
      "outputs": []
    },
    {
      "cell_type": "markdown",
      "source": [
        "##그래프 그려보기"
      ],
      "metadata": {
        "id": "OqJeDypAy_L1"
      }
    },
    {
      "cell_type": "code",
      "source": [
        "import matplotlib.pyplot as plt\n",
        "\n",
        "# 데이터 설정\n",
        "plt.scatter(bream_length, bream_weight, label=\"bream\")\n",
        "plt.scatter(smelt_length, smelt_weight, label=\"smelt\")\n",
        "\n",
        "# 축 레이블 설정\n",
        "plt.xlabel('length')\n",
        "plt.ylabel('weight')\n",
        "\n",
        "# 범례 추가\n",
        "plt.legend()\n",
        "\n",
        "# 그래프 표시\n",
        "plt.show()\n"
      ],
      "metadata": {
        "colab": {
          "base_uri": "https://localhost:8080/",
          "height": 449
        },
        "id": "_RUveSfkzBZ8",
        "outputId": "356a0206-186c-4c37-f4c9-07af3831f7b0"
      },
      "execution_count": null,
      "outputs": [
        {
          "output_type": "display_data",
          "data": {
            "text/plain": [
              "<Figure size 640x480 with 1 Axes>"
            ],
            "image/png": "[encoded data removed]"
          },
          "metadata": {}
        }
      ]
    },
    {
      "cell_type": "markdown",
      "source": [
        "###학습 데이터 셋 만들기"
      ],
      "metadata": {
        "id": "5ot_Kbbi0Jvg"
      }
    },
    {
      "cell_type": "code",
      "source": [
        "fish_length = smelt_length+bream_length\n",
        "fish_weight = smelt_weight+bream_weight\n",
        "fish_data = [[l,w] for l, w in zip(fish_length, fish_weight)]\n",
        "fish_target=[1]*35 + [0]*14\n"
      ],
      "metadata": {
        "id": "4j1-f9at0Wno"
      },
      "execution_count": null,
      "outputs": []
    },
    {
      "cell_type": "markdown",
      "source": [
        "###KNN 학습"
      ],
      "metadata": {
        "id": "8m8LbhTy1gc8"
      }
    },
    {
      "cell_type": "code",
      "source": [
        "from sklearn.neighbors import KNeighborsClassifier\n",
        "knn = KNeighborsClassifier()\n",
        "knn.fit(fish_data,fish_target)\n",
        "knn.score(fish_data,fish_target)"
      ],
      "metadata": {
        "colab": {
          "base_uri": "https://localhost:8080/"
        },
        "id": "VRO8zKplzL8c",
        "outputId": "5284cf47-50d7-43a8-e0de-7408f7d6fe90"
      },
      "execution_count": null,
      "outputs": [
        {
          "output_type": "execute_result",
          "data": {
            "text/plain": [
              "0.9183673469387755"
            ]
          },
          "metadata": {},
          "execution_count": 54
        }
      ]
    },
    {
      "cell_type": "code",
      "source": [
        "knn.score(fish_data,fish_target)"
      ],
      "metadata": {
        "colab": {
          "base_uri": "https://localhost:8080/"
        },
        "id": "hpOtRXZjBrQ-",
        "outputId": "95d4982e-5580-469f-e563-f9def764b639"
      },
      "execution_count": null,
      "outputs": [
        {
          "output_type": "execute_result",
          "data": {
            "text/plain": [
              "0.9183673469387755"
            ]
          },
          "metadata": {},
          "execution_count": 55
        }
      ]
    },
    {
      "cell_type": "code",
      "source": [
        "knn.predict([[30,600]])"
      ],
      "metadata": {
        "colab": {
          "base_uri": "https://localhost:8080/"
        },
        "id": "gCvm_ZKJ1Vjy",
        "outputId": "8c7b2927-043e-4bc4-d66d-03d0e1e2b722"
      },
      "execution_count": null,
      "outputs": [
        {
          "output_type": "execute_result",
          "data": {
            "text/plain": [
              "array([1])"
            ]
          },
          "metadata": {},
          "execution_count": 47
        }
      ]
    },
    {
      "cell_type": "code",
      "source": [
        "knn._y==fish_target"
      ],
      "metadata": {
        "colab": {
          "base_uri": "https://localhost:8080/"
        },
        "id": "K-q90-eXBLZE",
        "outputId": "303cbac9-b823-4c49-94cb-a4db5101be06"
      },
      "execution_count": null,
      "outputs": [
        {
          "output_type": "execute_result",
          "data": {
            "text/plain": [
              "array([ True,  True,  True,  True,  True,  True,  True,  True,  True,\n",
              "        True,  True,  True,  True,  True,  True,  True,  True,  True,\n",
              "        True,  True,  True,  True,  True,  True,  True,  True,  True,\n",
              "        True,  True,  True,  True,  True,  True,  True,  True,  True,\n",
              "        True,  True,  True,  True,  True,  True,  True,  True,  True,\n",
              "        True,  True,  True,  True])"
            ]
          },
          "metadata": {},
          "execution_count": 52
        }
      ]
    },
    {
      "cell_type": "markdown",
      "source": [
        "###KNN단점\n",
        "데이터의 크기가 크면 사용하기 힘듦\n",
        "또한 직선거리 계산하는 데에 많은 메모리가 필요하고 많은 시간 소요"
      ],
      "metadata": {
        "id": "z3wk3Xhn2CJh"
      }
    },
    {
      "cell_type": "markdown",
      "source": [
        "###퀴즈 4\n",
        "KNN의 n_neighbors을 5~49까지 바꿔서 점수가 1.0아래로 내려가는 이웃의 개수 찾기"
      ],
      "metadata": {
        "id": "HrBKLdJm3j3J"
      }
    },
    {
      "cell_type": "code",
      "source": [
        "for i in range(5,50):\n",
        "  knn.n_neighbors=i\n",
        "  score = knn.score(fish_data, fish_target)\n",
        "  if score < 1:\n",
        "    print(i, score)\n"
      ],
      "metadata": {
        "colab": {
          "base_uri": "https://localhost:8080/"
        },
        "id": "IZd_O5W23veQ",
        "outputId": "35a922ac-9fbe-4b10-a82a-da9cdfd1b725"
      },
      "execution_count": null,
      "outputs": [
        {
          "output_type": "stream",
          "name": "stdout",
          "text": [
            "5 0.9183673469387755\n",
            "6 0.9183673469387755\n",
            "7 0.9387755102040817\n",
            "8 0.9387755102040817\n",
            "9 0.9387755102040817\n",
            "10 0.9387755102040817\n",
            "11 0.9387755102040817\n",
            "12 0.9183673469387755\n",
            "13 0.9387755102040817\n",
            "14 0.9387755102040817\n",
            "15 0.9387755102040817\n",
            "16 0.9387755102040817\n",
            "17 0.9183673469387755\n",
            "18 0.9183673469387755\n",
            "19 0.9183673469387755\n",
            "20 0.9183673469387755\n",
            "21 0.8571428571428571\n",
            "22 0.9183673469387755\n",
            "23 0.8979591836734694\n",
            "24 0.9183673469387755\n",
            "25 0.9183673469387755\n",
            "26 0.9183673469387755\n",
            "27 0.8775510204081632\n",
            "28 0.8979591836734694\n",
            "29 0.7142857142857143\n",
            "30 0.7142857142857143\n",
            "31 0.7142857142857143\n",
            "32 0.7142857142857143\n",
            "33 0.7142857142857143\n",
            "34 0.7142857142857143\n",
            "35 0.7142857142857143\n",
            "36 0.7142857142857143\n",
            "37 0.7142857142857143\n",
            "38 0.7142857142857143\n",
            "39 0.7142857142857143\n",
            "40 0.7142857142857143\n",
            "41 0.7142857142857143\n",
            "42 0.7142857142857143\n",
            "43 0.7142857142857143\n",
            "44 0.7142857142857143\n",
            "45 0.7142857142857143\n",
            "46 0.7142857142857143\n",
            "47 0.7142857142857143\n",
            "48 0.7142857142857143\n",
            "49 0.7142857142857143\n"
          ]
        }
      ]
    },
    {
      "cell_type": "markdown",
      "source": [
        "##testset / trainset 구분"
      ],
      "metadata": {
        "id": "Yx9TD0aOey3Q"
      }
    },
    {
      "cell_type": "code",
      "source": [
        "fish_length = [25.4, 26.3, 26.5, 29.0, 29.0, 29.7, 29.7, 30.0, 30.0, 30.7, 31.0, 31.0,\n",
        "                31.5, 32.0, 32.0, 32.0, 33.0, 33.0, 33.5, 33.5, 34.0, 34.0, 34.5, 35.0,\n",
        "                35.0, 35.0, 35.0, 36.0, 36.0, 37.0, 38.5, 38.5, 39.5, 41.0, 41.0, 9.8,\n",
        "                10.5, 10.6, 11.0, 11.2, 11.3, 11.8, 11.8, 12.0, 12.2, 12.4, 13.0, 14.3, 15.0]\n",
        "fish_weight = [242.0, 290.0, 340.0, 363.0, 430.0, 450.0, 500.0, 390.0, 450.0, 500.0, 475.0, 500.0,\n",
        "                500.0, 340.0, 600.0, 600.0, 700.0, 700.0, 610.0, 650.0, 575.0, 685.0, 620.0, 680.0,\n",
        "                700.0, 725.0, 720.0, 714.0, 850.0, 1000.0, 920.0, 955.0, 925.0, 975.0, 950.0, 6.7,\n",
        "                7.5, 7.0, 9.7, 9.8, 8.7, 10.0, 9.9, 9.8, 12.2, 13.4, 12.2, 19.7, 19.9]"
      ],
      "metadata": {
        "id": "Z9U3f53DeuXZ"
      },
      "execution_count": null,
      "outputs": []
    }
  ]
}