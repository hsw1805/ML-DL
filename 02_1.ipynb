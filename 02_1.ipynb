{
  "nbformat": 4,
  "nbformat_minor": 0,
  "metadata": {
    "colab": {
      "provenance": [],
      "include_colab_link": true
    },
    "kernelspec": {
      "name": "python3",
      "display_name": "Python 3"
    },
    "language_info": {
      "name": "python"
    }
  },
  "cells": [
    {
      "cell_type": "markdown",
      "metadata": {
        "id": "view-in-github",
        "colab_type": "text"
      },
      "source": [
        "<a href=\"https://colab.research.google.com/github/hsw1805/ML-DL/blob/main/02_1.ipynb\" target=\"_parent\"><img src=\"https://colab.research.google.com/assets/colab-badge.svg\" alt=\"Open In Colab\"/></a>"
      ]
    },
    {
      "cell_type": "code",
      "execution_count": 3,
      "metadata": {
        "id": "jZnRHGScrm3w"
      },
      "outputs": [],
      "source": [
        "#도미 길이\n",
        "bream_length = [25.4, 26.3, 26.5, 29.0, 29.0, 29.7, 29.7, 30.0, 30.0, 30.7, 31.0, 31.0,\n",
        "                31.5, 32.0, 32.0, 32.0, 33.0, 33.0, 33.5, 33.5, 34.0, 34.0, 34.5, 35.0,\n",
        "                35.0, 35.0, 35.0, 36.0, 36.0, 37.0, 38.5, 38.5, 39.5, 41.0, 41.0]\n",
        "#도미 무게\n",
        "bream_weight = [242.0, 290.0, 340.0, 363.0, 430.0, 450.0, 500.0, 390.0, 450.0, 500.0, 475.0, 500.0,\n",
        "                500.0, 340.0, 600.0, 600.0, 700.0, 700.0, 610.0, 650.0, 575.0, 685.0, 620.0, 680.0,\n",
        "                700.0, 725.0, 720.0, 714.0, 850.0, 1000.0, 920.0, 955.0, 925.0, 975.0, 950.0]"
      ]
    },
    {
      "cell_type": "code",
      "source": [
        "#빙어 길이\n",
        "smelt_length = [9.8, 10.5, 10.6, 11.0, 11.2, 11.3, 11.8, 11.8, 12.0, 12.2, 12.4, 13.0, 14.3, 15.0]\n",
        "#빙어 무게\n",
        "smelt_weight = [6.7, 7.5, 7.0, 9.7, 9.8, 8.7, 10.0, 9.9, 9.8, 12.2, 13.4, 12.2, 19.7, 19.9]"
      ],
      "metadata": {
        "id": "YIjp22QYy4gm"
      },
      "execution_count": 4,
      "outputs": []
    },
    {
      "cell_type": "markdown",
      "source": [
        "##그래프 그려보기"
      ],
      "metadata": {
        "id": "OqJeDypAy_L1"
      }
    },
    {
      "cell_type": "code",
      "source": [
        "import matplotlib.pyplot as plt\n",
        "\n",
        "# 데이터 설정\n",
        "plt.scatter(bream_length, bream_weight, label=\"bream\")\n",
        "plt.scatter(smelt_length, smelt_weight, label=\"smelt\")\n",
        "\n",
        "# 축 레이블 설정\n",
        "plt.xlabel('length')\n",
        "plt.ylabel('weight')\n",
        "\n",
        "# 범례 추가\n",
        "plt.legend()\n",
        "\n",
        "# 그래프 표시\n",
        "plt.show()\n"
      ],
      "metadata": {
        "colab": {
          "base_uri": "https://localhost:8080/",
          "height": 449
        },
        "id": "_RUveSfkzBZ8",
        "outputId": "01d37466-d72c-4b89-e11f-bd49e2edbba0"
      },
      "execution_count": 5,
      "outputs": [
        {
          "output_type": "display_data",
          "data": {
            "text/plain": [
              "<Figure size 640x480 with 1 Axes>"
            ],
            "image/png": "[encoded data removed]"
          },
          "metadata": {}
        }
      ]
    },
    {
      "cell_type": "markdown",
      "source": [
        "###학습 데이터 셋 만들기"
      ],
      "metadata": {
        "id": "5ot_Kbbi0Jvg"
      }
    },
    {
      "cell_type": "code",
      "source": [
        "fish_length = smelt_length+bream_length\n",
        "fish_weight = smelt_weight+bream_weight\n",
        "fish_data = [[l,w] for l, w in zip(fish_length, fish_weight)]\n",
        "fish_target=[1]*35 + [0]*14\n"
      ],
      "metadata": {
        "id": "4j1-f9at0Wno"
      },
      "execution_count": 6,
      "outputs": []
    },
    {
      "cell_type": "markdown",
      "source": [
        "###KNN 학습"
      ],
      "metadata": {
        "id": "8m8LbhTy1gc8"
      }
    },
    {
      "cell_type": "code",
      "source": [
        "from sklearn.neighbors import KNeighborsClassifier\n",
        "knn = KNeighborsClassifier()\n",
        "knn.fit(fish_data,fish_target)\n",
        "knn.score(fish_data,fish_target)"
      ],
      "metadata": {
        "colab": {
          "base_uri": "https://localhost:8080/"
        },
        "id": "VRO8zKplzL8c",
        "outputId": "72e79341-47b6-4aad-f383-575a0220607d"
      },
      "execution_count": 7,
      "outputs": [
        {
          "output_type": "execute_result",
          "data": {
            "text/plain": [
              "0.9183673469387755"
            ]
          },
          "metadata": {},
          "execution_count": 7
        }
      ]
    },
    {
      "cell_type": "code",
      "source": [
        "knn.score(fish_data,fish_target)"
      ],
      "metadata": {
        "colab": {
          "base_uri": "https://localhost:8080/"
        },
        "id": "hpOtRXZjBrQ-",
        "outputId": "1c5d42fb-6e39-45ba-f2d4-5159c5548abb"
      },
      "execution_count": 8,
      "outputs": [
        {
          "output_type": "execute_result",
          "data": {
            "text/plain": [
              "0.9183673469387755"
            ]
          },
          "metadata": {},
          "execution_count": 8
        }
      ]
    },
    {
      "cell_type": "code",
      "source": [
        "knn.predict([[30,600]])"
      ],
      "metadata": {
        "colab": {
          "base_uri": "https://localhost:8080/"
        },
        "id": "gCvm_ZKJ1Vjy",
        "outputId": "38626ab9-6a5a-4300-948b-b0a7808231cb"
      },
      "execution_count": 9,
      "outputs": [
        {
          "output_type": "execute_result",
          "data": {
            "text/plain": [
              "array([1])"
            ]
          },
          "metadata": {},
          "execution_count": 9
        }
      ]
    },
    {
      "cell_type": "code",
      "source": [
        "knn._y==fish_target"
      ],
      "metadata": {
        "colab": {
          "base_uri": "https://localhost:8080/"
        },
        "id": "K-q90-eXBLZE",
        "outputId": "367e377d-102d-4d1d-c1e1-751703460974"
      },
      "execution_count": 10,
      "outputs": [
        {
          "output_type": "execute_result",
          "data": {
            "text/plain": [
              "array([ True,  True,  True,  True,  True,  True,  True,  True,  True,\n",
              "        True,  True,  True,  True,  True,  True,  True,  True,  True,\n",
              "        True,  True,  True,  True,  True,  True,  True,  True,  True,\n",
              "        True,  True,  True,  True,  True,  True,  True,  True,  True,\n",
              "        True,  True,  True,  True,  True,  True,  True,  True,  True,\n",
              "        True,  True,  True,  True])"
            ]
          },
          "metadata": {},
          "execution_count": 10
        }
      ]
    },
    {
      "cell_type": "markdown",
      "source": [
        "###KNN단점\n",
        "데이터의 크기가 크면 사용하기 힘듦\n",
        "또한 직선거리 계산하는 데에 많은 메모리가 필요하고 많은 시간 소요"
      ],
      "metadata": {
        "id": "z3wk3Xhn2CJh"
      }
    },
    {
      "cell_type": "markdown",
      "source": [
        "###퀴즈 4\n",
        "KNN의 n_neighbors을 5~49까지 바꿔서 점수가 1.0아래로 내려가는 이웃의 개수 찾기"
      ],
      "metadata": {
        "id": "HrBKLdJm3j3J"
      }
    },
    {
      "cell_type": "code",
      "source": [
        "for i in range(5,50):\n",
        "  knn.n_neighbors=i\n",
        "  score = knn.score(fish_data, fish_target)\n",
        "  if score < 1:\n",
        "    print(i, score)\n"
      ],
      "metadata": {
        "colab": {
          "base_uri": "https://localhost:8080/"
        },
        "id": "IZd_O5W23veQ",
        "outputId": "29ede0b3-eb24-4d06-ea18-ea64228cc8b9"
      },
      "execution_count": 11,
      "outputs": [
        {
          "output_type": "stream",
          "name": "stdout",
          "text": [
            "5 0.9183673469387755\n",
            "6 0.9183673469387755\n",
            "7 0.9387755102040817\n",
            "8 0.9387755102040817\n",
            "9 0.9387755102040817\n",
            "10 0.9387755102040817\n",
            "11 0.9387755102040817\n",
            "12 0.9183673469387755\n",
            "13 0.9387755102040817\n",
            "14 0.9387755102040817\n",
            "15 0.9387755102040817\n",
            "16 0.9387755102040817\n",
            "17 0.9183673469387755\n",
            "18 0.9183673469387755\n",
            "19 0.9183673469387755\n",
            "20 0.9183673469387755\n",
            "21 0.8571428571428571\n",
            "22 0.9183673469387755\n",
            "23 0.8979591836734694\n",
            "24 0.9183673469387755\n",
            "25 0.9183673469387755\n",
            "26 0.9183673469387755\n",
            "27 0.8775510204081632\n",
            "28 0.8979591836734694\n",
            "29 0.7142857142857143\n",
            "30 0.7142857142857143\n",
            "31 0.7142857142857143\n",
            "32 0.7142857142857143\n",
            "33 0.7142857142857143\n",
            "34 0.7142857142857143\n",
            "35 0.7142857142857143\n",
            "36 0.7142857142857143\n",
            "37 0.7142857142857143\n",
            "38 0.7142857142857143\n",
            "39 0.7142857142857143\n",
            "40 0.7142857142857143\n",
            "41 0.7142857142857143\n",
            "42 0.7142857142857143\n",
            "43 0.7142857142857143\n",
            "44 0.7142857142857143\n",
            "45 0.7142857142857143\n",
            "46 0.7142857142857143\n",
            "47 0.7142857142857143\n",
            "48 0.7142857142857143\n",
            "49 0.7142857142857143\n"
          ]
        }
      ]
    },
    {
      "cell_type": "markdown",
      "source": [
        "##testset / trainset 구분\n",
        "\n",
        "위의 코드는 overfitting의 위험이 있다\n",
        "정답지를 알고 있는 상태에서 정답을 학습하고 정답으로 score을 내기\n",
        "때문에 score함수의 성능평가는 의미가 없으므로 기본 dataset에서 trainset과 testset구분 한다."
      ],
      "metadata": {
        "id": "Yx9TD0aOey3Q"
      }
    },
    {
      "cell_type": "code",
      "source": [
        "fish_length = [25.4, 26.3, 26.5, 29.0, 29.0, 29.7, 29.7, 30.0, 30.0, 30.7, 31.0, 31.0,\n",
        "                31.5, 32.0, 32.0, 32.0, 33.0, 33.0, 33.5, 33.5, 34.0, 34.0, 34.5, 35.0,\n",
        "                35.0, 35.0, 35.0, 36.0, 36.0, 37.0, 38.5, 38.5, 39.5, 41.0, 41.0, 9.8,\n",
        "                10.5, 10.6, 11.0, 11.2, 11.3, 11.8, 11.8, 12.0, 12.2, 12.4, 13.0, 14.3, 15.0]\n",
        "fish_weight = [242.0, 290.0, 340.0, 363.0, 430.0, 450.0, 500.0, 390.0, 450.0, 500.0, 475.0, 500.0,\n",
        "                500.0, 340.0, 600.0, 600.0, 700.0, 700.0, 610.0, 650.0, 575.0, 685.0, 620.0, 680.0,\n",
        "                700.0, 725.0, 720.0, 714.0, 850.0, 1000.0, 920.0, 955.0, 925.0, 975.0, 950.0, 6.7,\n",
        "                7.5, 7.0, 9.7, 9.8, 8.7, 10.0, 9.9, 9.8, 12.2, 13.4, 12.2, 19.7, 19.9]"
      ],
      "metadata": {
        "id": "Z9U3f53DeuXZ"
      },
      "execution_count": 12,
      "outputs": []
    },
    {
      "cell_type": "code",
      "source": [
        "fish_data = [[l,w] for l, w in zip(fish_length, fish_weight)]\n",
        "fish_target = [1]*35 + [0]*14"
      ],
      "metadata": {
        "id": "dmlzekzBmKkN"
      },
      "execution_count": 13,
      "outputs": []
    },
    {
      "cell_type": "markdown",
      "source": [
        "###testset과 trainset 생성 시 주의점\n",
        "기본 데이터 set에서 trainset과 testset을 빼내려고 할 때 특정 결과값이 비율보다 많거나 적게 들어가면 안 됨\n",
        "(샘플링 편향이 일어나면 안 됨!)\n",
        "\n",
        "그래서 보통 랜덤해서 뽑음 (numpy 의 random함수)"
      ],
      "metadata": {
        "id": "YVV-5ct6nNgc"
      }
    },
    {
      "cell_type": "code",
      "source": [
        "import numpy as np\n",
        "\n",
        "input_arr = np.array(fish_data)\n",
        "target_arr = np.array(fish_target)"
      ],
      "metadata": {
        "id": "E7WacR5Xnhsx"
      },
      "execution_count": 14,
      "outputs": []
    },
    {
      "cell_type": "code",
      "source": [
        "#random.seed를 사용하여 같은 seed값을 쓰면 random값은 동일함\n",
        "#동일한 결과를 뽑을 때 유용\n",
        "np.random.seed(42)\n",
        "index = np.arange(49)\n",
        "np.random.shuffle(index)"
      ],
      "metadata": {
        "id": "LnX8TOOVn1sA"
      },
      "execution_count": 22,
      "outputs": []
    },
    {
      "cell_type": "code",
      "source": [
        "#train set 35개 랜덤해서 뽑은 거\n",
        "train_input = input_arr[index[:35]]\n",
        "train_target = target_arr[index[:35]]\n",
        "\n",
        "#test set 나머지에서 뽑기\n",
        "test_input = input_arr[index[35:]]\n",
        "test_target = target_arr[index[35:]]\n"
      ],
      "metadata": {
        "colab": {
          "base_uri": "https://localhost:8080/"
        },
        "id": "-OsOIkHso2Ci",
        "outputId": "0861efa9-8fd4-4bf6-f419-df20a7409530"
      },
      "execution_count": 28,
      "outputs": [
        {
          "output_type": "execute_result",
          "data": {
            "text/plain": [
              "array([[  32. ,  340. ],\n",
              "       [  12.4,   13.4],\n",
              "       [  14.3,   19.7],\n",
              "       [  12.2,   12.2],\n",
              "       [  33. ,  700. ],\n",
              "       [  36. ,  714. ],\n",
              "       [  35. ,  720. ],\n",
              "       [  35. ,  725. ],\n",
              "       [  38.5,  955. ],\n",
              "       [  33.5,  650. ],\n",
              "       [  31.5,  500. ],\n",
              "       [  29. ,  430. ],\n",
              "       [  41. ,  950. ],\n",
              "       [  30. ,  450. ],\n",
              "       [  29. ,  363. ],\n",
              "       [  29.7,  500. ],\n",
              "       [  11.3,    8.7],\n",
              "       [  11.8,   10. ],\n",
              "       [  13. ,   12.2],\n",
              "       [  32. ,  600. ],\n",
              "       [  30.7,  500. ],\n",
              "       [  33. ,  700. ],\n",
              "       [  35. ,  700. ],\n",
              "       [  41. ,  975. ],\n",
              "       [  38.5,  920. ],\n",
              "       [  25.4,  242. ],\n",
              "       [  12. ,    9.8],\n",
              "       [  39.5,  925. ],\n",
              "       [  29.7,  450. ],\n",
              "       [  37. , 1000. ],\n",
              "       [  31. ,  500. ],\n",
              "       [  10.5,    7.5],\n",
              "       [  26.3,  290. ],\n",
              "       [  34. ,  685. ],\n",
              "       [  26.5,  340. ]])"
            ]
          },
          "metadata": {},
          "execution_count": 28
        }
      ]
    },
    {
      "cell_type": "code",
      "source": [
        "#잘 뽑혔나 확인\n",
        "import matplotlib.pyplot as plt\n",
        "plt.scatter(train_input[:,0], train_input[:,1],label=\"train\")\n",
        "plt.scatter(test_input[:,0], test_input[:,1], label = \"test\")\n",
        "plt.xlabel(\"length\")\n",
        "plt.ylabel(\"weight\")\n",
        "plt.legend()\n",
        "plt.show()"
      ],
      "metadata": {
        "colab": {
          "base_uri": "https://localhost:8080/",
          "height": 449
        },
        "id": "WPVyJRfkpMJS",
        "outputId": "c618e0cb-d145-41bc-fdd3-7159d4ffbf86"
      },
      "execution_count": 30,
      "outputs": [
        {
          "output_type": "display_data",
          "data": {
            "text/plain": [
              "<Figure size 640x480 with 1 Axes>"
            ],
            "image/png": "[encoded data removed]"
          },
          "metadata": {}
        }
      ]
    },
    {
      "cell_type": "markdown",
      "source": [
        "###랜덤해서 뽑은 데이터로 학습하기"
      ],
      "metadata": {
        "id": "JRDV4WHSqPEo"
      }
    },
    {
      "cell_type": "code",
      "source": [
        "from sklearn.neighbors import KNeighborsClassifier\n",
        "knn = KNeighborsClassifier()\n",
        "knn.fit(train_input, train_target)\n",
        "knn.predict(test_input)\n",
        "knn.score(test_input, test_target)"
      ],
      "metadata": {
        "colab": {
          "base_uri": "https://localhost:8080/"
        },
        "id": "QMiGUPYBqOgR",
        "outputId": "e7d7e5dd-fedd-49e3-8f93-7c514ca85ac1"
      },
      "execution_count": 34,
      "outputs": [
        {
          "output_type": "execute_result",
          "data": {
            "text/plain": [
              "1.0"
            ]
          },
          "metadata": {},
          "execution_count": 34
        }
      ]
    },
    {
      "cell_type": "markdown",
      "source": [],
      "metadata": {
        "id": "bP9Fj9oYnhFS"
      }
    }
  ]
}