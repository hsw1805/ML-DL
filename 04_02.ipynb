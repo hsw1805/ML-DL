{
  "nbformat": 4,
  "nbformat_minor": 0,
  "metadata": {
    "colab": {
      "provenance": [],
      "authorship_tag": "ABX9TyOauK1fEWNYdrvZbK74mMx1",
      "include_colab_link": true
    },
    "kernelspec": {
      "name": "python3",
      "display_name": "Python 3"
    },
    "language_info": {
      "name": "python"
    }
  },
  "cells": [
    {
      "cell_type": "markdown",
      "metadata": {
        "id": "view-in-github",
        "colab_type": "text"
      },
      "source": [
        "<a href=\"https://colab.research.google.com/github/hsw1805/ML-DL/blob/main/04_02.ipynb\" target=\"_parent\"><img src=\"https://colab.research.google.com/assets/colab-badge.svg\" alt=\"Open In Colab\"/></a>"
      ]
    },
    {
      "cell_type": "markdown",
      "source": [
        "# 확률적 경사 하강법(SGD)\n",
        "\n",
        "- 여기서 확률적이란?\n",
        "\n",
        "  전체 데이터 샘플을 이용하는 것이 아닌 하나의 샘플을 훈련 세트에서 랜덤하게 골라 학습하는 방법\n",
        "\n",
        "  이러한 훈련을 전체 샘플에 대해 반복해서 하는 것"
      ],
      "metadata": {
        "id": "LrVfIoCeqFzR"
      }
    },
    {
      "cell_type": "markdown",
      "source": [
        "#요약\n",
        "\n",
        "확률적 경사 하강법 : 샘플 한개\n",
        "\n",
        "미니 배치 경사 하강법 : 샘플 몇 개\n",
        "\n",
        "배치 경사 하강법 : 샘플 전체\n",
        "\n"
      ],
      "metadata": {
        "id": "jgKPL0otu171"
      }
    },
    {
      "cell_type": "markdown",
      "source": [
        "## 손실함수란?\n",
        "\n",
        "머신러닝의 알고리즘이 얼마나 엉터리인지를 측정하는 기준\n",
        "\n",
        "위에서 알아봤던 경사하강법을 통해 손실함수의 값을 줄이는 것을 목표로 한다.\n",
        "\n",
        "**cost function과는 다르다!**\n",
        "\n",
        "cost function(비용함수)는 훈련 세트에 있는 모든 샘플에 대한 손실함수의 합\n"
      ],
      "metadata": {
        "id": "JflwP4PrxlLF"
      }
    },
    {
      "cell_type": "code",
      "execution_count": 1,
      "metadata": {
        "id": "5tOXJAlip5l1"
      },
      "outputs": [],
      "source": [
        "  import pandas as pd\n",
        "\n",
        "  fish = pd.read_csv('https://bit.ly/fish_csv_data')\n",
        "\n",
        ""
      ]
    },
    {
      "cell_type": "code",
      "source": [
        "fish_input = fish[['Weight','Length','Diagonal','Height','Width']].to_numpy()\n",
        "fish_target = fish['Species'].to_numpy()"
      ],
      "metadata": {
        "id": "8vqW5zPqKb_m"
      },
      "execution_count": 3,
      "outputs": []
    },
    {
      "cell_type": "code",
      "source": [
        "from sklearn.model_selection import train_test_split\n",
        "train_input, test_input, train_target,test_target = train_test_split(fish_input, fish_target, random_state = 42)"
      ],
      "metadata": {
        "id": "Wx5TfGEcKu9X"
      },
      "execution_count": 4,
      "outputs": []
    },
    {
      "cell_type": "code",
      "source": [
        "#데이터 정규화\n",
        "from sklearn.preprocessing import StandardScaler\n",
        "ss = StandardScaler()\n",
        "ss.fit(train_input)\n",
        "train_scaled = ss.transform(train_input)\n",
        "test_scaled = ss.transform(test_input)"
      ],
      "metadata": {
        "id": "UooyuFA-MQj4"
      },
      "execution_count": 5,
      "outputs": []
    },
    {
      "cell_type": "code",
      "source": [
        "from sklearn.linear_model import SGDClassifier\n",
        "sc = SGDClassifier(loss = 'log_loss', max_iter = 100000, random_state=42)\n",
        "sc.fit(train_scaled, train_target)\n",
        "print(sc.score(train_scaled, train_target))\n",
        "print(sc.score(test_scaled, test_target))"
      ],
      "metadata": {
        "colab": {
          "base_uri": "https://localhost:8080/"
        },
        "id": "R__jRAZNMoca",
        "outputId": "f87bc253-99a5-4371-e96f-96a8b56e1eee"
      },
      "execution_count": 17,
      "outputs": [
        {
          "output_type": "stream",
          "name": "stdout",
          "text": [
            "0.8403361344537815\n",
            "0.8\n"
          ]
        }
      ]
    },
    {
      "cell_type": "code",
      "source": [
        "\n",
        "sc.partial_fit(train_scaled, train_target)\n",
        "print(sc.score(train_scaled, train_target))\n",
        "print(sc.score(test_scaled, test_target))"
      ],
      "metadata": {
        "colab": {
          "base_uri": "https://localhost:8080/"
        },
        "id": "QE5EDsotN62C",
        "outputId": "564505cd-4e2c-4bc2-974a-10a2412d7c95"
      },
      "execution_count": 18,
      "outputs": [
        {
          "output_type": "stream",
          "name": "stdout",
          "text": [
            "0.907563025210084\n",
            "0.925\n"
          ]
        }
      ]
    },
    {
      "cell_type": "code",
      "source": [
        "import numpy as np\n",
        "\n",
        "sc = SGDClassifier(loss = 'log_loss', random_state=42)\n",
        "train_score = []\n",
        "test_score = []\n",
        "classes = np.unique(train_target)\n",
        "\n",
        "for _ in range(300):\n",
        "  sc.partial_fit(train_scaled, train_target, classes = classes)\n",
        "  train_score.append(sc.score(train_scaled, train_target))\n",
        "  test_score.append(sc.score(test_scaled, test_target))\n"
      ],
      "metadata": {
        "id": "VFOMTscVO_mf"
      },
      "execution_count": 19,
      "outputs": []
    },
    {
      "cell_type": "code",
      "source": [
        "import matplotlib.pyplot as plt\n",
        "\n",
        "plt.plot(train_score)\n",
        "plt.plot(test_score)\n",
        "plt.xlabel('epoch')\n",
        "plt.ylabel('score')\n",
        "plt.show()"
      ],
      "metadata": {
        "colab": {
          "base_uri": "https://localhost:8080/",
          "height": 449
        },
        "id": "-S21LRIuPixG",
        "outputId": "f3523b03-a138-4a01-d34c-d96a43ea5469"
      },
      "execution_count": 20,
      "outputs": [
        {
          "output_type": "display_data",
          "data": {
            "text/plain": [
              "<Figure size 640x480 with 1 Axes>"
            ],
            "image/png": "[encoded data removed]"
          },
          "metadata": {}
        }
      ]
    }
  ]
}