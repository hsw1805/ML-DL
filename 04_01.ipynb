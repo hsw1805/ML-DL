{
  "nbformat": 4,
  "nbformat_minor": 0,
  "metadata": {
    "colab": {
      "provenance": [],
      "authorship_tag": "ABX9TyNt9FOtp5Mh6sPkfDFz++DQ",
      "include_colab_link": true
    },
    "kernelspec": {
      "name": "python3",
      "display_name": "Python 3"
    },
    "language_info": {
      "name": "python"
    }
  },
  "cells": [
    {
      "cell_type": "markdown",
      "metadata": {
        "id": "view-in-github",
        "colab_type": "text"
      },
      "source": [
        "<a href=\"https://colab.research.google.com/github/hsw1805/ML-DL/blob/main/04_01.ipynb\" target=\"_parent\"><img src=\"https://colab.research.google.com/assets/colab-badge.svg\" alt=\"Open In Colab\"/></a>"
      ]
    },
    {
      "cell_type": "markdown",
      "source": [
        "#확률 문제\n"
      ],
      "metadata": {
        "id": "2bPO4wSfF0Ot"
      }
    },
    {
      "cell_type": "markdown",
      "source": [
        "##knn으로 확률 구하기\n",
        "\n",
        "10명 중 A가 5개 B가 2개 C가 3개면 A일 확률 0.5 이런 식으로"
      ],
      "metadata": {
        "id": "a3teGc1VF7ws"
      }
    },
    {
      "cell_type": "code",
      "execution_count": 8,
      "metadata": {
        "colab": {
          "base_uri": "https://localhost:8080/",
          "height": 206
        },
        "id": "6H1A122HFQCu",
        "outputId": "a5b35f90-79fd-44ee-b4d1-a5152dde1b59"
      },
      "outputs": [
        {
          "output_type": "execute_result",
          "data": {
            "text/plain": [
              "  Species  Weight  Length  Diagonal   Height   Width\n",
              "0   Bream   242.0    25.4      30.0  11.5200  4.0200\n",
              "1   Bream   290.0    26.3      31.2  12.4800  4.3056\n",
              "2   Bream   340.0    26.5      31.1  12.3778  4.6961\n",
              "3   Bream   363.0    29.0      33.5  12.7300  4.4555\n",
              "4   Bream   430.0    29.0      34.0  12.4440  5.1340"
            ],
            "text/html": [
              "\n",
              "  <div id=\"df-4892bbce-353e-41cb-854b-8b96e52c16dc\" class=\"colab-df-container\">\n",
              "    <div>\n",
              "<style scoped>\n",
              "    .dataframe tbody tr th:only-of-type {\n",
              "        vertical-align: middle;\n",
              "    }\n",
              "\n",
              "    .dataframe tbody tr th {\n",
              "        vertical-align: top;\n",
              "    }\n",
              "\n",
              "    .dataframe thead th {\n",
              "        text-align: right;\n",
              "    }\n",
              "</style>\n",
              "<table border=\"1\" class=\"dataframe\">\n",
              "  <thead>\n",
              "    <tr style=\"text-align: right;\">\n",
              "      <th></th>\n",
              "      <th>Species</th>\n",
              "      <th>Weight</th>\n",
              "      <th>Length</th>\n",
              "      <th>Diagonal</th>\n",
              "      <th>Height</th>\n",
              "      <th>Width</th>\n",
              "    </tr>\n",
              "  </thead>\n",
              "  <tbody>\n",
              "    <tr>\n",
              "      <th>0</th>\n",
              "      <td>Bream</td>\n",
              "      <td>242.0</td>\n",
              "      <td>25.4</td>\n",
              "      <td>30.0</td>\n",
              "      <td>11.5200</td>\n",
              "      <td>4.0200</td>\n",
              "    </tr>\n",
              "    <tr>\n",
              "      <th>1</th>\n",
              "      <td>Bream</td>\n",
              "      <td>290.0</td>\n",
              "      <td>26.3</td>\n",
              "      <td>31.2</td>\n",
              "      <td>12.4800</td>\n",
              "      <td>4.3056</td>\n",
              "    </tr>\n",
              "    <tr>\n",
              "      <th>2</th>\n",
              "      <td>Bream</td>\n",
              "      <td>340.0</td>\n",
              "      <td>26.5</td>\n",
              "      <td>31.1</td>\n",
              "      <td>12.3778</td>\n",
              "      <td>4.6961</td>\n",
              "    </tr>\n",
              "    <tr>\n",
              "      <th>3</th>\n",
              "      <td>Bream</td>\n",
              "      <td>363.0</td>\n",
              "      <td>29.0</td>\n",
              "      <td>33.5</td>\n",
              "      <td>12.7300</td>\n",
              "      <td>4.4555</td>\n",
              "    </tr>\n",
              "    <tr>\n",
              "      <th>4</th>\n",
              "      <td>Bream</td>\n",
              "      <td>430.0</td>\n",
              "      <td>29.0</td>\n",
              "      <td>34.0</td>\n",
              "      <td>12.4440</td>\n",
              "      <td>5.1340</td>\n",
              "    </tr>\n",
              "  </tbody>\n",
              "</table>\n",
              "</div>\n",
              "    <div class=\"colab-df-buttons\">\n",
              "\n",
              "  <div class=\"colab-df-container\">\n",
              "    <button class=\"colab-df-convert\" onclick=\"convertToInteractive('df-4892bbce-353e-41cb-854b-8b96e52c16dc')\"\n",
              "            title=\"Convert this dataframe to an interactive table.\"\n",
              "            style=\"display:none;\">\n",
              "\n",
              "  <svg xmlns=\"http://www.w3.org/2000/svg\" height=\"24px\" viewBox=\"0 -960 960 960\">\n",
              "    <path d=\"M120-120v-720h720v720H120Zm60-500h600v-160H180v160Zm220 220h160v-160H400v160Zm0 220h160v-160H400v160ZM180-400h160v-160H180v160Zm440 0h160v-160H620v160ZM180-180h160v-160H180v160Zm440 0h160v-160H620v160Z\"/>\n",
              "  </svg>\n",
              "    </button>\n",
              "\n",
              "  <style>\n",
              "    .colab-df-container {\n",
              "      display:flex;\n",
              "      gap: 12px;\n",
              "    }\n",
              "\n",
              "    .colab-df-convert {\n",
              "      background-color: #E8F0FE;\n",
              "      border: none;\n",
              "      border-radius: 50%;\n",
              "      cursor: pointer;\n",
              "      display: none;\n",
              "      fill: #1967D2;\n",
              "      height: 32px;\n",
              "      padding: 0 0 0 0;\n",
              "      width: 32px;\n",
              "    }\n",
              "\n",
              "    .colab-df-convert:hover {\n",
              "      background-color: #E2EBFA;\n",
              "      box-shadow: 0px 1px 2px rgba(60, 64, 67, 0.3), 0px 1px 3px 1px rgba(60, 64, 67, 0.15);\n",
              "      fill: #174EA6;\n",
              "    }\n",
              "\n",
              "    .colab-df-buttons div {\n",
              "      margin-bottom: 4px;\n",
              "    }\n",
              "\n",
              "    [theme=dark] .colab-df-convert {\n",
              "      background-color: #3B4455;\n",
              "      fill: #D2E3FC;\n",
              "    }\n",
              "\n",
              "    [theme=dark] .colab-df-convert:hover {\n",
              "      background-color: #434B5C;\n",
              "      box-shadow: 0px 1px 3px 1px rgba(0, 0, 0, 0.15);\n",
              "      filter: drop-shadow(0px 1px 2px rgba(0, 0, 0, 0.3));\n",
              "      fill: #FFFFFF;\n",
              "    }\n",
              "  </style>\n",
              "\n",
              "    <script>\n",
              "      const buttonEl =\n",
              "        document.querySelector('#df-4892bbce-353e-41cb-854b-8b96e52c16dc button.colab-df-convert');\n",
              "      buttonEl.style.display =\n",
              "        google.colab.kernel.accessAllowed ? 'block' : 'none';\n",
              "\n",
              "      async function convertToInteractive(key) {\n",
              "        const element = document.querySelector('#df-4892bbce-353e-41cb-854b-8b96e52c16dc');\n",
              "        const dataTable =\n",
              "          await google.colab.kernel.invokeFunction('convertToInteractive',\n",
              "                                                    [key], {});\n",
              "        if (!dataTable) return;\n",
              "\n",
              "        const docLinkHtml = 'Like what you see? Visit the ' +\n",
              "          '<a target=\"_blank\" href=https://colab.research.google.com/notebooks/data_table.ipynb>data table notebook</a>'\n",
              "          + ' to learn more about interactive tables.';\n",
              "        element.innerHTML = '';\n",
              "        dataTable['output_type'] = 'display_data';\n",
              "        await google.colab.output.renderOutput(dataTable, element);\n",
              "        const docLink = document.createElement('div');\n",
              "        docLink.innerHTML = docLinkHtml;\n",
              "        element.appendChild(docLink);\n",
              "      }\n",
              "    </script>\n",
              "  </div>\n",
              "\n",
              "\n",
              "<div id=\"df-c3d62203-4ec7-428f-8269-b3b8eb2d26c0\">\n",
              "  <button class=\"colab-df-quickchart\" onclick=\"quickchart('df-c3d62203-4ec7-428f-8269-b3b8eb2d26c0')\"\n",
              "            title=\"Suggest charts\"\n",
              "            style=\"display:none;\">\n",
              "\n",
              "<svg xmlns=\"http://www.w3.org/2000/svg\" height=\"24px\"viewBox=\"0 0 24 24\"\n",
              "     width=\"24px\">\n",
              "    <g>\n",
              "        <path d=\"M19 3H5c-1.1 0-2 .9-2 2v14c0 1.1.9 2 2 2h14c1.1 0 2-.9 2-2V5c0-1.1-.9-2-2-2zM9 17H7v-7h2v7zm4 0h-2V7h2v10zm4 0h-2v-4h2v4z\"/>\n",
              "    </g>\n",
              "</svg>\n",
              "  </button>\n",
              "\n",
              "<style>\n",
              "  .colab-df-quickchart {\n",
              "      --bg-color: #E8F0FE;\n",
              "      --fill-color: #1967D2;\n",
              "      --hover-bg-color: #E2EBFA;\n",
              "      --hover-fill-color: #174EA6;\n",
              "      --disabled-fill-color: #AAA;\n",
              "      --disabled-bg-color: #DDD;\n",
              "  }\n",
              "\n",
              "  [theme=dark] .colab-df-quickchart {\n",
              "      --bg-color: #3B4455;\n",
              "      --fill-color: #D2E3FC;\n",
              "      --hover-bg-color: #434B5C;\n",
              "      --hover-fill-color: #FFFFFF;\n",
              "      --disabled-bg-color: #3B4455;\n",
              "      --disabled-fill-color: #666;\n",
              "  }\n",
              "\n",
              "  .colab-df-quickchart {\n",
              "    background-color: var(--bg-color);\n",
              "    border: none;\n",
              "    border-radius: 50%;\n",
              "    cursor: pointer;\n",
              "    display: none;\n",
              "    fill: var(--fill-color);\n",
              "    height: 32px;\n",
              "    padding: 0;\n",
              "    width: 32px;\n",
              "  }\n",
              "\n",
              "  .colab-df-quickchart:hover {\n",
              "    background-color: var(--hover-bg-color);\n",
              "    box-shadow: 0 1px 2px rgba(60, 64, 67, 0.3), 0 1px 3px 1px rgba(60, 64, 67, 0.15);\n",
              "    fill: var(--button-hover-fill-color);\n",
              "  }\n",
              "\n",
              "  .colab-df-quickchart-complete:disabled,\n",
              "  .colab-df-quickchart-complete:disabled:hover {\n",
              "    background-color: var(--disabled-bg-color);\n",
              "    fill: var(--disabled-fill-color);\n",
              "    box-shadow: none;\n",
              "  }\n",
              "\n",
              "  .colab-df-spinner {\n",
              "    border: 2px solid var(--fill-color);\n",
              "    border-color: transparent;\n",
              "    border-bottom-color: var(--fill-color);\n",
              "    animation:\n",
              "      spin 1s steps(1) infinite;\n",
              "  }\n",
              "\n",
              "  @keyframes spin {\n",
              "    0% {\n",
              "      border-color: transparent;\n",
              "      border-bottom-color: var(--fill-color);\n",
              "      border-left-color: var(--fill-color);\n",
              "    }\n",
              "    20% {\n",
              "      border-color: transparent;\n",
              "      border-left-color: var(--fill-color);\n",
              "      border-top-color: var(--fill-color);\n",
              "    }\n",
              "    30% {\n",
              "      border-color: transparent;\n",
              "      border-left-color: var(--fill-color);\n",
              "      border-top-color: var(--fill-color);\n",
              "      border-right-color: var(--fill-color);\n",
              "    }\n",
              "    40% {\n",
              "      border-color: transparent;\n",
              "      border-right-color: var(--fill-color);\n",
              "      border-top-color: var(--fill-color);\n",
              "    }\n",
              "    60% {\n",
              "      border-color: transparent;\n",
              "      border-right-color: var(--fill-color);\n",
              "    }\n",
              "    80% {\n",
              "      border-color: transparent;\n",
              "      border-right-color: var(--fill-color);\n",
              "      border-bottom-color: var(--fill-color);\n",
              "    }\n",
              "    90% {\n",
              "      border-color: transparent;\n",
              "      border-bottom-color: var(--fill-color);\n",
              "    }\n",
              "  }\n",
              "</style>\n",
              "\n",
              "  <script>\n",
              "    async function quickchart(key) {\n",
              "      const quickchartButtonEl =\n",
              "        document.querySelector('#' + key + ' button');\n",
              "      quickchartButtonEl.disabled = true;  // To prevent multiple clicks.\n",
              "      quickchartButtonEl.classList.add('colab-df-spinner');\n",
              "      try {\n",
              "        const charts = await google.colab.kernel.invokeFunction(\n",
              "            'suggestCharts', [key], {});\n",
              "      } catch (error) {\n",
              "        console.error('Error during call to suggestCharts:', error);\n",
              "      }\n",
              "      quickchartButtonEl.classList.remove('colab-df-spinner');\n",
              "      quickchartButtonEl.classList.add('colab-df-quickchart-complete');\n",
              "    }\n",
              "    (() => {\n",
              "      let quickchartButtonEl =\n",
              "        document.querySelector('#df-c3d62203-4ec7-428f-8269-b3b8eb2d26c0 button');\n",
              "      quickchartButtonEl.style.display =\n",
              "        google.colab.kernel.accessAllowed ? 'block' : 'none';\n",
              "    })();\n",
              "  </script>\n",
              "</div>\n",
              "    </div>\n",
              "  </div>\n"
            ],
            "application/vnd.google.colaboratory.intrinsic+json": {
              "type": "dataframe",
              "variable_name": "fish",
              "summary": "{\n  \"name\": \"fish\",\n  \"rows\": 159,\n  \"fields\": [\n    {\n      \"column\": \"Species\",\n      \"properties\": {\n        \"dtype\": \"category\",\n        \"num_unique_values\": 7,\n        \"samples\": [\n          \"Bream\",\n          \"Roach\",\n          \"Pike\"\n        ],\n        \"semantic_type\": \"\",\n        \"description\": \"\"\n      }\n    },\n    {\n      \"column\": \"Weight\",\n      \"properties\": {\n        \"dtype\": \"number\",\n        \"std\": 357.9783165508931,\n        \"min\": 0.0,\n        \"max\": 1650.0,\n        \"num_unique_values\": 101,\n        \"samples\": [\n          770.0,\n          51.5,\n          197.0\n        ],\n        \"semantic_type\": \"\",\n        \"description\": \"\"\n      }\n    },\n    {\n      \"column\": \"Length\",\n      \"properties\": {\n        \"dtype\": \"number\",\n        \"std\": 10.716328098884247,\n        \"min\": 8.4,\n        \"max\": 63.4,\n        \"num_unique_values\": 93,\n        \"samples\": [\n          14.7,\n          18.8,\n          19.6\n        ],\n        \"semantic_type\": \"\",\n        \"description\": \"\"\n      }\n    },\n    {\n      \"column\": \"Diagonal\",\n      \"properties\": {\n        \"dtype\": \"number\",\n        \"std\": 11.610245832690964,\n        \"min\": 8.8,\n        \"max\": 68.0,\n        \"num_unique_values\": 124,\n        \"samples\": [\n          39.2,\n          27.2,\n          23.1\n        ],\n        \"semantic_type\": \"\",\n        \"description\": \"\"\n      }\n    },\n    {\n      \"column\": \"Height\",\n      \"properties\": {\n        \"dtype\": \"number\",\n        \"std\": 4.2862076199688675,\n        \"min\": 1.7284,\n        \"max\": 18.957,\n        \"num_unique_values\": 154,\n        \"samples\": [\n          15.438,\n          7.293,\n          2.8728\n        ],\n        \"semantic_type\": \"\",\n        \"description\": \"\"\n      }\n    },\n    {\n      \"column\": \"Width\",\n      \"properties\": {\n        \"dtype\": \"number\",\n        \"std\": 1.685803869992167,\n        \"min\": 1.0476,\n        \"max\": 8.142,\n        \"num_unique_values\": 152,\n        \"samples\": [\n          3.1571,\n          1.3936,\n          3.6835\n        ],\n        \"semantic_type\": \"\",\n        \"description\": \"\"\n      }\n    }\n  ]\n}"
            }
          },
          "metadata": {},
          "execution_count": 8
        }
      ],
      "source": [
        "#데이터 호출\n",
        "import pandas as pd\n",
        "\n",
        "fish = pd.read_csv('https://bit.ly/fish_csv_data')\n",
        "fish.head()"
      ]
    },
    {
      "cell_type": "code",
      "source": [
        "print(pd.unique(fish['Species']))"
      ],
      "metadata": {
        "colab": {
          "base_uri": "https://localhost:8080/"
        },
        "id": "vNNeySG2GVb6",
        "outputId": "d6509786-d3c5-4914-c593-82fd47c8b5b0"
      },
      "execution_count": 9,
      "outputs": [
        {
          "output_type": "stream",
          "name": "stdout",
          "text": [
            "['Bream' 'Roach' 'Whitefish' 'Parkki' 'Perch' 'Pike' 'Smelt']\n"
          ]
        }
      ]
    },
    {
      "cell_type": "code",
      "source": [
        "fish_input = fish[['Weight', 'Length','Diagonal','Height',\"Width\"]]"
      ],
      "metadata": {
        "id": "4pPZifsBHSG-"
      },
      "execution_count": 10,
      "outputs": []
    },
    {
      "cell_type": "code",
      "source": [
        "fish_input.to_numpy()"
      ],
      "metadata": {
        "colab": {
          "base_uri": "https://localhost:8080/"
        },
        "id": "Aygs0RFBHW2E",
        "outputId": "7d37c286-44b3-40ae-9668-05316dba98b5"
      },
      "execution_count": 11,
      "outputs": [
        {
          "output_type": "execute_result",
          "data": {
            "text/plain": [
              "array([[2.42000e+02, 2.54000e+01, 3.00000e+01, 1.15200e+01, 4.02000e+00],\n",
              "       [2.90000e+02, 2.63000e+01, 3.12000e+01, 1.24800e+01, 4.30560e+00],\n",
              "       [3.40000e+02, 2.65000e+01, 3.11000e+01, 1.23778e+01, 4.69610e+00],\n",
              "       [3.63000e+02, 2.90000e+01, 3.35000e+01, 1.27300e+01, 4.45550e+00],\n",
              "       [4.30000e+02, 2.90000e+01, 3.40000e+01, 1.24440e+01, 5.13400e+00],\n",
              "       [4.50000e+02, 2.97000e+01, 3.47000e+01, 1.36024e+01, 4.92740e+00],\n",
              "       [5.00000e+02, 2.97000e+01, 3.45000e+01, 1.41795e+01, 5.27850e+00],\n",
              "       [3.90000e+02, 3.00000e+01, 3.50000e+01, 1.26700e+01, 4.69000e+00],\n",
              "       [4.50000e+02, 3.00000e+01, 3.51000e+01, 1.40049e+01, 4.84380e+00],\n",
              "       [5.00000e+02, 3.07000e+01, 3.62000e+01, 1.42266e+01, 4.95940e+00],\n",
              "       [4.75000e+02, 3.10000e+01, 3.62000e+01, 1.42628e+01, 5.10420e+00],\n",
              "       [5.00000e+02, 3.10000e+01, 3.62000e+01, 1.43714e+01, 4.81460e+00],\n",
              "       [5.00000e+02, 3.15000e+01, 3.64000e+01, 1.37592e+01, 4.36800e+00],\n",
              "       [3.40000e+02, 3.20000e+01, 3.73000e+01, 1.39129e+01, 5.07280e+00],\n",
              "       [6.00000e+02, 3.20000e+01, 3.72000e+01, 1.49544e+01, 5.17080e+00],\n",
              "       [6.00000e+02, 3.20000e+01, 3.72000e+01, 1.54380e+01, 5.58000e+00],\n",
              "       [7.00000e+02, 3.30000e+01, 3.83000e+01, 1.48604e+01, 5.28540e+00],\n",
              "       [7.00000e+02, 3.30000e+01, 3.85000e+01, 1.49380e+01, 5.19750e+00],\n",
              "       [6.10000e+02, 3.35000e+01, 3.86000e+01, 1.56330e+01, 5.13380e+00],\n",
              "       [6.50000e+02, 3.35000e+01, 3.87000e+01, 1.44738e+01, 5.72760e+00],\n",
              "       [5.75000e+02, 3.40000e+01, 3.95000e+01, 1.51285e+01, 5.56950e+00],\n",
              "       [6.85000e+02, 3.40000e+01, 3.92000e+01, 1.59936e+01, 5.37040e+00],\n",
              "       [6.20000e+02, 3.45000e+01, 3.97000e+01, 1.55227e+01, 5.28010e+00],\n",
              "       [6.80000e+02, 3.50000e+01, 4.06000e+01, 1.54686e+01, 6.13060e+00],\n",
              "       [7.00000e+02, 3.50000e+01, 4.05000e+01, 1.62405e+01, 5.58900e+00],\n",
              "       [7.25000e+02, 3.50000e+01, 4.09000e+01, 1.63600e+01, 6.05320e+00],\n",
              "       [7.20000e+02, 3.50000e+01, 4.06000e+01, 1.63618e+01, 6.09000e+00],\n",
              "       [7.14000e+02, 3.60000e+01, 4.15000e+01, 1.65170e+01, 5.85150e+00],\n",
              "       [8.50000e+02, 3.60000e+01, 4.16000e+01, 1.68896e+01, 6.19840e+00],\n",
              "       [1.00000e+03, 3.70000e+01, 4.26000e+01, 1.89570e+01, 6.60300e+00],\n",
              "       [9.20000e+02, 3.85000e+01, 4.41000e+01, 1.80369e+01, 6.30630e+00],\n",
              "       [9.55000e+02, 3.85000e+01, 4.40000e+01, 1.80840e+01, 6.29200e+00],\n",
              "       [9.25000e+02, 3.95000e+01, 4.53000e+01, 1.87542e+01, 6.74970e+00],\n",
              "       [9.75000e+02, 4.10000e+01, 4.59000e+01, 1.86354e+01, 6.74730e+00],\n",
              "       [9.50000e+02, 4.10000e+01, 4.65000e+01, 1.76235e+01, 6.37050e+00],\n",
              "       [4.00000e+01, 1.41000e+01, 1.62000e+01, 4.14720e+00, 2.26800e+00],\n",
              "       [6.90000e+01, 1.82000e+01, 2.03000e+01, 5.29830e+00, 2.82170e+00],\n",
              "       [7.80000e+01, 1.88000e+01, 2.12000e+01, 5.57560e+00, 2.90440e+00],\n",
              "       [8.70000e+01, 1.98000e+01, 2.22000e+01, 5.61660e+00, 3.17460e+00],\n",
              "       [1.20000e+02, 2.00000e+01, 2.22000e+01, 6.21600e+00, 3.57420e+00],\n",
              "       [0.00000e+00, 2.05000e+01, 2.28000e+01, 6.47520e+00, 3.35160e+00],\n",
              "       [1.10000e+02, 2.08000e+01, 2.31000e+01, 6.16770e+00, 3.39570e+00],\n",
              "       [1.20000e+02, 2.10000e+01, 2.37000e+01, 6.11460e+00, 3.29430e+00],\n",
              "       [1.50000e+02, 2.20000e+01, 2.47000e+01, 5.80450e+00, 3.75440e+00],\n",
              "       [1.45000e+02, 2.20000e+01, 2.43000e+01, 6.63390e+00, 3.54780e+00],\n",
              "       [1.60000e+02, 2.25000e+01, 2.53000e+01, 7.03340e+00, 3.82030e+00],\n",
              "       [1.40000e+02, 2.25000e+01, 2.50000e+01, 6.55000e+00, 3.32500e+00],\n",
              "       [1.60000e+02, 2.25000e+01, 2.50000e+01, 6.40000e+00, 3.80000e+00],\n",
              "       [1.69000e+02, 2.40000e+01, 2.72000e+01, 7.53440e+00, 3.83520e+00],\n",
              "       [1.61000e+02, 2.34000e+01, 2.67000e+01, 6.91530e+00, 3.63120e+00],\n",
              "       [2.00000e+02, 2.35000e+01, 2.68000e+01, 7.39680e+00, 4.12720e+00],\n",
              "       [1.80000e+02, 2.52000e+01, 2.79000e+01, 7.08660e+00, 3.90600e+00],\n",
              "       [2.90000e+02, 2.60000e+01, 2.92000e+01, 8.87680e+00, 4.49680e+00],\n",
              "       [2.72000e+02, 2.70000e+01, 3.06000e+01, 8.56800e+00, 4.77360e+00],\n",
              "       [3.90000e+02, 3.17000e+01, 3.50000e+01, 9.48500e+00, 5.35500e+00],\n",
              "       [2.70000e+02, 2.60000e+01, 2.87000e+01, 8.38040e+00, 4.24760e+00],\n",
              "       [2.70000e+02, 2.65000e+01, 2.93000e+01, 8.14540e+00, 4.24850e+00],\n",
              "       [3.06000e+02, 2.80000e+01, 3.08000e+01, 8.77800e+00, 4.68160e+00],\n",
              "       [5.40000e+02, 3.10000e+01, 3.40000e+01, 1.07440e+01, 6.56200e+00],\n",
              "       [8.00000e+02, 3.64000e+01, 3.96000e+01, 1.17612e+01, 6.57360e+00],\n",
              "       [1.00000e+03, 4.00000e+01, 4.35000e+01, 1.23540e+01, 6.52500e+00],\n",
              "       [5.50000e+01, 1.47000e+01, 1.65000e+01, 6.84750e+00, 2.32650e+00],\n",
              "       [6.00000e+01, 1.55000e+01, 1.74000e+01, 6.57720e+00, 2.31420e+00],\n",
              "       [9.00000e+01, 1.77000e+01, 1.98000e+01, 7.40520e+00, 2.67300e+00],\n",
              "       [1.20000e+02, 1.90000e+01, 2.13000e+01, 8.39220e+00, 2.91810e+00],\n",
              "       [1.50000e+02, 2.00000e+01, 2.24000e+01, 8.89280e+00, 3.29280e+00],\n",
              "       [1.40000e+02, 2.07000e+01, 2.32000e+01, 8.53760e+00, 3.29440e+00],\n",
              "       [1.70000e+02, 2.07000e+01, 2.32000e+01, 9.39600e+00, 3.41040e+00],\n",
              "       [1.45000e+02, 2.15000e+01, 2.41000e+01, 9.73640e+00, 3.15710e+00],\n",
              "       [2.00000e+02, 2.30000e+01, 2.58000e+01, 1.03458e+01, 3.66360e+00],\n",
              "       [2.73000e+02, 2.50000e+01, 2.80000e+01, 1.10880e+01, 4.14400e+00],\n",
              "       [3.00000e+02, 2.60000e+01, 2.90000e+01, 1.13680e+01, 4.23400e+00],\n",
              "       [5.90000e+00, 8.40000e+00, 8.80000e+00, 2.11200e+00, 1.40800e+00],\n",
              "       [3.20000e+01, 1.37000e+01, 1.47000e+01, 3.52800e+00, 1.99920e+00],\n",
              "       [4.00000e+01, 1.50000e+01, 1.60000e+01, 3.82400e+00, 2.43200e+00],\n",
              "       [5.15000e+01, 1.62000e+01, 1.72000e+01, 4.59240e+00, 2.63160e+00],\n",
              "       [7.00000e+01, 1.74000e+01, 1.85000e+01, 4.58800e+00, 2.94150e+00],\n",
              "       [1.00000e+02, 1.80000e+01, 1.92000e+01, 5.22240e+00, 3.32160e+00],\n",
              "       [7.80000e+01, 1.87000e+01, 1.94000e+01, 5.19920e+00, 3.12340e+00],\n",
              "       [8.00000e+01, 1.90000e+01, 2.02000e+01, 5.63580e+00, 3.05020e+00],\n",
              "       [8.50000e+01, 1.96000e+01, 2.08000e+01, 5.13760e+00, 3.03680e+00],\n",
              "       [8.50000e+01, 2.00000e+01, 2.10000e+01, 5.08200e+00, 2.77200e+00],\n",
              "       [1.10000e+02, 2.10000e+01, 2.25000e+01, 5.69250e+00, 3.55500e+00],\n",
              "       [1.15000e+02, 2.10000e+01, 2.25000e+01, 5.91750e+00, 3.30750e+00],\n",
              "       [1.25000e+02, 2.10000e+01, 2.25000e+01, 5.69250e+00, 3.66750e+00],\n",
              "       [1.30000e+02, 2.13000e+01, 2.28000e+01, 6.38400e+00, 3.53400e+00],\n",
              "       [1.20000e+02, 2.20000e+01, 2.35000e+01, 6.11000e+00, 3.40750e+00],\n",
              "       [1.20000e+02, 2.20000e+01, 2.35000e+01, 5.64000e+00, 3.52500e+00],\n",
              "       [1.30000e+02, 2.20000e+01, 2.35000e+01, 6.11000e+00, 3.52500e+00],\n",
              "       [1.35000e+02, 2.20000e+01, 2.35000e+01, 5.87500e+00, 3.52500e+00],\n",
              "       [1.10000e+02, 2.20000e+01, 2.35000e+01, 5.52250e+00, 3.99500e+00],\n",
              "       [1.30000e+02, 2.25000e+01, 2.40000e+01, 5.85600e+00, 3.62400e+00],\n",
              "       [1.50000e+02, 2.25000e+01, 2.40000e+01, 6.79200e+00, 3.62400e+00],\n",
              "       [1.45000e+02, 2.27000e+01, 2.42000e+01, 5.95320e+00, 3.63000e+00],\n",
              "       [1.50000e+02, 2.30000e+01, 2.45000e+01, 5.21850e+00, 3.62600e+00],\n",
              "       [1.70000e+02, 2.35000e+01, 2.50000e+01, 6.27500e+00, 3.72500e+00],\n",
              "       [2.25000e+02, 2.40000e+01, 2.55000e+01, 7.29300e+00, 3.72300e+00],\n",
              "       [1.45000e+02, 2.40000e+01, 2.55000e+01, 6.37500e+00, 3.82500e+00],\n",
              "       [1.88000e+02, 2.46000e+01, 2.62000e+01, 6.73340e+00, 4.16580e+00],\n",
              "       [1.80000e+02, 2.50000e+01, 2.65000e+01, 6.43950e+00, 3.68350e+00],\n",
              "       [1.97000e+02, 2.56000e+01, 2.70000e+01, 6.56100e+00, 4.23900e+00],\n",
              "       [2.18000e+02, 2.65000e+01, 2.80000e+01, 7.16800e+00, 4.14400e+00],\n",
              "       [3.00000e+02, 2.73000e+01, 2.87000e+01, 8.32300e+00, 5.13730e+00],\n",
              "       [2.60000e+02, 2.75000e+01, 2.89000e+01, 7.16720e+00, 4.33500e+00],\n",
              "       [2.65000e+02, 2.75000e+01, 2.89000e+01, 7.05160e+00, 4.33500e+00],\n",
              "       [2.50000e+02, 2.75000e+01, 2.89000e+01, 7.28280e+00, 4.56620e+00],\n",
              "       [2.50000e+02, 2.80000e+01, 2.94000e+01, 7.82040e+00, 4.20420e+00],\n",
              "       [3.00000e+02, 2.87000e+01, 3.01000e+01, 7.58520e+00, 4.63540e+00],\n",
              "       [3.20000e+02, 3.00000e+01, 3.16000e+01, 7.61560e+00, 4.77160e+00],\n",
              "       [5.14000e+02, 3.28000e+01, 3.40000e+01, 1.00300e+01, 6.01800e+00],\n",
              "       [5.56000e+02, 3.45000e+01, 3.65000e+01, 1.02565e+01, 6.38750e+00],\n",
              "       [8.40000e+02, 3.50000e+01, 3.73000e+01, 1.14884e+01, 7.79570e+00],\n",
              "       [6.85000e+02, 3.65000e+01, 3.90000e+01, 1.08810e+01, 6.86400e+00],\n",
              "       [7.00000e+02, 3.60000e+01, 3.83000e+01, 1.06091e+01, 6.74080e+00],\n",
              "       [7.00000e+02, 3.70000e+01, 3.94000e+01, 1.08350e+01, 6.26460e+00],\n",
              "       [6.90000e+02, 3.70000e+01, 3.93000e+01, 1.05717e+01, 6.36660e+00],\n",
              "       [9.00000e+02, 3.90000e+01, 4.14000e+01, 1.11366e+01, 7.49340e+00],\n",
              "       [6.50000e+02, 3.90000e+01, 4.14000e+01, 1.11366e+01, 6.00300e+00],\n",
              "       [8.20000e+02, 3.90000e+01, 4.13000e+01, 1.24313e+01, 7.35140e+00],\n",
              "       [8.50000e+02, 4.00000e+01, 4.23000e+01, 1.19286e+01, 7.10640e+00],\n",
              "       [9.00000e+02, 4.00000e+01, 4.25000e+01, 1.17300e+01, 7.22500e+00],\n",
              "       [1.01500e+03, 4.00000e+01, 4.24000e+01, 1.23808e+01, 7.46240e+00],\n",
              "       [8.20000e+02, 4.00000e+01, 4.25000e+01, 1.11350e+01, 6.63000e+00],\n",
              "       [1.10000e+03, 4.20000e+01, 4.46000e+01, 1.28002e+01, 6.86840e+00],\n",
              "       [1.00000e+03, 4.30000e+01, 4.52000e+01, 1.19328e+01, 7.27720e+00],\n",
              "       [1.10000e+03, 4.30000e+01, 4.55000e+01, 1.25125e+01, 7.41650e+00],\n",
              "       [1.00000e+03, 4.35000e+01, 4.60000e+01, 1.26040e+01, 8.14200e+00],\n",
              "       [1.00000e+03, 4.40000e+01, 4.66000e+01, 1.24888e+01, 7.59580e+00],\n",
              "       [2.00000e+02, 3.23000e+01, 3.48000e+01, 5.56800e+00, 3.37560e+00],\n",
              "       [3.00000e+02, 3.40000e+01, 3.78000e+01, 5.70780e+00, 4.15800e+00],\n",
              "       [3.00000e+02, 3.50000e+01, 3.88000e+01, 5.93640e+00, 4.38440e+00],\n",
              "       [3.00000e+02, 3.73000e+01, 3.98000e+01, 6.28840e+00, 4.01980e+00],\n",
              "       [4.30000e+02, 3.80000e+01, 4.05000e+01, 7.29000e+00, 4.57650e+00],\n",
              "       [3.45000e+02, 3.85000e+01, 4.10000e+01, 6.39600e+00, 3.97700e+00],\n",
              "       [4.56000e+02, 4.25000e+01, 4.55000e+01, 7.28000e+00, 4.32250e+00],\n",
              "       [5.10000e+02, 4.25000e+01, 4.55000e+01, 6.82500e+00, 4.45900e+00],\n",
              "       [5.40000e+02, 4.30000e+01, 4.58000e+01, 7.78600e+00, 5.12960e+00],\n",
              "       [5.00000e+02, 4.50000e+01, 4.80000e+01, 6.96000e+00, 4.89600e+00],\n",
              "       [5.67000e+02, 4.60000e+01, 4.87000e+01, 7.79200e+00, 4.87000e+00],\n",
              "       [7.70000e+02, 4.80000e+01, 5.12000e+01, 7.68000e+00, 5.37600e+00],\n",
              "       [9.50000e+02, 5.17000e+01, 5.51000e+01, 8.92620e+00, 6.17120e+00],\n",
              "       [1.25000e+03, 5.60000e+01, 5.97000e+01, 1.06863e+01, 6.98490e+00],\n",
              "       [1.60000e+03, 6.00000e+01, 6.40000e+01, 9.60000e+00, 6.14400e+00],\n",
              "       [1.55000e+03, 6.00000e+01, 6.40000e+01, 9.60000e+00, 6.14400e+00],\n",
              "       [1.65000e+03, 6.34000e+01, 6.80000e+01, 1.08120e+01, 7.48000e+00],\n",
              "       [6.70000e+00, 9.80000e+00, 1.08000e+01, 1.73880e+00, 1.04760e+00],\n",
              "       [7.50000e+00, 1.05000e+01, 1.16000e+01, 1.97200e+00, 1.16000e+00],\n",
              "       [7.00000e+00, 1.06000e+01, 1.16000e+01, 1.72840e+00, 1.14840e+00],\n",
              "       [9.70000e+00, 1.10000e+01, 1.20000e+01, 2.19600e+00, 1.38000e+00],\n",
              "       [9.80000e+00, 1.12000e+01, 1.24000e+01, 2.08320e+00, 1.27720e+00],\n",
              "       [8.70000e+00, 1.13000e+01, 1.26000e+01, 1.97820e+00, 1.28520e+00],\n",
              "       [1.00000e+01, 1.18000e+01, 1.31000e+01, 2.21390e+00, 1.28380e+00],\n",
              "       [9.90000e+00, 1.18000e+01, 1.31000e+01, 2.21390e+00, 1.16590e+00],\n",
              "       [9.80000e+00, 1.20000e+01, 1.32000e+01, 2.20440e+00, 1.14840e+00],\n",
              "       [1.22000e+01, 1.22000e+01, 1.34000e+01, 2.09040e+00, 1.39360e+00],\n",
              "       [1.34000e+01, 1.24000e+01, 1.35000e+01, 2.43000e+00, 1.26900e+00],\n",
              "       [1.22000e+01, 1.30000e+01, 1.38000e+01, 2.27700e+00, 1.25580e+00],\n",
              "       [1.97000e+01, 1.43000e+01, 1.52000e+01, 2.87280e+00, 2.06720e+00],\n",
              "       [1.99000e+01, 1.50000e+01, 1.62000e+01, 2.93220e+00, 1.87920e+00]])"
            ]
          },
          "metadata": {},
          "execution_count": 11
        }
      ]
    },
    {
      "cell_type": "code",
      "source": [
        "print(fish_input[:5])"
      ],
      "metadata": {
        "colab": {
          "base_uri": "https://localhost:8080/"
        },
        "id": "E0bKxgHsHkCL",
        "outputId": "68a2da4a-e8de-4423-91a2-5503ef92402c"
      },
      "execution_count": 12,
      "outputs": [
        {
          "output_type": "stream",
          "name": "stdout",
          "text": [
            "   Weight  Length  Diagonal   Height   Width\n",
            "0   242.0    25.4      30.0  11.5200  4.0200\n",
            "1   290.0    26.3      31.2  12.4800  4.3056\n",
            "2   340.0    26.5      31.1  12.3778  4.6961\n",
            "3   363.0    29.0      33.5  12.7300  4.4555\n",
            "4   430.0    29.0      34.0  12.4440  5.1340\n"
          ]
        }
      ]
    },
    {
      "cell_type": "code",
      "source": [
        "print(fish['Species'])\n",
        "fish_target = fish[\"Species\"].to_numpy()\n",
        "fish_target"
      ],
      "metadata": {
        "id": "XUrL73PgHoJm",
        "colab": {
          "base_uri": "https://localhost:8080/"
        },
        "outputId": "a91632aa-1bf0-4c32-a37d-482e0f5b638f"
      },
      "execution_count": 14,
      "outputs": [
        {
          "output_type": "stream",
          "name": "stdout",
          "text": [
            "0      Bream\n",
            "1      Bream\n",
            "2      Bream\n",
            "3      Bream\n",
            "4      Bream\n",
            "       ...  \n",
            "154    Smelt\n",
            "155    Smelt\n",
            "156    Smelt\n",
            "157    Smelt\n",
            "158    Smelt\n",
            "Name: Species, Length: 159, dtype: object\n"
          ]
        },
        {
          "output_type": "execute_result",
          "data": {
            "text/plain": [
              "array(['Bream', 'Bream', 'Bream', 'Bream', 'Bream', 'Bream', 'Bream',\n",
              "       'Bream', 'Bream', 'Bream', 'Bream', 'Bream', 'Bream', 'Bream',\n",
              "       'Bream', 'Bream', 'Bream', 'Bream', 'Bream', 'Bream', 'Bream',\n",
              "       'Bream', 'Bream', 'Bream', 'Bream', 'Bream', 'Bream', 'Bream',\n",
              "       'Bream', 'Bream', 'Bream', 'Bream', 'Bream', 'Bream', 'Bream',\n",
              "       'Roach', 'Roach', 'Roach', 'Roach', 'Roach', 'Roach', 'Roach',\n",
              "       'Roach', 'Roach', 'Roach', 'Roach', 'Roach', 'Roach', 'Roach',\n",
              "       'Roach', 'Roach', 'Roach', 'Roach', 'Roach', 'Roach', 'Whitefish',\n",
              "       'Whitefish', 'Whitefish', 'Whitefish', 'Whitefish', 'Whitefish',\n",
              "       'Parkki', 'Parkki', 'Parkki', 'Parkki', 'Parkki', 'Parkki',\n",
              "       'Parkki', 'Parkki', 'Parkki', 'Parkki', 'Parkki', 'Perch', 'Perch',\n",
              "       'Perch', 'Perch', 'Perch', 'Perch', 'Perch', 'Perch', 'Perch',\n",
              "       'Perch', 'Perch', 'Perch', 'Perch', 'Perch', 'Perch', 'Perch',\n",
              "       'Perch', 'Perch', 'Perch', 'Perch', 'Perch', 'Perch', 'Perch',\n",
              "       'Perch', 'Perch', 'Perch', 'Perch', 'Perch', 'Perch', 'Perch',\n",
              "       'Perch', 'Perch', 'Perch', 'Perch', 'Perch', 'Perch', 'Perch',\n",
              "       'Perch', 'Perch', 'Perch', 'Perch', 'Perch', 'Perch', 'Perch',\n",
              "       'Perch', 'Perch', 'Perch', 'Perch', 'Perch', 'Perch', 'Perch',\n",
              "       'Perch', 'Perch', 'Perch', 'Perch', 'Perch', 'Pike', 'Pike',\n",
              "       'Pike', 'Pike', 'Pike', 'Pike', 'Pike', 'Pike', 'Pike', 'Pike',\n",
              "       'Pike', 'Pike', 'Pike', 'Pike', 'Pike', 'Pike', 'Pike', 'Smelt',\n",
              "       'Smelt', 'Smelt', 'Smelt', 'Smelt', 'Smelt', 'Smelt', 'Smelt',\n",
              "       'Smelt', 'Smelt', 'Smelt', 'Smelt', 'Smelt', 'Smelt'], dtype=object)"
            ]
          },
          "metadata": {},
          "execution_count": 14
        }
      ]
    },
    {
      "cell_type": "code",
      "source": [
        "#데이터 셋 나누기\n",
        "from sklearn.model_selection import train_test_split\n",
        "\n",
        "train_input, test_input, train_target, test_target = train_test_split(fish_input, fish_target, random_state = 42)"
      ],
      "metadata": {
        "id": "7hoFlG9g7t5W"
      },
      "execution_count": 15,
      "outputs": []
    },
    {
      "cell_type": "markdown",
      "source": [
        "###데이터 전처리"
      ],
      "metadata": {
        "id": "Lq_6quLf8mvC"
      }
    },
    {
      "cell_type": "code",
      "source": [
        "from sklearn.preprocessing import StandardScaler\n",
        "ss = StandardScaler()\n",
        "ss.fit(train_input)\n",
        "train_scaled = ss.transform(train_input)\n",
        "test_scaled = ss.transform(test_input)"
      ],
      "metadata": {
        "id": "DPDAZczk8mc5"
      },
      "execution_count": 16,
      "outputs": []
    },
    {
      "cell_type": "markdown",
      "source": [
        "###KNN으로 확률 예측"
      ],
      "metadata": {
        "id": "b-VlGjdQ8GiS"
      }
    },
    {
      "cell_type": "code",
      "source": [
        "from sklearn.neighbors import KNeighborsClassifier\n",
        "\n",
        "kn = KNeighborsClassifier(n_neighbors=3)\n",
        "kn.fit(train_scaled,train_target)\n",
        "print(kn.score(train_scaled, train_target))\n",
        "print(kn.score(test_scaled, test_target))"
      ],
      "metadata": {
        "colab": {
          "base_uri": "https://localhost:8080/"
        },
        "id": "MKLm3X0U8F5v",
        "outputId": "afb21ec4-95c0-4c72-c17f-9b72ed39d9dd"
      },
      "execution_count": 19,
      "outputs": [
        {
          "output_type": "stream",
          "name": "stdout",
          "text": [
            "0.8907563025210085\n",
            "0.85\n"
          ]
        }
      ]
    },
    {
      "cell_type": "code",
      "source": [
        "print(kn.classes_)"
      ],
      "metadata": {
        "colab": {
          "base_uri": "https://localhost:8080/"
        },
        "id": "KOYfECWc9qVc",
        "outputId": "ab471ee9-d3e7-4856-c07d-4abf888b4894"
      },
      "execution_count": 20,
      "outputs": [
        {
          "output_type": "stream",
          "name": "stdout",
          "text": [
            "['Bream' 'Parkki' 'Perch' 'Pike' 'Roach' 'Smelt' 'Whitefish']\n"
          ]
        }
      ]
    },
    {
      "cell_type": "code",
      "source": [
        "print(kn.predict(test_scaled[:5]))"
      ],
      "metadata": {
        "colab": {
          "base_uri": "https://localhost:8080/"
        },
        "id": "d5z5dkvk_QKq",
        "outputId": "e5b63d47-79ec-4362-ecc8-16c859e26666"
      },
      "execution_count": 26,
      "outputs": [
        {
          "output_type": "stream",
          "name": "stdout",
          "text": [
            "['Perch' 'Smelt' 'Pike' 'Perch' 'Perch']\n"
          ]
        }
      ]
    },
    {
      "cell_type": "code",
      "source": [
        "import numpy as np\n",
        "\n",
        "proba = kn.predict_proba(test_scaled[:5])\n",
        "print(np.round(proba, decimals=4))"
      ],
      "metadata": {
        "colab": {
          "base_uri": "https://localhost:8080/"
        },
        "id": "19IJxEp3_gnS",
        "outputId": "7e0f57bf-8a42-4a42-c051-4551fb53514b"
      },
      "execution_count": 27,
      "outputs": [
        {
          "output_type": "stream",
          "name": "stdout",
          "text": [
            "[[0.     0.     1.     0.     0.     0.     0.    ]\n",
            " [0.     0.     0.     0.     0.     1.     0.    ]\n",
            " [0.     0.     0.     1.     0.     0.     0.    ]\n",
            " [0.     0.     0.6667 0.     0.3333 0.     0.    ]\n",
            " [0.     0.     0.6667 0.     0.3333 0.     0.    ]]\n"
          ]
        }
      ]
    },
    {
      "cell_type": "code",
      "source": [
        "import pandas as pd\n",
        "df = pd.DataFrame(proba,columns=kn.classes_)\n",
        "print(df)\n"
      ],
      "metadata": {
        "colab": {
          "base_uri": "https://localhost:8080/"
        },
        "id": "gXyAg7LvAAOH",
        "outputId": "5114153a-b1ba-47f3-8545-958dc363c748"
      },
      "execution_count": 28,
      "outputs": [
        {
          "output_type": "stream",
          "name": "stdout",
          "text": [
            "   Bream  Parkki     Perch  Pike     Roach  Smelt  Whitefish\n",
            "0    0.0     0.0  1.000000   0.0  0.000000    0.0        0.0\n",
            "1    0.0     0.0  0.000000   0.0  0.000000    1.0        0.0\n",
            "2    0.0     0.0  0.000000   1.0  0.000000    0.0        0.0\n",
            "3    0.0     0.0  0.666667   0.0  0.333333    0.0        0.0\n",
            "4    0.0     0.0  0.666667   0.0  0.333333    0.0        0.0\n"
          ]
        }
      ]
    },
    {
      "cell_type": "code",
      "source": [
        "max_prob_indices = df.idxmax(axis=1)\n",
        "print(max_prob_indices)"
      ],
      "metadata": {
        "colab": {
          "base_uri": "https://localhost:8080/"
        },
        "id": "5pnfmOX9AgNo",
        "outputId": "f05c2076-f760-49ef-c28b-20964682d076"
      },
      "execution_count": 29,
      "outputs": [
        {
          "output_type": "stream",
          "name": "stdout",
          "text": [
            "0    Perch\n",
            "1    Smelt\n",
            "2     Pike\n",
            "3    Perch\n",
            "4    Perch\n",
            "dtype: object\n"
          ]
        }
      ]
    },
    {
      "cell_type": "code",
      "source": [
        "max_prob_indices = []\n",
        "for _, row in df.iterrows():\n",
        "  print(row.get)\n",
        "print(max_prob_indices)\n",
        "\n"
      ],
      "metadata": {
        "colab": {
          "base_uri": "https://localhost:8080/"
        },
        "id": "JBuHXslyA_wz",
        "outputId": "28576f29-b97f-4072-db25-412929981482"
      },
      "execution_count": 33,
      "outputs": [
        {
          "output_type": "stream",
          "name": "stdout",
          "text": [
            "<bound method NDFrame.get of Bream        0.0\n",
            "Parkki       0.0\n",
            "Perch        1.0\n",
            "Pike         0.0\n",
            "Roach        0.0\n",
            "Smelt        0.0\n",
            "Whitefish    0.0\n",
            "Name: 0, dtype: float64>\n",
            "<bound method NDFrame.get of Bream        0.0\n",
            "Parkki       0.0\n",
            "Perch        0.0\n",
            "Pike         0.0\n",
            "Roach        0.0\n",
            "Smelt        1.0\n",
            "Whitefish    0.0\n",
            "Name: 1, dtype: float64>\n",
            "<bound method NDFrame.get of Bream        0.0\n",
            "Parkki       0.0\n",
            "Perch        0.0\n",
            "Pike         1.0\n",
            "Roach        0.0\n",
            "Smelt        0.0\n",
            "Whitefish    0.0\n",
            "Name: 2, dtype: float64>\n",
            "<bound method NDFrame.get of Bream        0.000000\n",
            "Parkki       0.000000\n",
            "Perch        0.666667\n",
            "Pike         0.000000\n",
            "Roach        0.333333\n",
            "Smelt        0.000000\n",
            "Whitefish    0.000000\n",
            "Name: 3, dtype: float64>\n",
            "<bound method NDFrame.get of Bream        0.000000\n",
            "Parkki       0.000000\n",
            "Perch        0.666667\n",
            "Pike         0.000000\n",
            "Roach        0.333333\n",
            "Smelt        0.000000\n",
            "Whitefish    0.000000\n",
            "Name: 4, dtype: float64>\n",
            "[]\n"
          ]
        }
      ]
    },
    {
      "cell_type": "markdown",
      "source": [
        "#Logistic Regression\n",
        "\n",
        "위의 방법도 좋지만 확률을 구할 때에는 로지스틱회귀를 많이 사용함\n",
        "\n",
        "이름만 회귀이고 분류 모델이다!"
      ],
      "metadata": {
        "id": "S1H0UQozBwi3"
      }
    },
    {
      "cell_type": "code",
      "source": [
        "#로지스틱 회귀 모델 그래프\n",
        "import numpy as np\n",
        "import matplotlib.pyplot as plt\n",
        "\n",
        "plt.plot(np.arange(-5,5,0.1), 1/(1+np.exp(-np.arange(-5,5,0.1))))\n"
      ],
      "metadata": {
        "colab": {
          "base_uri": "https://localhost:8080/",
          "height": 448
        },
        "id": "qxTeFv4KCA3W",
        "outputId": "2bdab750-5d4d-4e5b-ae5b-ba6b186e7f90"
      },
      "execution_count": 36,
      "outputs": [
        {
          "output_type": "execute_result",
          "data": {
            "text/plain": [
              "[<matplotlib.lines.Line2D at 0x7f73faf85270>]"
            ]
          },
          "metadata": {},
          "execution_count": 36
        },
        {
          "output_type": "display_data",
          "data": {
            "text/plain": [
              "<Figure size 640x480 with 1 Axes>"
            ],
            "image/png": "[encoded data removed]"
          },
          "metadata": {}
        }
      ]
    },
    {
      "cell_type": "code",
      "source": [
        "bream_smelt_indexes = (train_target == \"Bream\") | (train_target==\"Smelt\")\n",
        "print(bream_smelt_indexes)\n",
        "train_bream_smelt = train_scaled[bream_smelt_indexes]\n",
        "target_bream_smelt = train_target[bream_smelt_indexes]"
      ],
      "metadata": {
        "colab": {
          "base_uri": "https://localhost:8080/"
        },
        "id": "UScWMmW3EUnd",
        "outputId": "e4913a93-93f7-4286-93db-aef4751ae030"
      },
      "execution_count": 43,
      "outputs": [
        {
          "output_type": "stream",
          "name": "stdout",
          "text": [
            "[ True False  True False False False False  True False False False  True\n",
            " False False False  True  True False False  True False  True False False\n",
            " False  True False False  True False False False False  True False False\n",
            "  True  True False False False False False  True False False False False\n",
            " False  True False  True False False  True False False False  True False\n",
            " False False False False False  True False  True False False False False\n",
            " False False False False False  True False  True False False  True  True\n",
            " False False False  True False False False False False  True False False\n",
            " False  True False  True False False  True  True False False False False\n",
            " False False False False  True  True False False  True False False]\n"
          ]
        }
      ]
    },
    {
      "cell_type": "code",
      "source": [
        "from sklearn.linear_model import LogisticRegression\n",
        "lr = LogisticRegression()\n",
        "lr.fit(train_bream_smelt, target_bream_smelt)\n"
      ],
      "metadata": {
        "colab": {
          "base_uri": "https://localhost:8080/",
          "height": 74
        },
        "id": "N2igKIC3E-iu",
        "outputId": "77274804-cdaa-464c-90a3-8d74f9bfc569"
      },
      "execution_count": 44,
      "outputs": [
        {
          "output_type": "execute_result",
          "data": {
            "text/plain": [
              "LogisticRegression()"
            ],
            "text/html": [
              "<style>#sk-container-id-1 {color: black;background-color: white;}#sk-container-id-1 pre{padding: 0;}#sk-container-id-1 div.sk-toggleable {background-color: white;}#sk-container-id-1 label.sk-toggleable__label {cursor: pointer;display: block;width: 100%;margin-bottom: 0;padding: 0.3em;box-sizing: border-box;text-align: center;}#sk-container-id-1 label.sk-toggleable__label-arrow:before {content: \"▸\";float: left;margin-right: 0.25em;color: #696969;}#sk-container-id-1 label.sk-toggleable__label-arrow:hover:before {color: black;}#sk-container-id-1 div.sk-estimator:hover label.sk-toggleable__label-arrow:before {color: black;}#sk-container-id-1 div.sk-toggleable__content {max-height: 0;max-width: 0;overflow: hidden;text-align: left;background-color: #f0f8ff;}#sk-container-id-1 div.sk-toggleable__content pre {margin: 0.2em;color: black;border-radius: 0.25em;background-color: #f0f8ff;}#sk-container-id-1 input.sk-toggleable__control:checked~div.sk-toggleable__content {max-height: 200px;max-width: 100%;overflow: auto;}#sk-container-id-1 input.sk-toggleable__control:checked~label.sk-toggleable__label-arrow:before {content: \"▾\";}#sk-container-id-1 div.sk-estimator input.sk-toggleable__control:checked~label.sk-toggleable__label {background-color: #d4ebff;}#sk-container-id-1 div.sk-label input.sk-toggleable__control:checked~label.sk-toggleable__label {background-color: #d4ebff;}#sk-container-id-1 input.sk-hidden--visually {border: 0;clip: rect(1px 1px 1px 1px);clip: rect(1px, 1px, 1px, 1px);height: 1px;margin: -1px;overflow: hidden;padding: 0;position: absolute;width: 1px;}#sk-container-id-1 div.sk-estimator {font-family: monospace;background-color: #f0f8ff;border: 1px dotted black;border-radius: 0.25em;box-sizing: border-box;margin-bottom: 0.5em;}#sk-container-id-1 div.sk-estimator:hover {background-color: #d4ebff;}#sk-container-id-1 div.sk-parallel-item::after {content: \"\";width: 100%;border-bottom: 1px solid gray;flex-grow: 1;}#sk-container-id-1 div.sk-label:hover label.sk-toggleable__label {background-color: #d4ebff;}#sk-container-id-1 div.sk-serial::before {content: \"\";position: absolute;border-left: 1px solid gray;box-sizing: border-box;top: 0;bottom: 0;left: 50%;z-index: 0;}#sk-container-id-1 div.sk-serial {display: flex;flex-direction: column;align-items: center;background-color: white;padding-right: 0.2em;padding-left: 0.2em;position: relative;}#sk-container-id-1 div.sk-item {position: relative;z-index: 1;}#sk-container-id-1 div.sk-parallel {display: flex;align-items: stretch;justify-content: center;background-color: white;position: relative;}#sk-container-id-1 div.sk-item::before, #sk-container-id-1 div.sk-parallel-item::before {content: \"\";position: absolute;border-left: 1px solid gray;box-sizing: border-box;top: 0;bottom: 0;left: 50%;z-index: -1;}#sk-container-id-1 div.sk-parallel-item {display: flex;flex-direction: column;z-index: 1;position: relative;background-color: white;}#sk-container-id-1 div.sk-parallel-item:first-child::after {align-self: flex-end;width: 50%;}#sk-container-id-1 div.sk-parallel-item:last-child::after {align-self: flex-start;width: 50%;}#sk-container-id-1 div.sk-parallel-item:only-child::after {width: 0;}#sk-container-id-1 div.sk-dashed-wrapped {border: 1px dashed gray;margin: 0 0.4em 0.5em 0.4em;box-sizing: border-box;padding-bottom: 0.4em;background-color: white;}#sk-container-id-1 div.sk-label label {font-family: monospace;font-weight: bold;display: inline-block;line-height: 1.2em;}#sk-container-id-1 div.sk-label-container {text-align: center;}#sk-container-id-1 div.sk-container {/* jupyter's `normalize.less` sets `[hidden] { display: none; }` but bootstrap.min.css set `[hidden] { display: none !important; }` so we also need the `!important` here to be able to override the default hidden behavior on the sphinx rendered scikit-learn.org. See: https://github.com/scikit-learn/scikit-learn/issues/21755 */display: inline-block !important;position: relative;}#sk-container-id-1 div.sk-text-repr-fallback {display: none;}</style><div id=\"sk-container-id-1\" class=\"sk-top-container\"><div class=\"sk-text-repr-fallback\"><pre>LogisticRegression()</pre><b>In a Jupyter environment, please rerun this cell to show the HTML representation or trust the notebook. <br />On GitHub, the HTML representation is unable to render, please try loading this page with nbviewer.org.</b></div><div class=\"sk-container\" hidden><div class=\"sk-item\"><div class=\"sk-estimator sk-toggleable\"><input class=\"sk-toggleable__control sk-hidden--visually\" id=\"sk-estimator-id-1\" type=\"checkbox\" checked><label for=\"sk-estimator-id-1\" class=\"sk-toggleable__label sk-toggleable__label-arrow\">LogisticRegression</label><div class=\"sk-toggleable__content\"><pre>LogisticRegression()</pre></div></div></div></div></div>"
            ]
          },
          "metadata": {},
          "execution_count": 44
        }
      ]
    },
    {
      "cell_type": "code",
      "source": [
        "lr.predict(train_bream_smelt)"
      ],
      "metadata": {
        "colab": {
          "base_uri": "https://localhost:8080/"
        },
        "id": "a14iohYcFcmK",
        "outputId": "c87ac4e1-e3eb-452e-b453-499b6c425f8b"
      },
      "execution_count": 47,
      "outputs": [
        {
          "output_type": "execute_result",
          "data": {
            "text/plain": [
              "array(['Bream', 'Smelt', 'Bream', 'Bream', 'Bream', 'Smelt', 'Bream',\n",
              "       'Bream', 'Bream', 'Bream', 'Bream', 'Bream', 'Bream', 'Smelt',\n",
              "       'Bream', 'Smelt', 'Smelt', 'Bream', 'Bream', 'Bream', 'Bream',\n",
              "       'Bream', 'Bream', 'Bream', 'Bream', 'Smelt', 'Bream', 'Smelt',\n",
              "       'Smelt', 'Bream', 'Smelt', 'Bream', 'Bream'], dtype=object)"
            ]
          },
          "metadata": {},
          "execution_count": 47
        }
      ]
    },
    {
      "cell_type": "code",
      "source": [
        "lr.predict_proba(train_bream_smelt[:5])"
      ],
      "metadata": {
        "colab": {
          "base_uri": "https://localhost:8080/"
        },
        "id": "6OhJgstnH2On",
        "outputId": "898c82ff-04a0-4e28-bd80-4870c0e5a944"
      },
      "execution_count": 50,
      "outputs": [
        {
          "output_type": "execute_result",
          "data": {
            "text/plain": [
              "array([[0.99759855, 0.00240145],\n",
              "       [0.02735183, 0.97264817],\n",
              "       [0.99486072, 0.00513928],\n",
              "       [0.98584202, 0.01415798],\n",
              "       [0.99767269, 0.00232731]])"
            ]
          },
          "metadata": {},
          "execution_count": 50
        }
      ]
    },
    {
      "cell_type": "code",
      "source": [
        "#결정 함수 z의 값\n",
        "lr.decision_function(train_bream_smelt[:5])"
      ],
      "metadata": {
        "colab": {
          "base_uri": "https://localhost:8080/"
        },
        "id": "xVNeiYiAIVnX",
        "outputId": "0e379059-656e-4e84-a92e-21563927cd27"
      },
      "execution_count": 51,
      "outputs": [
        {
          "output_type": "execute_result",
          "data": {
            "text/plain": [
              "array([-6.02927744,  3.57123907, -5.26568906, -4.24321775, -6.0607117 ])"
            ]
          },
          "metadata": {},
          "execution_count": 51
        }
      ]
    },
    {
      "cell_type": "markdown",
      "source": [
        "### Logistic으로 다중 분류"
      ],
      "metadata": {
        "id": "p-0L4eHZIlr9"
      }
    },
    {
      "cell_type": "code",
      "source": [
        "#C가 1/lambda  C가 작으면 작을수록 규제가 커짐\n",
        "#SVM 때문인가?? SVM의 C와 같은 듯\n",
        "\n",
        "lr = LogisticRegression(C=20, max_iter=1000)\n",
        "lr.fit(train_scaled, train_target)\n",
        "print(lr.score(train_scaled, train_target))\n",
        "print(lr.score(test_scaled, test_target))"
      ],
      "metadata": {
        "colab": {
          "base_uri": "https://localhost:8080/"
        },
        "id": "LLTmPe9PIlIT",
        "outputId": "9d395a40-01f2-49b6-9562-472583561af8"
      },
      "execution_count": 52,
      "outputs": [
        {
          "output_type": "stream",
          "name": "stdout",
          "text": [
            "0.9327731092436975\n",
            "0.925\n"
          ]
        }
      ]
    },
    {
      "cell_type": "code",
      "source": [
        "proba = lr.predict_proba(test_scaled[:5])\n",
        "print(np.round(proba, decimals=3))"
      ],
      "metadata": {
        "colab": {
          "base_uri": "https://localhost:8080/"
        },
        "id": "4rr92frDJIuv",
        "outputId": "3c18e212-a971-4fb6-ed77-fdc4e3ebc5ac"
      },
      "execution_count": 69,
      "outputs": [
        {
          "output_type": "stream",
          "name": "stdout",
          "text": [
            "[[0.    0.014 0.841 0.    0.136 0.007 0.003]\n",
            " [0.    0.003 0.044 0.    0.007 0.946 0.   ]\n",
            " [0.    0.    0.034 0.935 0.015 0.016 0.   ]\n",
            " [0.011 0.034 0.306 0.007 0.567 0.    0.076]\n",
            " [0.    0.    0.904 0.002 0.089 0.002 0.001]]\n"
          ]
        }
      ]
    },
    {
      "cell_type": "code",
      "source": [
        "classes = lr.classes_\n",
        "print(classes)"
      ],
      "metadata": {
        "colab": {
          "base_uri": "https://localhost:8080/"
        },
        "id": "ypJ78YcRLfI7",
        "outputId": "ad8e620c-acb9-4db5-b6df-e5442a17dbb8"
      },
      "execution_count": 65,
      "outputs": [
        {
          "output_type": "stream",
          "name": "stdout",
          "text": [
            "['Bream' 'Parkki' 'Perch' 'Pike' 'Roach' 'Smelt' 'Whitefish']\n"
          ]
        }
      ]
    },
    {
      "cell_type": "code",
      "source": [
        "df = pd.DataFrame(proba, columns = classes)\n",
        "print(df.idxmax(axis=1))\n",
        "print(test_target[:5])"
      ],
      "metadata": {
        "colab": {
          "base_uri": "https://localhost:8080/"
        },
        "id": "1Tl1CIm5LrVz",
        "outputId": "2bf926c2-1ebf-4e27-a408-2afcd579b05c"
      },
      "execution_count": 66,
      "outputs": [
        {
          "output_type": "stream",
          "name": "stdout",
          "text": [
            "0    Perch\n",
            "1    Smelt\n",
            "2     Pike\n",
            "3    Roach\n",
            "4    Perch\n",
            "dtype: object\n",
            "['Perch' 'Smelt' 'Pike' 'Whitefish' 'Perch']\n"
          ]
        }
      ]
    },
    {
      "cell_type": "markdown",
      "source": [
        "### Logistic Regression을 7번 사용하여 분류한 것이므로 7행이 있는 것이 당연!"
      ],
      "metadata": {
        "id": "igbLBokJM0bl"
      }
    },
    {
      "cell_type": "code",
      "source": [
        "print(lr.coef_.shape, lr.intercept_.shape)"
      ],
      "metadata": {
        "colab": {
          "base_uri": "https://localhost:8080/"
        },
        "id": "fhnGJEbgMn-e",
        "outputId": "f695776c-1474-4067-987e-7c89941f8ccd"
      },
      "execution_count": 67,
      "outputs": [
        {
          "output_type": "stream",
          "name": "stdout",
          "text": [
            "(7, 5) (7,)\n"
          ]
        }
      ]
    },
    {
      "cell_type": "markdown",
      "source": [
        "###시그모이드와 소프트맥스 함수의 차이\n",
        "\n",
        "- 시그모이드 : 하나의 선형 방정식의 출력값을 0~1로 압축\n",
        "- 소프트맥스 : 여러 출력값을 0~1로 압축하되, 여러 출력값의 합이 1이 되어야 함"
      ],
      "metadata": {
        "id": "U3nMXwCgM_og"
      }
    },
    {
      "cell_type": "code",
      "source": [
        "#z값을 소프트맥스로 계산하여 합을 1로 만들어보기\n",
        "\n",
        "decision = lr.decision_function(test_scaled[:5])\n",
        "print(np.round(decision, decimals=2))"
      ],
      "metadata": {
        "colab": {
          "base_uri": "https://localhost:8080/"
        },
        "id": "wg7boX24NeUn",
        "outputId": "eb49e55d-a066-4751-d48e-dc484953653c"
      },
      "execution_count": 70,
      "outputs": [
        {
          "output_type": "stream",
          "name": "stdout",
          "text": [
            "[[ -6.5    1.03   5.16  -2.73   3.34   0.33  -0.63]\n",
            " [-10.86   1.93   4.77  -2.4    2.98   7.84  -4.26]\n",
            " [ -4.34  -6.23   3.17   6.49   2.36   2.42  -3.87]\n",
            " [ -0.68   0.45   2.65  -1.19   3.26  -5.75   1.26]\n",
            " [ -6.4   -1.99   5.82  -0.11   3.5   -0.11  -0.71]]\n"
          ]
        }
      ]
    },
    {
      "cell_type": "code",
      "source": [
        "from scipy.special import softmax\n",
        "\n",
        "proba = softmax(decision, axis = 1)\n",
        "print(np.round(proba, decimals =3).sum(axis=1))\n"
      ],
      "metadata": {
        "colab": {
          "base_uri": "https://localhost:8080/"
        },
        "id": "yaL5Io_HN34N",
        "outputId": "18863a27-85ac-4b8c-fc79-67122914f4b3"
      },
      "execution_count": 72,
      "outputs": [
        {
          "output_type": "stream",
          "name": "stdout",
          "text": [
            "[1.001 1.    1.    1.001 0.998]\n"
          ]
        }
      ]
    }
  ]
}